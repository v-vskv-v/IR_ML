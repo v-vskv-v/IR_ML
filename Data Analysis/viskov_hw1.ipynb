{
 "cells": [
  {
   "cell_type": "markdown",
   "metadata": {},
   "source": [
    "**Общая информация**\n",
    "\n",
    "**Срок сдачи:** 20 марта 2019, 06:00 <br\\>\n",
    "**Штраф за опоздание:** -1 балл после 06:00 20 марта, -2 балла после 06:00 27 марта, -3 балла после 06:00 3 апреля\n",
    "\n",
    "При отправлении ДЗ указывайте фамилию в названии файла\n",
    "Присылать ДЗ необходимо в виде ссылки на свой github репозиторий в slack @alkhamush\n",
    "\n",
    "Необходимо в slack скинуть ссылку в личный чат @alkhamush\n",
    "Пример ссылки:\n",
    "https://github.com/stroykova/spheremailru/stroykova_hw1.ipynb \n",
    "\n",
    "\n",
    "Используйте данный Ipython Notebook при оформлении домашнего задания."
   ]
  },
  {
   "cell_type": "markdown",
   "metadata": {},
   "source": [
    "##### Задание 1 (2 баллов)\n",
    "Реализовать KNN в классе MyKNeighborsClassifier (обязательное условие: точность не ниже sklearn реализации)\n",
    "Разберитесь самостоятельно, какая мера расстояния используется в KNeighborsClassifier дефолтно и реализуйте свой алгоритм именно с этой мерой. Самостоятельно разберитесь, как считается score из KNeighborsClassifier и реализуйте аналог в своём классе. Score не должен уступать значению KNN из sklearn\n",
    "\n",
    "###### Задание 2 (2 балла)\n",
    "Добиться скорости работы на fit,  predict и predict_proba сравнимой со sklearn для iris и mnist\n",
    "Для этого используем numpy\n",
    "\n",
    "###### Задание 3 (2 балла)\n",
    "Для iris найдите такой параметр n_neighbors, при котором выдаётся наилучший score. Нарисуйте график зависимости score от n_neighbors\n",
    "\n",
    "###### Задание 4 (3 балла)\n",
    "Добавить algorithm='kd_tree' в реализацию KNN (использовать KDTree из sklearn.neighbors). Значение n_neighbors нужно взять из задания 3. Добиться скорости работы на fit,  predict и predict_proba сравнимой со sklearn для iris и mnist\n",
    "Для этого используем numpy. Score не должен уступать значению KNN из sklearn\n",
    "\n",
    "###### Задание 5 (1 балла)\n",
    "Описать для чего нужны следующие библиотеки/классы/функции (список будет ниже)\n",
    "\n",
    "**Штрафные баллы:**\n",
    "\n",
    "1. Невыполнение PEP8 -1 балл\n",
    "2. Отсутствие фамилии в имени скрипта (скрипт должен называться по аналогии со stroykova_hw1.ipynb) -1 балл\n",
    "3. Все строчки должны быть выполнены. Нужно, чтобы output команды можно было увидеть уже в git'е. В противном случае -1 балл\n",
    "4. При оформлении ДЗ нужно пользоваться данным файлом в качестве шаблона. Не нужно удалять и видоизменять структуру кода и текст. В противном случае -1 балл\n"
   ]
  },
  {
   "cell_type": "code",
   "execution_count": 1,
   "metadata": {},
   "outputs": [],
   "source": [
    "import numpy as np\n",
    "import matplotlib.pyplot as plt\n",
    "\n",
    "import seaborn as sns\n",
    "from sklearn import datasets\n",
    "from scipy.spatial import distance\n",
    "from sklearn.base import ClassifierMixin\n",
    "from sklearn.datasets import fetch_openml\n",
    "from sklearn.neighbors.base import NeighborsBase, KNeighborsMixin, SupervisedIntegerMixin \n",
    "from sklearn.model_selection import train_test_split\n",
    "from sklearn.neighbors import KNeighborsClassifier\n",
    "from sklearn.neighbors import KDTree\n",
    "%load_ext pycodestyle_magic"
   ]
  },
  {
   "cell_type": "code",
   "execution_count": 2,
   "metadata": {},
   "outputs": [],
   "source": [
    "#%%pycodestyle\n",
    "\n",
    "\n",
    "class MyKNeighborsClassifier(NeighborsBase, KNeighborsMixin,\n",
    "                             SupervisedIntegerMixin, ClassifierMixin):\n",
    "\n",
    "    def __init__(self, n_neighbors, algorithm='brute', classes=3):\n",
    "        self.n_neighbors = n_neighbors\n",
    "        self.algorithm = algorithm\n",
    "        self.classes = classes\n",
    "\n",
    "    def fit(self, X, y):\n",
    "        self.X = X.astype(dtype='float64')\n",
    "        self.y = y.astype(dtype='int32')\n",
    "        self.classes = np.unique(y).shape[0]\n",
    "\n",
    "    def distance(self, X, p=2):\n",
    "        return np.sum(np.absolute(X - self.X) ** p, axis=1) ** (1 / p)\n",
    "\n",
    "    def eucl(self, X):\n",
    "        return distance.cdist(X, self.X, 'euclidean')\n",
    "\n",
    "    def predict(self, X):\n",
    "        if self.algorithm == 'brute':\n",
    "            n_samples = X.shape[0]\n",
    "            prediction = np.zeros(n_samples, dtype='int32')\n",
    "            dist = self.eucl(X)\n",
    "            clusters = self.y[np.argsort(dist, axis=1)[:, :self.n_neighbors]]\n",
    "            for i in range(n_samples):\n",
    "                values = np.bincount(clusters[i, :])\n",
    "                prediction[i] = np.argmax(values)\n",
    "            return prediction\n",
    "\n",
    "        if self.algorithm == 'kd_tree':\n",
    "            n_samples = X.shape[0]\n",
    "            prediction = np.zeros(n_samples, dtype='int32')\n",
    "            tree = KDTree(self.X)\n",
    "            dist, ind = tree.query(X, k=self.n_neighbors)\n",
    "            clusters = self.y[ind]\n",
    "            for i in range(n_samples):\n",
    "                values = np.bincount(clusters[i, :])\n",
    "                prediction[i] = np.argmax(values)\n",
    "            return prediction\n",
    "\n",
    "    def predict_proba(self, X):\n",
    "        n_samples = X.shape[0]\n",
    "        proba = np.zeros((n_samples, self.classes))\n",
    "        dist = self.eucl(X)\n",
    "        clusters = self.y[np.argsort(dist, axis=1)[:, :self.n_neighbors]]\n",
    "        for i in range(n_samples):\n",
    "            values = np.bincount(clusters[i, :])\n",
    "            proba[i][:values.shape[0]] += values / self.n_neighbors\n",
    "        return proba\n",
    "\n",
    "    def score(self, X, y):\n",
    "        y = y.astype(dtype='int32')\n",
    "        prediction = self.predict(X)\n",
    "        n_samples = prediction.shape[0]\n",
    "        err = 0\n",
    "        for i in range(n_samples):\n",
    "            if (prediction[i] != y[i]):\n",
    "                err += 1\n",
    "        return 1 - err / n_samples\n",
    "\n"
   ]
  },
  {
   "cell_type": "markdown",
   "metadata": {},
   "source": [
    "**IRIS**"
   ]
  },
  {
   "cell_type": "code",
   "execution_count": 3,
   "metadata": {},
   "outputs": [],
   "source": [
    "iris = datasets.load_iris()"
   ]
  },
  {
   "cell_type": "code",
   "execution_count": 4,
   "metadata": {},
   "outputs": [],
   "source": [
    "X_train, X_test, y_train, y_test = train_test_split(iris.data, iris.target, test_size=0.1, stratify=iris.target)"
   ]
  },
  {
   "cell_type": "code",
   "execution_count": 5,
   "metadata": {},
   "outputs": [],
   "source": [
    "clf = KNeighborsClassifier(n_neighbors=2, algorithm='brute')\n",
    "my_clf = MyKNeighborsClassifier(n_neighbors=2, algorithm='brute')"
   ]
  },
  {
   "cell_type": "code",
   "execution_count": 6,
   "metadata": {},
   "outputs": [
    {
     "data": {
      "text/plain": [
       "MyKNeighborsClassifier(algorithm='brute', classes=3, n_neighbors=2)"
      ]
     },
     "execution_count": 6,
     "metadata": {},
     "output_type": "execute_result"
    }
   ],
   "source": [
    "my_clf "
   ]
  },
  {
   "cell_type": "code",
   "execution_count": 7,
   "metadata": {},
   "outputs": [
    {
     "name": "stdout",
     "output_type": "stream",
     "text": [
      "Wall time: 997 µs\n"
     ]
    },
    {
     "data": {
      "text/plain": [
       "KNeighborsClassifier(algorithm='brute', leaf_size=30, metric='minkowski',\n",
       "           metric_params=None, n_jobs=None, n_neighbors=2, p=2,\n",
       "           weights='uniform')"
      ]
     },
     "execution_count": 7,
     "metadata": {},
     "output_type": "execute_result"
    }
   ],
   "source": [
    "%time clf.fit(X_train, y_train)"
   ]
  },
  {
   "cell_type": "code",
   "execution_count": 8,
   "metadata": {},
   "outputs": [
    {
     "name": "stdout",
     "output_type": "stream",
     "text": [
      "Wall time: 998 µs\n"
     ]
    }
   ],
   "source": [
    "%time my_clf.fit(X_train, y_train)"
   ]
  },
  {
   "cell_type": "code",
   "execution_count": 9,
   "metadata": {},
   "outputs": [
    {
     "name": "stdout",
     "output_type": "stream",
     "text": [
      "Wall time: 4.99 ms\n"
     ]
    },
    {
     "data": {
      "text/plain": [
       "array([0, 2, 2, 0, 1, 2, 0, 0, 0, 1, 2, 2, 2, 1, 1])"
      ]
     },
     "execution_count": 9,
     "metadata": {},
     "output_type": "execute_result"
    }
   ],
   "source": [
    "%time clf.predict(X_test)"
   ]
  },
  {
   "cell_type": "code",
   "execution_count": 10,
   "metadata": {},
   "outputs": [
    {
     "name": "stdout",
     "output_type": "stream",
     "text": [
      "Wall time: 998 µs\n"
     ]
    },
    {
     "data": {
      "text/plain": [
       "array([0, 2, 2, 0, 1, 2, 0, 0, 0, 1, 2, 2, 2, 1, 1])"
      ]
     },
     "execution_count": 10,
     "metadata": {},
     "output_type": "execute_result"
    }
   ],
   "source": [
    "%time my_clf.predict(X_test)"
   ]
  },
  {
   "cell_type": "code",
   "execution_count": 11,
   "metadata": {},
   "outputs": [
    {
     "name": "stdout",
     "output_type": "stream",
     "text": [
      "Wall time: 1.99 ms\n"
     ]
    },
    {
     "data": {
      "text/plain": [
       "array([[1., 0., 0.],\n",
       "       [0., 0., 1.],\n",
       "       [0., 0., 1.],\n",
       "       [1., 0., 0.],\n",
       "       [0., 1., 0.],\n",
       "       [0., 0., 1.],\n",
       "       [1., 0., 0.],\n",
       "       [1., 0., 0.],\n",
       "       [1., 0., 0.],\n",
       "       [0., 1., 0.],\n",
       "       [0., 0., 1.],\n",
       "       [0., 0., 1.],\n",
       "       [0., 0., 1.],\n",
       "       [0., 1., 0.],\n",
       "       [0., 1., 0.]])"
      ]
     },
     "execution_count": 11,
     "metadata": {},
     "output_type": "execute_result"
    }
   ],
   "source": [
    "%time clf.predict_proba(X_test)"
   ]
  },
  {
   "cell_type": "code",
   "execution_count": 12,
   "metadata": {},
   "outputs": [
    {
     "name": "stdout",
     "output_type": "stream",
     "text": [
      "Wall time: 0 ns\n"
     ]
    },
    {
     "data": {
      "text/plain": [
       "array([[1., 0., 0.],\n",
       "       [0., 0., 1.],\n",
       "       [0., 0., 1.],\n",
       "       [1., 0., 0.],\n",
       "       [0., 1., 0.],\n",
       "       [0., 0., 1.],\n",
       "       [1., 0., 0.],\n",
       "       [1., 0., 0.],\n",
       "       [1., 0., 0.],\n",
       "       [0., 1., 0.],\n",
       "       [0., 0., 1.],\n",
       "       [0., 0., 1.],\n",
       "       [0., 0., 1.],\n",
       "       [0., 1., 0.],\n",
       "       [0., 1., 0.]])"
      ]
     },
     "execution_count": 12,
     "metadata": {},
     "output_type": "execute_result"
    }
   ],
   "source": [
    "%time my_clf.predict_proba(X_test)"
   ]
  },
  {
   "cell_type": "code",
   "execution_count": 13,
   "metadata": {},
   "outputs": [
    {
     "data": {
      "text/plain": [
       "0.9333333333333333"
      ]
     },
     "execution_count": 13,
     "metadata": {},
     "output_type": "execute_result"
    }
   ],
   "source": [
    "clf.score(X_test, y_test)"
   ]
  },
  {
   "cell_type": "code",
   "execution_count": 14,
   "metadata": {},
   "outputs": [
    {
     "data": {
      "text/plain": [
       "0.9333333333333333"
      ]
     },
     "execution_count": 14,
     "metadata": {},
     "output_type": "execute_result"
    }
   ],
   "source": [
    "my_clf.score(X_test, y_test)"
   ]
  },
  {
   "cell_type": "markdown",
   "metadata": {},
   "source": [
    "Задание 3"
   ]
  },
  {
   "cell_type": "code",
   "execution_count": 15,
   "metadata": {},
   "outputs": [
    {
     "name": "stdout",
     "output_type": "stream",
     "text": [
      "11\n"
     ]
    },
    {
     "data": {
      "text/plain": [
       "Text(0.5, 0, 'n_neighbors')"
      ]
     },
     "execution_count": 15,
     "metadata": {},
     "output_type": "execute_result"
    },
    {
     "data": {
      "image/png": "[encoded data removed]",
      "text/plain": [
       "<Figure size 1440x360 with 1 Axes>"
      ]
     },
     "metadata": {
      "needs_background": "light"
     },
     "output_type": "display_data"
    }
   ],
   "source": [
    "N = 20\n",
    "Y = np.zeros(N)\n",
    "X = np.arange(1, N+1)\n",
    "for i in X:\n",
    "    for j in range(N):\n",
    "        X_train, X_test, y_train, y_test = train_test_split(iris.data,\n",
    "                                                            iris.target,\n",
    "                                                            test_size=0.1,\n",
    "                                                            stratify=iris.target)\n",
    "        my_clf = MyKNeighborsClassifier(n_neighbors=i)\n",
    "        my_clf.fit(X_train, y_train)\n",
    "        Y[i - 1] += my_clf.score(X_test, y_test)\n",
    "Y /= N\n",
    "new_nn = np.argmax(Y) + 1\n",
    "print(new_nn)\n",
    "fig = plt.figure(figsize=(20, 5))\n",
    "ax = plt.subplot(111) \n",
    "sns.lineplot(x=X, y=Y)\n",
    "ax.set_title('Зависимость score от n_neighbors')\n",
    "ax.set_ylabel('score')\n",
    "ax.set_xlabel('n_neighbors')"
   ]
  },
  {
   "cell_type": "markdown",
   "metadata": {},
   "source": [
    "**MNIST**"
   ]
  },
  {
   "cell_type": "code",
   "execution_count": 16,
   "metadata": {},
   "outputs": [],
   "source": [
    "mnist = fetch_openml('mnist_784', cache=True)"
   ]
  },
  {
   "cell_type": "code",
   "execution_count": 17,
   "metadata": {},
   "outputs": [],
   "source": [
    "X_train, X_test, y_train, y_test = train_test_split(mnist.data,\n",
    "                                                    mnist.target,\n",
    "                                                    test_size=0.01,\n",
    "                                                    stratify=mnist.target)"
   ]
  },
  {
   "cell_type": "code",
   "execution_count": 18,
   "metadata": {},
   "outputs": [],
   "source": [
    "clf = KNeighborsClassifier(n_neighbors=2, algorithm='brute')\n",
    "my_clf = MyKNeighborsClassifier(n_neighbors=2, algorithm='brute')"
   ]
  },
  {
   "cell_type": "code",
   "execution_count": 19,
   "metadata": {},
   "outputs": [
    {
     "name": "stdout",
     "output_type": "stream",
     "text": [
      "Wall time: 210 ms\n"
     ]
    },
    {
     "data": {
      "text/plain": [
       "KNeighborsClassifier(algorithm='brute', leaf_size=30, metric='minkowski',\n",
       "           metric_params=None, n_jobs=None, n_neighbors=2, p=2,\n",
       "           weights='uniform')"
      ]
     },
     "execution_count": 19,
     "metadata": {},
     "output_type": "execute_result"
    }
   ],
   "source": [
    "%time clf.fit(X_train, y_train)"
   ]
  },
  {
   "cell_type": "code",
   "execution_count": 20,
   "metadata": {},
   "outputs": [
    {
     "name": "stdout",
     "output_type": "stream",
     "text": [
      "Wall time: 139 ms\n"
     ]
    }
   ],
   "source": [
    "%time my_clf.fit(X_train, y_train)"
   ]
  },
  {
   "cell_type": "code",
   "execution_count": 21,
   "metadata": {},
   "outputs": [
    {
     "name": "stdout",
     "output_type": "stream",
     "text": [
      "Wall time: 1.56 s\n"
     ]
    },
    {
     "data": {
      "text/plain": [
       "array(['2', '9', '4', '4', '9', '9', '7', '7', '6', '0', '6', '4', '2',\n",
       "       '2', '1', '7', '1', '3', '5', '0', '8', '4', '1', '0', '3', '8',\n",
       "       '7', '8', '9', '9', '9', '3', '1', '0', '7', '3', '0', '0', '1',\n",
       "       '6', '8', '5', '2', '2', '3', '1', '4', '7', '7', '4', '1', '1',\n",
       "       '2', '7', '1', '2', '7', '8', '8', '0', '8', '9', '4', '9', '6',\n",
       "       '1', '4', '9', '7', '2', '5', '8', '8', '5', '7', '7', '1', '4',\n",
       "       '2', '4', '2', '6', '2', '8', '2', '9', '8', '0', '0', '1', '6',\n",
       "       '5', '4', '7', '7', '1', '5', '6', '1', '1', '0', '2', '6', '8',\n",
       "       '4', '9', '5', '8', '1', '2', '6', '2', '0', '1', '0', '0', '0',\n",
       "       '4', '4', '0', '9', '7', '7', '1', '3', '6', '3', '9', '7', '7',\n",
       "       '6', '4', '7', '6', '7', '1', '1', '0', '3', '2', '1', '3', '4',\n",
       "       '2', '3', '5', '3', '6', '8', '3', '9', '5', '0', '4', '9', '9',\n",
       "       '1', '0', '2', '1', '9', '0', '9', '6', '4', '9', '4', '3', '5',\n",
       "       '8', '8', '6', '9', '4', '1', '4', '4', '7', '8', '0', '0', '7',\n",
       "       '6', '9', '9', '7', '0', '6', '4', '6', '2', '1', '6', '1', '1',\n",
       "       '6', '3', '6', '3', '1', '0', '2', '1', '3', '1', '6', '8', '2',\n",
       "       '3', '0', '3', '5', '9', '4', '5', '1', '3', '4', '8', '7', '3',\n",
       "       '1', '4', '7', '8', '4', '0', '0', '3', '3', '8', '4', '4', '1',\n",
       "       '6', '1', '5', '8', '2', '9', '3', '5', '1', '5', '4', '3', '3',\n",
       "       '5', '7', '3', '7', '5', '1', '8', '0', '8', '6', '6', '9', '8',\n",
       "       '2', '2', '9', '0', '2', '2', '1', '0', '8', '9', '3', '8', '8',\n",
       "       '6', '2', '5', '1', '4', '0', '5', '2', '3', '8', '1', '3', '8',\n",
       "       '5', '9', '4', '3', '5', '4', '8', '9', '7', '5', '5', '5', '4',\n",
       "       '1', '8', '7', '7', '7', '3', '6', '6', '2', '9', '6', '4', '6',\n",
       "       '9', '0', '8', '5', '0', '0', '1', '2', '3', '1', '6', '3', '8',\n",
       "       '7', '6', '0', '8', '7', '4', '3', '2', '0', '1', '1', '2', '9',\n",
       "       '3', '1', '6', '1', '8', '9', '2', '9', '3', '6', '4', '9', '6',\n",
       "       '6', '3', '1', '0', '7', '8', '2', '2', '6', '8', '4', '4', '7',\n",
       "       '4', '4', '6', '9', '7', '7', '1', '4', '0', '0', '4', '5', '2',\n",
       "       '5', '3', '2', '1', '2', '9', '0', '8', '9', '9', '7', '9', '0',\n",
       "       '3', '6', '8', '6', '7', '7', '5', '0', '7', '0', '5', '1', '0',\n",
       "       '1', '1', '5', '3', '7', '7', '6', '8', '9', '7', '0', '1', '8',\n",
       "       '6', '3', '4', '4', '5', '2', '5', '2', '4', '9', '8', '6', '5',\n",
       "       '9', '4', '4', '1', '8', '3', '1', '7', '1', '6', '4', '6', '8',\n",
       "       '1', '1', '5', '1', '9', '3', '3', '9', '7', '2', '1', '2', '4',\n",
       "       '5', '0', '5', '3', '2', '6', '8', '3', '6', '5', '0', '1', '5',\n",
       "       '0', '2', '2', '6', '9', '5', '8', '2', '1', '6', '0', '7', '2',\n",
       "       '9', '0', '5', '9', '6', '6', '1', '1', '4', '3', '5', '3', '5',\n",
       "       '3', '3', '2', '0', '2', '4', '7', '5', '8', '6', '8', '9', '2',\n",
       "       '2', '9', '8', '0', '7', '7', '2', '7', '5', '5', '3', '9', '7',\n",
       "       '3', '9', '7', '5', '3', '9', '7', '0', '3', '6', '8', '1', '6',\n",
       "       '1', '7', '0', '3', '2', '5', '7', '0', '7', '5', '3', '2', '7',\n",
       "       '8', '6', '0', '7', '3', '2', '9', '1', '4', '5', '0', '1', '2',\n",
       "       '9', '0', '8', '0', '8', '1', '2', '1', '7', '4', '4', '2', '6',\n",
       "       '9', '7', '6', '4', '1', '2', '5', '8', '3', '3', '3', '1', '0',\n",
       "       '8', '3', '7', '7', '9', '4', '1', '6', '1', '3', '9', '2', '2',\n",
       "       '6', '1', '9', '0', '4', '3', '3', '2', '1', '9', '2', '9', '7',\n",
       "       '7', '7', '8', '2', '0', '3', '2', '0', '4', '6', '3', '4', '3',\n",
       "       '1', '5', '7', '2', '3', '1', '5', '4', '2', '7', '8', '0', '3',\n",
       "       '1', '4', '5', '3', '7', '2', '3', '8', '4', '8', '0', '7', '5',\n",
       "       '6', '0', '2', '0', '5', '8', '3', '8', '7', '1', '9', '7', '5',\n",
       "       '4', '0', '5', '6', '5', '3', '4', '4', '0', '3', '0', '0', '4',\n",
       "       '6', '1', '4', '1', '4', '4', '4', '7', '4', '7', '4', '2', '2',\n",
       "       '6', '9', '9', '3', '2', '8', '5', '9', '2', '1', '5'],\n",
       "      dtype=object)"
      ]
     },
     "execution_count": 21,
     "metadata": {},
     "output_type": "execute_result"
    }
   ],
   "source": [
    "%time clf.predict(X_test)"
   ]
  },
  {
   "cell_type": "code",
   "execution_count": 22,
   "metadata": {},
   "outputs": [
    {
     "name": "stdout",
     "output_type": "stream",
     "text": [
      "Wall time: 47 s\n"
     ]
    },
    {
     "data": {
      "text/plain": [
       "array([2, 9, 4, 4, 9, 9, 7, 7, 6, 0, 6, 4, 2, 2, 1, 7, 1, 3, 5, 0, 8, 4,\n",
       "       1, 0, 3, 8, 7, 8, 9, 9, 9, 3, 1, 0, 7, 3, 0, 0, 1, 6, 8, 5, 2, 2,\n",
       "       3, 1, 4, 7, 7, 4, 1, 1, 2, 7, 1, 2, 7, 8, 8, 0, 8, 9, 4, 9, 6, 1,\n",
       "       4, 9, 7, 2, 5, 8, 8, 5, 7, 7, 1, 4, 2, 4, 2, 6, 2, 8, 2, 9, 8, 0,\n",
       "       0, 1, 6, 5, 4, 7, 7, 1, 5, 6, 1, 1, 0, 2, 6, 8, 4, 9, 5, 8, 1, 2,\n",
       "       6, 2, 0, 1, 0, 0, 0, 4, 4, 0, 9, 7, 7, 1, 3, 6, 3, 9, 7, 7, 6, 4,\n",
       "       7, 6, 7, 1, 1, 0, 3, 2, 1, 3, 4, 2, 3, 5, 3, 6, 8, 3, 9, 5, 0, 4,\n",
       "       9, 9, 1, 0, 2, 1, 9, 0, 9, 6, 4, 9, 4, 3, 5, 8, 8, 6, 9, 4, 1, 4,\n",
       "       4, 7, 8, 0, 0, 7, 6, 9, 9, 7, 0, 6, 4, 6, 2, 1, 6, 1, 1, 6, 3, 6,\n",
       "       3, 1, 0, 2, 1, 3, 1, 6, 8, 2, 3, 0, 3, 5, 9, 4, 5, 1, 3, 4, 8, 7,\n",
       "       3, 1, 4, 7, 8, 4, 0, 0, 3, 3, 8, 4, 4, 1, 6, 1, 5, 8, 2, 9, 3, 5,\n",
       "       1, 5, 4, 3, 3, 5, 7, 3, 7, 5, 1, 8, 0, 8, 6, 6, 9, 8, 2, 2, 9, 0,\n",
       "       2, 2, 1, 0, 8, 9, 3, 8, 8, 6, 2, 5, 1, 4, 0, 5, 2, 3, 8, 1, 3, 8,\n",
       "       5, 9, 4, 3, 5, 4, 8, 9, 7, 5, 5, 5, 4, 1, 8, 7, 7, 7, 3, 6, 6, 2,\n",
       "       9, 6, 4, 6, 9, 0, 8, 5, 0, 0, 1, 2, 3, 1, 6, 3, 8, 7, 6, 0, 8, 7,\n",
       "       4, 3, 2, 0, 1, 1, 2, 9, 3, 1, 6, 1, 8, 9, 2, 9, 3, 6, 4, 9, 6, 6,\n",
       "       3, 1, 0, 7, 8, 2, 2, 6, 8, 4, 4, 7, 4, 4, 6, 9, 7, 7, 1, 4, 0, 0,\n",
       "       4, 5, 2, 5, 3, 2, 1, 2, 9, 0, 8, 9, 9, 7, 9, 0, 3, 6, 8, 6, 7, 7,\n",
       "       5, 0, 7, 0, 5, 1, 0, 1, 1, 5, 3, 7, 7, 6, 8, 9, 7, 0, 1, 8, 6, 3,\n",
       "       4, 4, 5, 2, 5, 2, 4, 9, 8, 6, 5, 9, 4, 4, 1, 8, 3, 1, 7, 1, 6, 4,\n",
       "       6, 8, 1, 1, 5, 1, 9, 3, 3, 9, 7, 2, 1, 2, 4, 5, 0, 5, 3, 2, 6, 8,\n",
       "       3, 6, 5, 0, 1, 5, 0, 2, 2, 6, 9, 5, 8, 2, 1, 6, 0, 7, 2, 9, 0, 5,\n",
       "       9, 6, 6, 1, 1, 4, 3, 5, 3, 5, 3, 3, 2, 0, 2, 4, 7, 5, 8, 6, 8, 9,\n",
       "       2, 2, 9, 8, 0, 7, 7, 2, 7, 5, 5, 3, 9, 7, 3, 9, 7, 5, 3, 9, 7, 0,\n",
       "       3, 6, 8, 1, 6, 1, 7, 0, 3, 2, 5, 7, 0, 7, 5, 3, 2, 7, 8, 6, 0, 7,\n",
       "       3, 2, 9, 1, 4, 5, 0, 1, 2, 9, 0, 8, 0, 8, 1, 2, 1, 7, 4, 4, 2, 6,\n",
       "       9, 7, 6, 4, 1, 2, 5, 8, 3, 3, 3, 1, 0, 8, 3, 7, 7, 9, 4, 1, 6, 1,\n",
       "       3, 9, 2, 2, 6, 1, 9, 0, 4, 3, 3, 2, 1, 9, 2, 9, 7, 7, 7, 8, 2, 0,\n",
       "       3, 2, 0, 4, 6, 3, 4, 3, 1, 5, 7, 2, 3, 1, 5, 4, 2, 7, 8, 0, 3, 1,\n",
       "       4, 5, 3, 7, 2, 3, 8, 4, 8, 0, 7, 5, 6, 0, 2, 0, 5, 8, 3, 8, 7, 1,\n",
       "       9, 7, 5, 4, 0, 5, 6, 5, 3, 4, 4, 0, 3, 0, 0, 4, 6, 1, 4, 1, 4, 4,\n",
       "       4, 7, 4, 7, 4, 2, 2, 6, 9, 9, 3, 2, 8, 5, 9, 2, 1, 5])"
      ]
     },
     "execution_count": 22,
     "metadata": {},
     "output_type": "execute_result"
    }
   ],
   "source": [
    "%time my_clf.predict(X_test)"
   ]
  },
  {
   "cell_type": "code",
   "execution_count": 23,
   "metadata": {},
   "outputs": [
    {
     "name": "stdout",
     "output_type": "stream",
     "text": [
      "Wall time: 1.59 s\n"
     ]
    },
    {
     "data": {
      "text/plain": [
       "array([[0., 0., 1., ..., 0., 0., 0.],\n",
       "       [0., 0., 0., ..., 0., 0., 1.],\n",
       "       [0., 0., 0., ..., 0., 0., 0.],\n",
       "       ...,\n",
       "       [0., 0., 1., ..., 0., 0., 0.],\n",
       "       [0., 1., 0., ..., 0., 0., 0.],\n",
       "       [0., 0., 0., ..., 0., 0., 0.]])"
      ]
     },
     "execution_count": 23,
     "metadata": {},
     "output_type": "execute_result"
    }
   ],
   "source": [
    "%time clf.predict_proba(X_test)"
   ]
  },
  {
   "cell_type": "code",
   "execution_count": 24,
   "metadata": {},
   "outputs": [
    {
     "name": "stdout",
     "output_type": "stream",
     "text": [
      "Wall time: 43.5 s\n"
     ]
    },
    {
     "data": {
      "text/plain": [
       "array([[0., 0., 1., ..., 0., 0., 0.],\n",
       "       [0., 0., 0., ..., 0., 0., 1.],\n",
       "       [0., 0., 0., ..., 0., 0., 0.],\n",
       "       ...,\n",
       "       [0., 0., 1., ..., 0., 0., 0.],\n",
       "       [0., 1., 0., ..., 0., 0., 0.],\n",
       "       [0., 0., 0., ..., 0., 0., 0.]])"
      ]
     },
     "execution_count": 24,
     "metadata": {},
     "output_type": "execute_result"
    }
   ],
   "source": [
    "%time my_clf.predict_proba(X_test)"
   ]
  },
  {
   "cell_type": "code",
   "execution_count": 25,
   "metadata": {},
   "outputs": [
    {
     "data": {
      "text/plain": [
       "0.9657142857142857"
      ]
     },
     "execution_count": 25,
     "metadata": {},
     "output_type": "execute_result"
    }
   ],
   "source": [
    "clf.score(X_test, y_test)"
   ]
  },
  {
   "cell_type": "code",
   "execution_count": 26,
   "metadata": {},
   "outputs": [
    {
     "data": {
      "text/plain": [
       "0.9657142857142857"
      ]
     },
     "execution_count": 26,
     "metadata": {},
     "output_type": "execute_result"
    }
   ],
   "source": [
    "my_clf.score(X_test, y_test)"
   ]
  },
  {
   "cell_type": "markdown",
   "metadata": {},
   "source": [
    "Задание 4"
   ]
  },
  {
   "cell_type": "code",
   "execution_count": 27,
   "metadata": {},
   "outputs": [],
   "source": [
    "clf = KNeighborsClassifier(n_neighbors=new_nn, algorithm='kd_tree')\n",
    "my_clf = MyKNeighborsClassifier(n_neighbors=new_nn, algorithm='kd_tree')"
   ]
  },
  {
   "cell_type": "code",
   "execution_count": 28,
   "metadata": {},
   "outputs": [],
   "source": [
    "X_train, X_test, y_train, y_test = train_test_split(mnist.data,\n",
    "                                                    mnist.target,\n",
    "                                                    test_size=0.01,\n",
    "                                                    stratify=mnist.target)"
   ]
  },
  {
   "cell_type": "code",
   "execution_count": 29,
   "metadata": {},
   "outputs": [
    {
     "name": "stdout",
     "output_type": "stream",
     "text": [
      "Wall time: 22.2 s\n"
     ]
    },
    {
     "data": {
      "text/plain": [
       "KNeighborsClassifier(algorithm='kd_tree', leaf_size=30, metric='minkowski',\n",
       "           metric_params=None, n_jobs=None, n_neighbors=11, p=2,\n",
       "           weights='uniform')"
      ]
     },
     "execution_count": 29,
     "metadata": {},
     "output_type": "execute_result"
    }
   ],
   "source": [
    "%time clf.fit(X_train, y_train)"
   ]
  },
  {
   "cell_type": "code",
   "execution_count": 30,
   "metadata": {},
   "outputs": [
    {
     "name": "stdout",
     "output_type": "stream",
     "text": [
      "Wall time: 159 ms\n"
     ]
    }
   ],
   "source": [
    "%time my_clf.fit(X_train, y_train)"
   ]
  },
  {
   "cell_type": "code",
   "execution_count": 31,
   "metadata": {},
   "outputs": [
    {
     "name": "stdout",
     "output_type": "stream",
     "text": [
      "Wall time: 1min 4s\n"
     ]
    },
    {
     "data": {
      "text/plain": [
       "array(['5', '0', '9', '9', '0', '6', '0', '3', '0', '1', '5', '2', '0',\n",
       "       '6', '4', '1', '4', '3', '9', '8', '4', '9', '2', '6', '3', '4',\n",
       "       '5', '8', '0', '6', '9', '8', '1', '1', '7', '4', '2', '1', '3',\n",
       "       '5', '3', '2', '6', '2', '9', '2', '3', '0', '9', '2', '3', '8',\n",
       "       '3', '9', '7', '8', '7', '7', '5', '2', '5', '4', '4', '1', '5',\n",
       "       '9', '6', '0', '6', '4', '7', '1', '1', '4', '8', '6', '2', '1',\n",
       "       '0', '5', '3', '3', '8', '4', '0', '5', '7', '9', '5', '4', '4',\n",
       "       '0', '7', '2', '3', '3', '8', '3', '2', '1', '0', '9', '0', '2',\n",
       "       '1', '5', '6', '9', '8', '8', '7', '4', '3', '0', '2', '4', '7',\n",
       "       '5', '0', '3', '5', '3', '1', '5', '1', '2', '6', '0', '3', '9',\n",
       "       '2', '0', '3', '9', '6', '1', '1', '9', '9', '3', '5', '9', '8',\n",
       "       '9', '5', '3', '8', '6', '2', '9', '4', '4', '6', '1', '9', '7',\n",
       "       '7', '0', '7', '2', '9', '2', '3', '7', '6', '1', '8', '1', '1',\n",
       "       '7', '5', '0', '3', '4', '7', '2', '6', '9', '3', '1', '7', '1',\n",
       "       '2', '9', '8', '9', '7', '2', '7', '7', '5', '5', '3', '2', '5',\n",
       "       '2', '1', '7', '9', '6', '9', '0', '2', '3', '4', '3', '1', '5',\n",
       "       '5', '2', '8', '8', '3', '0', '6', '7', '6', '1', '6', '1', '0',\n",
       "       '0', '7', '9', '3', '8', '0', '3', '7', '6', '8', '4', '8', '4',\n",
       "       '4', '5', '4', '4', '8', '9', '9', '8', '0', '8', '4', '2', '8',\n",
       "       '9', '5', '3', '9', '2', '9', '6', '2', '8', '7', '0', '3', '8',\n",
       "       '1', '4', '2', '5', '2', '6', '4', '1', '4', '4', '7', '1', '1',\n",
       "       '7', '3', '6', '3', '7', '0', '4', '2', '1', '8', '7', '6', '3',\n",
       "       '2', '8', '9', '2', '9', '2', '8', '1', '1', '1', '8', '1', '4',\n",
       "       '6', '1', '1', '3', '9', '1', '1', '6', '9', '1', '7', '8', '4',\n",
       "       '8', '3', '0', '5', '0', '1', '2', '4', '8', '1', '8', '5', '0',\n",
       "       '7', '5', '9', '2', '5', '2', '0', '2', '5', '3', '1', '2', '2',\n",
       "       '9', '1', '7', '7', '0', '7', '9', '3', '3', '1', '2', '9', '9',\n",
       "       '8', '7', '9', '3', '6', '9', '2', '8', '3', '7', '7', '4', '0',\n",
       "       '3', '0', '1', '9', '7', '3', '7', '2', '3', '1', '8', '5', '5',\n",
       "       '3', '6', '3', '2', '0', '2', '3', '4', '7', '9', '1', '9', '8',\n",
       "       '4', '4', '1', '4', '8', '3', '6', '2', '4', '7', '8', '9', '7',\n",
       "       '0', '1', '3', '4', '2', '8', '9', '4', '6', '0', '6', '3', '5',\n",
       "       '0', '8', '0', '1', '8', '5', '8', '7', '6', '2', '8', '1', '6',\n",
       "       '3', '3', '0', '7', '5', '8', '7', '5', '7', '2', '5', '6', '6',\n",
       "       '4', '1', '3', '1', '4', '9', '6', '2', '8', '8', '0', '8', '0',\n",
       "       '0', '3', '6', '6', '0', '6', '3', '5', '6', '8', '3', '6', '5',\n",
       "       '5', '6', '8', '1', '7', '6', '9', '1', '6', '7', '2', '2', '1',\n",
       "       '1', '3', '7', '0', '7', '6', '7', '0', '2', '1', '6', '9', '2',\n",
       "       '6', '5', '0', '0', '7', '5', '2', '5', '2', '9', '0', '1', '1',\n",
       "       '7', '1', '5', '8', '4', '0', '5', '0', '9', '8', '3', '5', '8',\n",
       "       '7', '7', '9', '0', '4', '7', '3', '9', '5', '1', '9', '3', '2',\n",
       "       '4', '5', '7', '7', '8', '6', '1', '2', '9', '7', '1', '3', '0',\n",
       "       '8', '1', '7', '3', '0', '2', '8', '4', '1', '2', '4', '9', '0',\n",
       "       '1', '1', '5', '6', '4', '4', '1', '7', '7', '6', '5', '9', '0',\n",
       "       '4', '7', '9', '5', '0', '4', '8', '0', '1', '6', '7', '3', '6',\n",
       "       '0', '0', '4', '5', '6', '7', '8', '2', '8', '9', '6', '0', '6',\n",
       "       '9', '9', '0', '3', '2', '4', '1', '1', '3', '5', '6', '6', '6',\n",
       "       '8', '7', '8', '4', '9', '0', '4', '6', '3', '7', '0', '5', '4',\n",
       "       '4', '7', '5', '1', '0', '1', '6', '7', '8', '3', '3', '9', '6',\n",
       "       '0', '1', '8', '9', '9', '1', '0', '8', '2', '6', '4', '8', '5',\n",
       "       '1', '8', '7', '9', '6', '9', '4', '6', '1', '2', '4', '4', '6',\n",
       "       '3', '8', '3', '9', '4', '9', '0', '3', '1', '5', '7', '9', '6',\n",
       "       '0', '6', '0', '7', '5', '4', '4', '8', '0', '6', '2', '5', '9',\n",
       "       '8', '7', '1', '4', '5', '7', '2', '3', '0', '7', '6'],\n",
       "      dtype=object)"
      ]
     },
     "execution_count": 31,
     "metadata": {},
     "output_type": "execute_result"
    }
   ],
   "source": [
    "%time clf.predict(X_test)"
   ]
  },
  {
   "cell_type": "code",
   "execution_count": 32,
   "metadata": {},
   "outputs": [
    {
     "name": "stdout",
     "output_type": "stream",
     "text": [
      "Wall time: 1min 20s\n"
     ]
    },
    {
     "data": {
      "text/plain": [
       "array([5, 0, 9, 9, 0, 6, 0, 3, 0, 1, 5, 2, 0, 6, 4, 1, 4, 3, 9, 8, 4, 9,\n",
       "       2, 6, 3, 4, 5, 8, 0, 6, 9, 8, 1, 1, 7, 4, 2, 1, 3, 5, 3, 2, 6, 2,\n",
       "       9, 2, 3, 0, 9, 2, 3, 8, 3, 9, 7, 8, 7, 7, 5, 2, 5, 4, 4, 1, 5, 9,\n",
       "       6, 0, 6, 4, 7, 1, 1, 4, 8, 6, 2, 1, 0, 5, 3, 3, 8, 4, 0, 5, 7, 9,\n",
       "       5, 4, 4, 0, 7, 2, 3, 3, 8, 3, 2, 1, 0, 9, 0, 2, 1, 5, 6, 9, 8, 8,\n",
       "       7, 4, 3, 0, 2, 4, 7, 5, 0, 3, 5, 3, 1, 5, 1, 2, 6, 0, 3, 9, 2, 0,\n",
       "       3, 9, 6, 1, 1, 9, 9, 3, 5, 9, 8, 9, 5, 3, 8, 6, 2, 9, 4, 4, 6, 1,\n",
       "       9, 7, 7, 0, 7, 2, 9, 2, 3, 7, 6, 1, 8, 1, 1, 7, 5, 0, 3, 4, 7, 2,\n",
       "       6, 9, 3, 1, 7, 1, 2, 9, 8, 9, 7, 2, 7, 7, 5, 5, 3, 2, 5, 2, 1, 7,\n",
       "       9, 6, 9, 0, 2, 3, 4, 3, 1, 5, 5, 2, 8, 8, 3, 0, 6, 7, 6, 1, 6, 1,\n",
       "       0, 0, 7, 9, 3, 8, 0, 3, 7, 6, 8, 4, 8, 4, 4, 5, 4, 4, 8, 9, 9, 8,\n",
       "       0, 8, 4, 2, 8, 9, 5, 3, 9, 2, 9, 6, 2, 8, 7, 0, 3, 8, 1, 4, 2, 5,\n",
       "       2, 6, 4, 1, 4, 4, 7, 1, 1, 7, 3, 6, 3, 7, 0, 4, 2, 1, 8, 7, 6, 3,\n",
       "       2, 8, 9, 2, 9, 2, 8, 1, 1, 1, 8, 1, 4, 6, 1, 1, 3, 9, 1, 1, 6, 9,\n",
       "       1, 7, 8, 4, 8, 3, 0, 5, 0, 1, 2, 4, 8, 1, 8, 5, 0, 7, 5, 9, 2, 5,\n",
       "       2, 0, 2, 5, 3, 1, 2, 2, 9, 1, 7, 7, 0, 7, 9, 3, 3, 1, 2, 9, 9, 8,\n",
       "       7, 9, 3, 6, 9, 2, 8, 3, 7, 7, 4, 0, 3, 0, 1, 9, 7, 3, 7, 2, 3, 1,\n",
       "       8, 5, 5, 3, 6, 3, 2, 0, 2, 3, 4, 7, 9, 1, 9, 8, 4, 4, 1, 4, 8, 3,\n",
       "       6, 2, 4, 7, 8, 9, 7, 0, 1, 3, 4, 2, 8, 9, 4, 6, 0, 6, 3, 5, 0, 8,\n",
       "       0, 1, 8, 5, 8, 7, 6, 2, 8, 1, 6, 3, 3, 0, 7, 5, 8, 7, 5, 7, 2, 5,\n",
       "       6, 6, 4, 1, 3, 1, 4, 9, 6, 2, 8, 8, 0, 8, 0, 0, 3, 6, 6, 0, 6, 3,\n",
       "       5, 6, 8, 3, 6, 5, 5, 6, 8, 1, 7, 6, 9, 1, 6, 7, 2, 2, 1, 1, 3, 7,\n",
       "       0, 7, 6, 7, 0, 2, 1, 6, 9, 2, 6, 5, 0, 0, 7, 5, 2, 5, 2, 9, 0, 1,\n",
       "       1, 7, 1, 5, 8, 4, 0, 5, 0, 9, 8, 3, 5, 8, 7, 7, 9, 0, 4, 7, 3, 9,\n",
       "       5, 1, 9, 3, 2, 4, 5, 7, 7, 8, 6, 1, 2, 9, 7, 1, 3, 0, 8, 1, 7, 3,\n",
       "       0, 2, 8, 4, 1, 2, 4, 9, 0, 1, 1, 5, 6, 4, 4, 1, 7, 7, 6, 5, 9, 0,\n",
       "       4, 7, 9, 5, 0, 4, 8, 0, 1, 6, 7, 3, 6, 0, 0, 4, 5, 6, 7, 8, 2, 8,\n",
       "       9, 6, 0, 6, 9, 9, 0, 3, 2, 4, 1, 1, 3, 5, 6, 6, 6, 8, 7, 8, 4, 9,\n",
       "       0, 4, 6, 3, 7, 0, 5, 4, 4, 7, 5, 1, 0, 1, 6, 7, 8, 3, 3, 9, 6, 0,\n",
       "       1, 8, 9, 9, 1, 0, 8, 2, 6, 4, 8, 5, 1, 8, 7, 9, 6, 9, 4, 6, 1, 2,\n",
       "       4, 4, 6, 3, 8, 3, 9, 4, 9, 0, 3, 1, 5, 7, 9, 6, 0, 6, 0, 7, 5, 4,\n",
       "       4, 8, 0, 6, 2, 5, 9, 8, 7, 1, 4, 5, 7, 2, 3, 0, 7, 6])"
      ]
     },
     "execution_count": 32,
     "metadata": {},
     "output_type": "execute_result"
    }
   ],
   "source": [
    "%time my_clf.predict(X_test)"
   ]
  },
  {
   "cell_type": "code",
   "execution_count": 33,
   "metadata": {},
   "outputs": [
    {
     "name": "stdout",
     "output_type": "stream",
     "text": [
      "Wall time: 1min 10s\n"
     ]
    },
    {
     "data": {
      "text/plain": [
       "array([[0., 0., 0., ..., 0., 0., 0.],\n",
       "       [1., 0., 0., ..., 0., 0., 0.],\n",
       "       [0., 0., 0., ..., 0., 0., 1.],\n",
       "       ...,\n",
       "       [1., 0., 0., ..., 0., 0., 0.],\n",
       "       [0., 0., 0., ..., 1., 0., 0.],\n",
       "       [0., 0., 0., ..., 0., 0., 0.]])"
      ]
     },
     "execution_count": 33,
     "metadata": {},
     "output_type": "execute_result"
    }
   ],
   "source": [
    "%time clf.predict_proba(X_test)"
   ]
  },
  {
   "cell_type": "code",
   "execution_count": 34,
   "metadata": {},
   "outputs": [
    {
     "name": "stdout",
     "output_type": "stream",
     "text": [
      "Wall time: 49.6 s\n"
     ]
    },
    {
     "data": {
      "text/plain": [
       "array([[0., 0., 0., ..., 0., 0., 0.],\n",
       "       [1., 0., 0., ..., 0., 0., 0.],\n",
       "       [0., 0., 0., ..., 0., 0., 1.],\n",
       "       ...,\n",
       "       [1., 0., 0., ..., 0., 0., 0.],\n",
       "       [0., 0., 0., ..., 1., 0., 0.],\n",
       "       [0., 0., 0., ..., 0., 0., 0.]])"
      ]
     },
     "execution_count": 34,
     "metadata": {},
     "output_type": "execute_result"
    }
   ],
   "source": [
    "%time my_clf.predict_proba(X_test)"
   ]
  },
  {
   "cell_type": "code",
   "execution_count": 35,
   "metadata": {},
   "outputs": [
    {
     "data": {
      "text/plain": [
       "0.9614285714285714"
      ]
     },
     "execution_count": 35,
     "metadata": {},
     "output_type": "execute_result"
    }
   ],
   "source": [
    "clf.score(X_test, y_test)"
   ]
  },
  {
   "cell_type": "code",
   "execution_count": 36,
   "metadata": {},
   "outputs": [
    {
     "data": {
      "text/plain": [
       "0.9614285714285714"
      ]
     },
     "execution_count": 36,
     "metadata": {},
     "output_type": "execute_result"
    }
   ],
   "source": [
    "my_clf.score(X_test, y_test)"
   ]
  },
  {
   "cell_type": "markdown",
   "metadata": {},
   "source": [
    "Задание 5"
   ]
  },
  {
   "cell_type": "code",
   "execution_count": 37,
   "metadata": {},
   "outputs": [],
   "source": [
    "# seaborn\n",
    "# Это библиотека визуализации данных Python, основаннная на matplotlib.  \n",
    "# Он обеспечивает интерфейс высокого уровня для рисования привлекательной и информативной статистической графики, имеет больше\n",
    "# предустановленных параметров, что способствует более быстрой и комфортной работе.\n",
    "\n",
    "# matplotlib\n",
    "# Это высокоуровневая библиотека, используемая для визуализации данных двумерной графикой (3D-графика также поддержтивается).\n",
    "\n",
    "# train_test_split\n",
    "# Функция из модуля sklearn.cross_validation, которая разбивает данные на тестовую и обучающую выборки.\n",
    "# Параметры test_size и train_size определяются как: \n",
    "#                                                   размер_выборки / размер_данных\n",
    "\n",
    "# Pipelin%load_ext e (from sklearn.pipeline import Pipeline)\n",
    "# Загружает расширение IPython в notebook по имени e из предобработчика данных Pipeline, \n",
    "# который функционирует как составной (конвейерный) классификатор.\n",
    "\n",
    "# StandardScaler (from sklearn.preprocessing import StandardScaler)\n",
    "# Класс, используемый для масштабирования данных до единичной дисперсии.\n",
    "# С нормально распределенными данными работать проще, чем с исходным sample'ом.\n",
    "\n",
    "# ClassifierMixin\n",
    "# Класс, используемый всеми классификаторамии sklearn.\n",
    "# В классификации с несколькими метками это точность подмножества, которая является жесткой метрикой, \n",
    "# поскольку для каждого образца требуется, чтобы каждый набор меток был правильно предсказан.\n",
    "# Главный метод - score(X, y), возвращающий среднюю точность данных испытаний и меток.\n",
    "\n",
    "# NeighborsBase\n",
    "# Базовый класс для оценок ближайших соседей, включая выбор подходящиего алгоритма в зависимости от характеристик\n",
    "# входных данных.\n",
    "\n",
    "# KNeighborsMixin\n",
    "# Класс, реализующий алгоритм поиска K ближайших соседей с основным методом \n",
    "#           def kneighbors(self, X=None, n_neighbors=None, return_distance=True), реализующим сам поиск.\n",
    "\n",
    "# SupervisedIntegerMixin\n",
    "# Класс, используемый для обучения модели.\n",
    "# Основной метод - fit (X, y), обучающий модель, используя X в качестве данных обучения\n",
    "# и y в качестве целевых значений"
   ]
  }
 ],
 "metadata": {
  "kernelspec": {
   "display_name": "Python 3",
   "language": "python",
   "name": "python3"
  },
  "language_info": {
   "codemirror_mode": {
    "name": "ipython",
    "version": 3
   },
   "file_extension": ".py",
   "mimetype": "text/x-python",
   "name": "python",
   "nbconvert_exporter": "python",
   "pygments_lexer": "ipython3",
   "version": "3.7.1"
  }
 },
 "nbformat": 4,
 "nbformat_minor": 2
}
