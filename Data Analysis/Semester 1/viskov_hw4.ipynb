{
 "cells": [
  {
   "cell_type": "markdown",
   "metadata": {},
   "source": [
    "# Алгоритмы интеллектуальной обработки больших объемов данных\n",
    "## Домашнее задание №4 - Алгоритмы кластеризации\n"
   ]
  },
  {
   "cell_type": "markdown",
   "metadata": {},
   "source": [
    "###### <hr\\>\n",
    "**Общая информация**\n",
    "\n",
    "**Срок сдачи:** 6 мая 2019, 06:00 <br\\>\n",
    "**Штраф за опоздание:** -2 балла после 06:00 6 мая, -4 балла после 06:00 13 мая, -6 баллов после 06:00 20 мая -8 баллов  после 06:00 27 мая\n",
    "\n",
    "\n",
    "Используйте данный Ipython Notebook при оформлении домашнего задания.\n",
    "<hr\\>"
   ]
  },
  {
   "cell_type": "markdown",
   "metadata": {},
   "source": [
    "**Из чего состоит задание:**\n",
    "\n",
    "###### Теоретические вопросы (2 балла)\n",
    "\n",
    "###### Реализация алгоритма кластеризации (5 баллов)\n",
    "\n",
    "###### Боевое применение (3 балла)\n",
    "\n",
    "\n"
   ]
  },
  {
   "cell_type": "markdown",
   "metadata": {},
   "source": [
    "**Штрафные баллы:**\n",
    "\n",
    "1. Невыполнение PEP8 -1 балл\n",
    "2. Отсутствие фамилии в имени скрипта (скрипт должен называться по аналогии со stroykova_hw4.ipynb) -1 балл\n",
    "3. Все строчки должны быть выполнены. Нужно, чтобы output команды можно было увидеть уже в git'е. В противном случае -1 балл\n",
    "4. При оформлении ДЗ нужно пользоваться данным файлом в качестве шаблона. Не нужно удалять и видоизменять написанный код и текст. В противном случае -1 балл"
   ]
  },
  {
   "cell_type": "code",
   "execution_count": 1,
   "metadata": {},
   "outputs": [
    {
     "name": "stdout",
     "output_type": "stream",
     "text": [
      "Populating the interactive namespace from numpy and matplotlib\n"
     ]
    }
   ],
   "source": [
    "import time\n",
    "import pandas as pd\n",
    "import pylab as pl\n",
    "import numpy as np\n",
    "import scipy.spatial as ss\n",
    "import sklearn.cluster as sc\n",
    "import sklearn.manifold as sm\n",
    "import sklearn.datasets as ds\n",
    "import sklearn.metrics as smt\n",
    "from scipy.cluster import hierarchy\n",
    "from sklearn.mixture import GaussianMixture\n",
    "from sklearn.cluster import AgglomerativeClustering\n",
    "from sklearn.feature_extraction.text import TfidfVectorizer\n",
    "import matplotlib.pyplot as plt\n",
    "\n",
    "%matplotlib inline\n",
    "\n",
    "plt.style.use('ggplot')\n",
    "plt.rcParams['figure.figsize'] = (12,5)\n",
    "\n",
    "# Plotting config\n",
    "%pylab inline"
   ]
  },
  {
   "cell_type": "markdown",
   "metadata": {},
   "source": [
    "# Теоретическое введение\n"
   ]
  },
  {
   "cell_type": "markdown",
   "metadata": {},
   "source": [
    "Основная задача кластерного анализа — разбиение исходного набора объектов на группы (кластеры) таким образом, чтобы объекты в группе были похожи друг на друга, а объекты из разных групп - отличались. \n",
    "\n",
    "В этой работе мы будем реализовывать агломеративную кластеризацию. "
   ]
  },
  {
   "cell_type": "markdown",
   "metadata": {
    "collapsed": true
   },
   "source": [
    "## Агломеративная кластеризация"
   ]
  },
  {
   "cell_type": "markdown",
   "metadata": {},
   "source": [
    "Иерархические алгоритмы кластеризации строят на выборке систему вложенных разбиений.  Наиболее часто испоьзуемые иерархические алгоритмы - агломеративные алгоритмы, которые строят ирархию по восходящей, то есть от момента, когда все элементы являются отдельными кластерами, до того момента, пока вся выборка не станет одним кластером."
   ]
  },
  {
   "cell_type": "markdown",
   "metadata": {},
   "source": [
    "Сам алгоритм описать можно примерно так:\n",
    "\n",
    "* начинаем с ситуации, когда каждый объект - отдельный кластер\n",
    "* на каждом шаге совмещаем два наиболее близких кластера\n",
    "* останавливаемся, когда получаем требуемое количество или единственный кластер"
   ]
  },
  {
   "cell_type": "markdown",
   "metadata": {},
   "source": [
    "\n",
    "В данной работе Вам предлагается реализовать три варианта расстояний между кластерами, по которым Вы определяете пару для слияния: \n",
    "* Single linkage\n",
    "$$ d_{min}(C_i, C_j) = \\min_{\\mathbf{x} \\in C_i, \\mathbf{x}' \\in C_j} \\|\\mathbf{x} -\\mathbf{x}' \\| $$\n",
    "\n",
    "* Complete linkage\n",
    "$$ d_{max}(C_i, C_j) = \\max_{\\mathbf{x} \\in C_i, \\mathbf{x}' \\in C_j} \\|\\mathbf{x} -\\mathbf{x}' \\| $$\n",
    "\n",
    "* Average linkage\n",
    "$$ d_{avg}(C_i, C_j) = \\frac{1}{n_i n_j}\\sum_{\\mathbf{x} \\in C_i}\\sum_{\\mathbf{x}' \\in C_j} \\|\\mathbf{x} -\\mathbf{x}' \\| $$\n",
    "\n",
    "Как считать расстояние $\\|\\mathbf{x} -\\mathbf{x}' \\|$ между объектами Вы должны выбрать сами.  Вы должны четко понимать, что выбор расстояния между объектами - самое важное в такого рода алгоритмах. Передавайте название расстояния в конструктор класса, а потом, в зависимости от названия, применяете ту или иную функцию для подсчета расстояния. \n",
    "\n"
   ]
  },
  {
   "cell_type": "markdown",
   "metadata": {},
   "source": [
    "Для того, чтобы на втором этапе нам не пересчитывать заново расстояния между всеми парами кластеров, можно использовать Формулы Ланса-Вильямса, которые позволяют посчитать расстояние между кластерами после объединения, используя только расстояния между кластерами до объедения.  Таким образом, достаточно будет посчитать расстояния только между всеми одноэлементными кластерами (первый этап), а затем пересчитывать расстояния при их объединении через \n",
    "формулы Ланса-Вильямса. \n",
    "\n",
    "Общая  формула выглядит так:\n",
    "$$ d(C_i \\cup C_j, C_k) = a_i \\cdot d(C_i, C_k) + a_j \\cdot d(C_j, C_k) + b \\cdot d(C_i, C_j) + c \\cdot |d(C_i, C_k) - d(C_j, C_k)|$$\n",
    "\n",
    "Можно показать, что все относительно разумные кластерные расстояния можно описать данной формулой. \n",
    "\n",
    "Для интересущих нас linkage:\n",
    "\n",
    "* single-linkage       $a_i = \\frac{1}{2}, a_j =  \\frac{1}{2}, b = 0, c =  - \\frac{1}{2} $\n",
    "\n",
    "* complete-linkage     $a_i = \\frac{1}{2}, a_j =  \\frac{1}{2}, b = 0, c =   \\frac{1}{2} $\n",
    "\n",
    "* average-linkage       $a_i = \\frac{|C_i|}{|C_i \\cup C_j|}, a_j =  \\frac{|C_j|}{|C_i \\cup C_j|}, b = 0, c = 0 $\n",
    "\n"
   ]
  },
  {
   "cell_type": "markdown",
   "metadata": {},
   "source": [
    "# Теоретические вопросы (2 балла)\n",
    "В этой части Вам будут предложены теоретичские вопросы и задачи по теме. Вы, конечно, можете списать их у своего товарища или найти решение в интернете, но учтите, что они обязательно войдут в теоретический коллоквиум. Лучше разобраться в теме сейчас и успешно ответить на коллоквиуме, чем списать, не разобравшись в материале, и быть терзаемым совестью. \n",
    "\n",
    "\n",
    "Формулы надо оформлять в формате **LaTeX**."
   ]
  },
  {
   "cell_type": "markdown",
   "metadata": {},
   "source": [
    "Задача 1. Сходимость kmeans.\n",
    "\n",
    "Метод kmeans является частным случаем EM алгоритма и наиболее простым в обосновании сходимости. Докажите, что kmeans всегда сходится, и итераций не будет превышать $k^N$, где $k$ $-$ число кластеров, $N$ $-$ число объектов\n",
    "\n",
    "Подсказка: Вам стоит рассмотреть функционал, который минимизирует алгоритм, и подумать, как он изменяется на E шаге и на M шаге.\n",
    "\n"
   ]
  },
  {
   "cell_type": "markdown",
   "metadata": {},
   "source": [
    "***Ваше решение здесь***\n",
    "\n",
    "Введем функционал качества:\n",
    "$$ E(C) = \\sum_{n=1}^N\\sum_{k=1}^Kr_{n,k}||x_n-\\mu_k||^2 $$\n",
    "Объект может принадлежать единственному кластеру (следует из постановки задачи кластеризации), значит, на шаге E (пересчете $r_{n,k}$) при фиксированном $n$ будет существовать единственное $k$, для которого $r_{n,k} = 1$ и которому соответствует ближайший кластер к объекту $n$, остальные же обратятся в $0$, то есть сумма, приведенная выше, на шаге Е может быть переписана в виде:\n",
    "\n",
    "$$\\sum_{n=1}^N\\min_k ||x_n - \\mu_k||^2 = \\min_{k=\\overline{1,K}}\\sum_{n=1}^N||x_n - \\mu_k||^2$$\n",
    "\n",
    "На шаге M функция рассматривается как многочлен второй степени. В силу независимости кластеров задача разбивается на k подзадач, в которых необходимо найти оптимальное $\\mu_k$. Взяв производную от $\\sum_{t=1}^T||x_t - \\mu_k||^2$, где $T$ - число элементов в кластере, придем к равенству:\n",
    "\n",
    "$$ \\mu_k = \\frac{\\sum_{t=1}^Tx_t}{T}$$\n",
    "\n",
    "Итак, на каждом из шагов E и M функция $E(C)$ является невозрастающей, она ограничена снизу, значит, по теореме о сходимости монотонной ограниченной последовательности и из определения предела функции $E(C)$ и алгоритм вместе с ней сходится.\n",
    "\n",
    "Число итераций не будет превышать числа возможных распределений $N$ объектов по $k$ кластерам, которых в точности $k^N$. Это следует из того, что на каждом шаге мы находим и запоминаем наиболее оптимальные из уже просмотренных параметры, которые описывают единственное распределение."
   ]
  },
  {
   "cell_type": "markdown",
   "metadata": {},
   "source": [
    "Задача 2. Сходимость EM.\n",
    "\n",
    "Разобравшись со сходимостью kmeans, можно догадаться и до ответа про EM алгоритм.\n",
    "\n",
    "При каком условии на правдоподобие системы EM алгоритм будет  сходиться?\n",
    "\n"
   ]
  },
  {
   "cell_type": "markdown",
   "metadata": {},
   "source": [
    "***Ваше решение здесь***\n",
    "\n",
    "Он будет сходиться, если выполнены условия регулярности и если зависимость событий, вероятности которых входят в произведение, будет мала, то есть если будет выполняться изначально принятое соглашение о независимости событий.\n",
    "\n",
    "EM алгоритм для функции правдоподобия работает аналогично k-means: на шаге E максимизируется нижняя оценка L, на шаге M берется наибольшее значение значение функции для фиксированного мнимого параметра, то есть L не убывает и является ограниченной сверху нулем, следовательно, L также сходится."
   ]
  },
  {
   "cell_type": "markdown",
   "metadata": {},
   "source": [
    "Задача 3. Формулы Ланса-Вильямса.\n",
    "\n",
    "Формулы Ланса-Вильямса крайне удобны для быстрого пересчта расстояний в агломеративной кластеризации. Давайте докажем  формулы для single и complete linkage. \n",
    "\n",
    "Докажите, что:\n",
    "\n",
    "$d_{\\min}(U \\cup V, S) = \\frac{1}{2} d_{\\min}(U, S) + \\frac{1}{2} d_{\\min}(V, S)  - \\frac{1}{2} | d_{\\min}(U, S) - d_{\\min}(V, S) |  $\n",
    "\n",
    "\n",
    "$d_{\\max}(U \\cup V, S) = \\frac{1}{2} d_{\\max}(U, S) + \\frac{1}{2} d_{\\max}(V, S)  + \\frac{1}{2} | d_{\\max}(U, S) - d_{\\max}(V, S) |  $\n",
    "\n",
    "\n"
   ]
  },
  {
   "cell_type": "markdown",
   "metadata": {},
   "source": [
    "***Ваше решение здесь***\n",
    "\n",
    "В силу независимости множеств $U$ и $V$ имеют место следующие формулы:\n",
    "\n",
    "$d_{\\min}(U \\cup V, S) = \\min{(d_{\\min}(U, S),\\ d_{\\min}(V, S))}  $\n",
    "\n",
    "$d_{\\max}(U \\cup V, S) = \\max{(d_{\\max}(U, S),\\ d_{\\max}(V, S))}  $\n",
    "\n",
    "Они аналогичны данным."
   ]
  },
  {
   "cell_type": "markdown",
   "metadata": {},
   "source": [
    "# Реализация алгоритма кластеризации  (5 баллов)"
   ]
  },
  {
   "cell_type": "markdown",
   "metadata": {},
   "source": [
    "Алгоритм кластеризации должен удовлетворять следующему интерфейсу. Конструктор принимает набор параметров, необходимых для работы алгоритма кластеризации. Метод `fit` подсчитывает параметры модели и возвращает `self`. Метод `predict` возвращает вектор с индексами кластеров для поданных в него объектов `x`. "
   ]
  },
  {
   "cell_type": "code",
   "execution_count": 2,
   "metadata": {},
   "outputs": [],
   "source": [
    "from sklearn.base import BaseEstimator, ClusterMixin\n",
    "\n",
    "\n",
    "class Clustering(BaseEstimator, ClusterMixin):    \n",
    "    \n",
    "    def __init__(self, metric='euclidean',\n",
    "                 linkage='single', n_clusters=2, **kwargs):\n",
    "        self.metric = metric\n",
    "        if metric == 'euclidean':\n",
    "            self.distance = self.__euclidean\n",
    "        if metric == 'manhattan':\n",
    "            self.distance = self.__manhattan\n",
    "        if metric == 'cosine':\n",
    "            self.distance = self.__cosine\n",
    "        self.indent = n_clusters\n",
    "        self.linkage = linkage\n",
    "        self.dendrogram = np.array([])\n",
    "    \n",
    "    def __euclidean(self, a, b):\n",
    "        c = a - b\n",
    "        return np.sqrt(np.dot(c, c.T))\n",
    "\n",
    "    def __cosine(self, a, b):\n",
    "        a = np.array(a)\n",
    "        b = np.array(b)\n",
    "        t = np.dot(a, b.T)\n",
    "        p = sqrt((a ** 2).sum()) * sqrt((b ** 2).sum())\n",
    "        if t / p > 1:\n",
    "            return 0\n",
    "        return np.arccos(t / p)\n",
    "\n",
    "\n",
    "    def __manhattan(self, a, b):\n",
    "        c = a - b\n",
    "        return np.sum(np.absolute(c))  \n",
    "    \n",
    "    def __linkage(self, x, mask1, mask2):\n",
    "        coef = np.zeros(3)\n",
    "        if self.linkage == 'single':\n",
    "            coef[:] = 0.5, 0.5, -0.5\n",
    "        if self.linkage == 'complete':\n",
    "            coef[:] = 0.5, 0.5, 0.5\n",
    "        if self.linkage == 'average':\n",
    "            c1_quantity = np.sum(mask1)\n",
    "            c2_quantity = np.sum(mask2)\n",
    "            all_quantity = c1_quantity + c2_quantity\n",
    "            coef[:2] = c1_quantity, c2_quantity\n",
    "            coef /= all_quantity\n",
    "        for k in range(self.size):\n",
    "            d_i_k = x[k][mask1][0]\n",
    "            d_j_k = x[k][mask2][0]\n",
    "            d_ij_k = coef[0] * d_i_k + coef[1] * d_j_k\n",
    "            d_ij_k += coef[2] * np.absolute(d_i_k - d_j_k)\n",
    "            x[k, mask1 + mask2] = x[mask1 + mask2, k] = d_ij_k\n",
    "            if mask1[k] or mask2[k]:\n",
    "                x[k, mask1] = x[mask1, k] = x[k, mask2] = x[mask2, k] = 0\n",
    "        return x            \n",
    "\n",
    "    def __find_min(self, x, clusters):\n",
    "        min_info = np.array([0, 0, -1, 0], dtype='float64')\n",
    "        for i in range(self.size):\n",
    "            for j in range(i + 1, self.size):            \n",
    "                if (min_info[2] > x[i][j] or min_info[2] == -1) \\\n",
    "                and clusters[i] != clusters[j]:\n",
    "                    min_info[:3] = i, j, x[i][j]\n",
    "        return min_info\n",
    "\n",
    "    def __fit(self, x):\n",
    "        size = self.size\n",
    "        distances = np.zeros((size, size))\n",
    "        clusters = np.zeros((size, size), dtype='int64')\n",
    "        clusters[0] = np.arange(size)\n",
    "        for i in range(size):\n",
    "            for j in range(i + 1, size):\n",
    "                distances[i][j] = distances[j][i] = self.distance(x[i],\n",
    "                                                                  x[j])\n",
    "        for step in range(1, size):\n",
    "            min_info = self.__find_min(distances, clusters[step - 1])\n",
    "            i = min_info[0]\n",
    "            j = min_info[1]\n",
    "            cl1_mask = clusters[step - 1] == clusters[step - 1][int(i)]\n",
    "            cl2_mask = clusters[step - 1] == clusters[step - 1][int(j)]\n",
    "            min_info[0] = clusters[step - 1][int(i)]\n",
    "            min_info[1] = clusters[step - 1][int(j)]\n",
    "            min_info[3] = np.sum(cl1_mask) + np.sum(cl2_mask)\n",
    "            clusters[step] = np.copy(clusters[step - 1])\n",
    "            clusters[step][cl1_mask + cl2_mask] = size + step - 1\n",
    "            self.dendrogram = np.append(self.dendrogram, min_info)\n",
    "            distances = self.__linkage(distances, cl1_mask, cl2_mask)\n",
    "        self.dendrogram = self.dendrogram.reshape(-1, 4)\n",
    "        self.clusters = clusters\n",
    "\n",
    "    def fit_predict(self, x):\n",
    "        self.size =  x.shape[0]\n",
    "        self.__fit(x)\n",
    "        return self.clusters[self.size - self.indent]\n",
    "\n",
    "    def plot_dendrogram(self):\n",
    "        fig = plt.figure()\n",
    "        fig.set_figheight(10)\n",
    "        fig.set_figwidth(20)\n",
    "        hierarchy.dendrogram(self.dendrogram)\n"
   ]
  },
  {
   "cell_type": "markdown",
   "metadata": {},
   "source": [
    "Сначала проверим реализованный алгоритм кластеризации на классическом наборе данных [Iris](http://www.wikiwand.com/en/Iris_flower_data_set). Загрузим данные (они включены в библиотеку sklearn) и посмотрим на то, как они выглядят в двух проекциях (для простоты используем 2 класса из 3)."
   ]
  },
  {
   "cell_type": "code",
   "execution_count": 3,
   "metadata": {},
   "outputs": [
    {
     "data": {
      "image/png": "[encoded data removed]",
      "text/plain": [
       "<Figure size 720x360 with 2 Axes>"
      ]
     },
     "metadata": {
      "needs_background": "light"
     },
     "output_type": "display_data"
    }
   ],
   "source": [
    "iris = ds.load_iris()\n",
    "x_iris = iris.data[:100]\n",
    "y_iris = iris.target[:100]\n",
    "\n",
    "pl.figure(figsize=(10, 5))\n",
    "\n",
    "pl.subplot(1, 2, 1)\n",
    "pl.scatter(x_iris[:, 0], x_iris[:, 1], c=y_iris, cmap=pl.cm.PuOr, lw=0, s=30)\n",
    "plt.xlabel('Sepal length')\n",
    "plt.ylabel('Sepal width')\n",
    "\n",
    "pl.subplot(1, 2, 2)\n",
    "pl.scatter(x_iris[:, 2], x_iris[:, 3], c=y_iris, cmap=pl.cm.PuOr, lw=0, s=30)\n",
    "plt.xlabel('Petal length')\n",
    "plt.ylabel('Petal width')\n",
    "pl.show()"
   ]
  },
  {
   "cell_type": "markdown",
   "metadata": {},
   "source": [
    "Видно, что классы разделяются, поэтому можно надеяться, что наш алгоритм \"найдет\" кластеры, соответствующие исходным классам. Результат работы реализованного алгоритма кластеризации предлагается сравнить с эталонной кластеризацией. Для этого предлагается изучить метрику ([adjusted rand score](http://scikit-learn.org/stable/modules/generated/sklearn.metrics.adjusted_rand_score.html)). В случае если значение этой метрики отличается от 1, предлагается поработать над улучшением реализации своего алгоритма."
   ]
  },
  {
   "cell_type": "code",
   "execution_count": 4,
   "metadata": {},
   "outputs": [
    {
     "name": "stdout",
     "output_type": "stream",
     "text": [
      " Sklearn AGGL score 1.0. Sklearn AGGL time 0.0009980201721191406\n"
     ]
    }
   ],
   "source": [
    "# Давайте проверим, как справляются sklearn реализации\n",
    "sklearn_aggl = AgglomerativeClustering(n_clusters=2)\n",
    "aggl_t0 = time.time()\n",
    "aggl_pred = sklearn_aggl.fit_predict(x_iris)\n",
    "aggl_diff = time.time() - aggl_t0\n",
    "aggl_score = smt.adjusted_rand_score(y_iris, aggl_pred)\n",
    "print (\" Sklearn AGGL score {}. Sklearn AGGL time {}\".format(aggl_score, aggl_diff))"
   ]
  },
  {
   "cell_type": "code",
   "execution_count": 5,
   "metadata": {},
   "outputs": [
    {
     "name": "stdout",
     "output_type": "stream",
     "text": [
      "Our AGGL score 1.0. Our AGGL time 0.5322713851928711\n"
     ]
    }
   ],
   "source": [
    "# Здесь предскажем кластера, посчитаем метрику кластеризации и время работы, сравним со склерном\n",
    "сustum_aggl = Clustering(n_clusters=2)\n",
    "aggl_t0 = time.time()\n",
    "aggl_pred = сustum_aggl.fit_predict(x_iris)\n",
    "aggl_diff = time.time() - aggl_t0\n",
    "aggl_score = smt.adjusted_rand_score(y_iris, aggl_pred)\n",
    "print (\"Our AGGL score {}. Our AGGL time {}\".format(aggl_score, aggl_diff))"
   ]
  },
  {
   "cell_type": "code",
   "execution_count": 6,
   "metadata": {},
   "outputs": [
    {
     "data": {
      "image/png": "[encoded data removed]",
      "text/plain": [
       "<Figure size 1440x720 with 1 Axes>"
      ]
     },
     "metadata": {
      "needs_background": "light"
     },
     "output_type": "display_data"
    }
   ],
   "source": [
    "fig = plt.figure()\n",
    "fig.set_figheight(10)\n",
    "fig.set_figwidth(20)\n",
    "dendrogram = hierarchy.linkage(x_iris)\n",
    "box = hierarchy.dendrogram(dendrogram)"
   ]
  },
  {
   "cell_type": "code",
   "execution_count": 7,
   "metadata": {},
   "outputs": [
    {
     "data": {
      "image/png": "[encoded data removed]",
      "text/plain": [
       "<Figure size 1440x720 with 1 Axes>"
      ]
     },
     "metadata": {
      "needs_background": "light"
     },
     "output_type": "display_data"
    }
   ],
   "source": [
    "my_clf = Clustering(n_clusters=2)\n",
    "my_clf.fit_predict(x_iris)\n",
    "my_clf.plot_dendrogram()"
   ]
  },
  {
   "cell_type": "markdown",
   "metadata": {
    "collapsed": true
   },
   "source": [
    "# Боевое применение (3  балла)\n"
   ]
  },
  {
   "cell_type": "markdown",
   "metadata": {
    "collapsed": true
   },
   "source": [
    "Алгоритмы кластеризации прекрасны тем, что они позволяют быстро понять, как устроены наши данные. Давайте применим Ваш алгоритм для нашего конкурса!"
   ]
  },
  {
   "cell_type": "markdown",
   "metadata": {},
   "source": [
    "Будем рассматривать каждую группу независимо от других групп. На каждой группе применим наш алгоритм и отрисуем денденограмму. По результатам кластерного анализа, Вам нужно ответить на следующие вопросы:\n",
    "\n",
    "1) Можно ли по дендонаграмме (или по другим результатам кластеризации) сказать, где в группе аномалии? Каким образом?\n",
    "\n",
    "***Ответ: можно, выбросы на графике не будут кучны и войдут в общий кластер лишь под конец работы алгоритма.***\n",
    "\n",
    "2) Какое расстояние лучше использовать между заголовками страниц для кластеризации? Как еще учесть другую информацию о странице в расстоянии?\n",
    "\n",
    "***Ответ: думаю, правильно выбранное расстояние особо не спасет группу, если она сплошь состоит из выбросов, а адекватную группу и обычные евклидова или манхеттенова метрики неплохо кластеризуют. Я привел лучшее рпзбиение, которое удалось получить, и разбиение рандомной группы, после подбора параметра f1_score удалось выжать только 0.5, что говорит о качестве данных в группе (и ничего не говорит о моих руках, нет).***\n",
    "\n",
    "2) Какое качество f1_score Вы смогли получить на обучающем множестве методами кластеризации? (валидацию можете не делать, если таргет не используете)\n",
    "\n",
    "***Ответ: очень разношерстные результаты получились, я привел ниже две наилучшим образом кластеризовавшиеся группы, но f1_score по остальным оставляют желать лучшего. Многое зависит от параметра n_ckusters, то есть от правильной обрезки дерева.***\n",
    "\n",
    "4) Как можно результат кластеризации затем использовать для  финальной модели обучения с учителем?\n",
    "\n",
    "***Ответ: можно отлавливать \"троянских коней\", вроде бы принадлежащих группе, но сильно похожих на выбросы и портящих обучение модели.***"
   ]
  },
  {
   "cell_type": "markdown",
   "metadata": {},
   "source": [
    "Подсказка: самое важное - выбрать расстояние между заголовками. Самый простой вариант:  процент различных слов в двух заголовках. В семинаре мы рассматривали более сложный вариант, но Вы сможете придумать лучше. "
   ]
  },
  {
   "cell_type": "code",
   "execution_count": 8,
   "metadata": {},
   "outputs": [
    {
     "name": "stdout",
     "output_type": "stream",
     "text": [
      "28026\n"
     ]
    }
   ],
   "source": [
    "doc_to_title = {}\n",
    "with open('docs_titles.tsv', encoding='utf-8-sig') as f:\n",
    "    for num_line, line in enumerate(f):\n",
    "        if num_line == 0:\n",
    "            continue\n",
    "        data = line.strip().split('\\t', 1)\n",
    "        doc_id = int(data[0])\n",
    "        if len(data) == 1:\n",
    "            title = ''\n",
    "        else:\n",
    "            title = data[1]\n",
    "        doc_to_title[doc_id] = title\n",
    "print(len(doc_to_title))"
   ]
  },
  {
   "cell_type": "code",
   "execution_count": 9,
   "metadata": {},
   "outputs": [],
   "source": [
    "train_data = pd.read_csv('train_groups.csv')\n",
    "traingroups_titledata = {}\n",
    "for i in range(len(train_data)):\n",
    "    new_doc = train_data.iloc[i]\n",
    "    doc_group = new_doc['group_id']\n",
    "    doc_id = new_doc['doc_id']\n",
    "    target = new_doc['target']\n",
    "    title = doc_to_title[doc_id]\n",
    "    if doc_group not in traingroups_titledata:\n",
    "        traingroups_titledata[doc_group] = []\n",
    "    traingroups_titledata[doc_group].append((doc_id, title, target))"
   ]
  },
  {
   "cell_type": "markdown",
   "metadata": {},
   "source": [
    "Кластеризацию проводите в каждой группе отдельно, то есть изучайте, можно ли в группе  найти подкластер выбросов\n",
    "\n",
    "Документы можно представлять например словами из тайтла\n",
    "\n",
    "Главное подобрать хорошую функцию расстояния между документами\n",
    "\n",
    "Удачи! Все получится!"
   ]
  },
  {
   "cell_type": "markdown",
   "metadata": {},
   "source": [
    "Замечание: в кластеризации можно использовать все данные, то есть трейн + тест, чтобы находить больше закономерностей "
   ]
  },
  {
   "cell_type": "code",
   "execution_count": 10,
   "metadata": {},
   "outputs": [],
   "source": [
    "def make_dict(doc_id, doc_to_title, tokenizer):\n",
    "    array = []\n",
    "    for i in doc_id:\n",
    "        sent = doc_to_title[i]\n",
    "        array.append(' '.join(list(tokenizer(sent))))\n",
    "    return array\n",
    "\n",
    "\n",
    "def vectorize(doc_id, doc_to_title, vectorizer):\n",
    "    tokenizer = vectorizer.build_tokenizer()\n",
    "    dict_ = make_dict(df.doc_id, doc_to_title, tokenizer)\n",
    "    vectorizer.fit(dict_)\n",
    "    vectors = []\n",
    "    for i in doc_id:\n",
    "        sent = doc_to_title[i]\n",
    "        vectors.append(sent)\n",
    "    vectors = vectorizer.transform(vectors).todense()\n",
    "    return vectors"
   ]
  },
  {
   "cell_type": "code",
   "execution_count": 11,
   "metadata": {},
   "outputs": [],
   "source": [
    "vectorizer = TfidfVectorizer()"
   ]
  },
  {
   "cell_type": "code",
   "execution_count": 12,
   "metadata": {},
   "outputs": [
    {
     "name": "stdout",
     "output_type": "stream",
     "text": [
      "f1_score = 0.924731182795699\n"
     ]
    },
    {
     "data": {
      "image/png": "[encoded data removed]",
      "text/plain": [
       "<Figure size 1440x720 with 1 Axes>"
      ]
     },
     "metadata": {
      "needs_background": "light"
     },
     "output_type": "display_data"
    }
   ],
   "source": [
    "df = train_data[train_data.group_id == 128][['doc_id', 'target']]\n",
    "X = vectorize(df.doc_id, doc_to_title, vectorizer)\n",
    "myclf = Clustering(linkage='average', n_clusters=1)\n",
    "cl = myclf.fit_predict(X)    \n",
    "k = cl.size\n",
    "for j in range(k):\n",
    "    if cl[j] < k:\n",
    "        cl[j] = 0\n",
    "    else:\n",
    "        cl[j] = 1\n",
    "print('f1_score =', smt.f1_score(df.target, cl))\n",
    "myclf.plot_dendrogram()"
   ]
  },
  {
   "cell_type": "code",
   "execution_count": 13,
   "metadata": {},
   "outputs": [
    {
     "name": "stdout",
     "output_type": "stream",
     "text": [
      "f1_score = 0.5\n"
     ]
    },
    {
     "data": {
      "image/png": "[encoded data removed]",
      "text/plain": [
       "<Figure size 1440x720 with 1 Axes>"
      ]
     },
     "metadata": {
      "needs_background": "light"
     },
     "output_type": "display_data"
    }
   ],
   "source": [
    "df = train_data[train_data.group_id == 4][['doc_id', 'target']]\n",
    "X = vectorize(df.doc_id, doc_to_title, vectorizer)\n",
    "my_clf = Clustering(linkage='single', n_clusters=74)\n",
    "cl = my_clf.fit_predict(X)\n",
    "k = cl.size\n",
    "for j in range(k):\n",
    "    if cl[j] < k:\n",
    "        cl[j] = 0\n",
    "    else:\n",
    "        cl[j] = 1\n",
    "print('f1_score =', smt.f1_score(df.target, cl))\n",
    "my_clf.plot_dendrogram()"
   ]
  },
  {
   "cell_type": "markdown",
   "metadata": {
    "collapsed": true
   },
   "source": [
    "Если получилось найти выбросы с помощью кластеризации, то не забывайте использовать его в финальном решении. Помните - использование различных подходов к решению задачи всегда улучшает финального качество."
   ]
  },
  {
   "cell_type": "markdown",
   "metadata": {},
   "source": [
    "# Контрольные вопросы\n",
    "Постарайтесь максимально развернуто и честно ответить на вопросы. Они охватывают тему алгоритмов кластеризации и скорее нужны преподавателям, чтобы понимать, что именно Вы усвоили плохо. Надеюсь, они подскажут, что именно в теме Вы не понимаете или наоборот порадают, что Вы все знаете ^_^"
   ]
  },
  {
   "cell_type": "markdown",
   "metadata": {},
   "source": [
    "* Опишите, пожалуйста, для каких прикладных задач Вы бы стали использовать методы кластеризации?"
   ]
  },
  {
   "cell_type": "markdown",
   "metadata": {},
   "source": [
    "***Ваше ответ здесь***\n",
    "\n",
    "Для задач, в которых известны лишь признаки, описывающие объекты, и необходимо найти взаимосвязи и закономерности, существующие между ними. Например, кластеризацию можно использовать в разделении цветов из спектра."
   ]
  },
  {
   "cell_type": "markdown",
   "metadata": {},
   "source": [
    "* Какие преимущества и недостатки Вы видите у следуюших алгоритмов кластеризации: kmeans, dbscan, агломеративная кластеризация?"
   ]
  },
  {
   "cell_type": "markdown",
   "metadata": {},
   "source": [
    "***Ваше ответ здесь***\n",
    "\n",
    "***1. K-Means*** \n",
    "\n",
    "Преимущества:\n",
    "\n",
    "- быстрая сходимость;\n",
    "- простой;\n",
    "\n",
    "Недостатки:\n",
    "\n",
    "- необходимо заранее знать количество кластеров;\n",
    "- чувствителен к выбору начальных центров кластеров;\n",
    "\n",
    "***2. DBSCAN*** \n",
    "\n",
    "Преимущества:\n",
    "\n",
    "- сам раскидает объекты по кластерам, способен обрабатывать данные, разбросанные нестандратным образом;\n",
    "- обнаруживает выбросы;\n",
    "\n",
    "Недостатки:\n",
    "\n",
    "- чувствителен к выбору стартового объекта;\n",
    "- плохо работает с неоднородными данными;\n",
    "- нельзя дообучать;\n",
    "\n",
    "***3. Агломеративная кластеризация*** \n",
    "\n",
    "Преимущества:\n",
    "\n",
    "- при правильном выборе метрики и параметров выдаст наилучшее по точности разбиение;\n",
    "- наглядно показывает выбросы;\n",
    "\n",
    "Недостатки:\n",
    "\n",
    "- чувствителен к выбору параметров и метрики;\n",
    "- при добавлении элементов в train придется начать сначала;\n"
   ]
  },
  {
   "cell_type": "markdown",
   "metadata": {},
   "source": [
    "* На лекции было показано, что EM алгоритм находит оценку максимального правдоподобия в задаче со сккрытыми переменными. Из курса мат. статистики Вы можете знать, оценка максимального правдоподобия \"оптимальная\" во многих смыслах. В каких же случаях тогда не следует применять метод максимального правдоподобия?"
   ]
  },
  {
   "cell_type": "markdown",
   "metadata": {},
   "source": [
    "***Ваше ответ здесь***\n",
    "\n",
    " Если не выполняется гипотеза о вероятностной природе данных из выборки (функция правдоподобия не ограничена) и кластеры не имеют эллиптическую гауссовскую форму."
   ]
  },
  {
   "cell_type": "markdown",
   "metadata": {},
   "source": [
    "* Представьте, что у Вас есть набор текстовых документов, и Вы хотите разбить эти документы на тематики - новости, спорт, кулинария, кино и так далее. Размеченной выборки у Вас нет, только сами тексты документов. Какие алгоритмы и какие признаки Вы бы использовали для решения данной задачи?"
   ]
  },
  {
   "cell_type": "markdown",
   "metadata": {},
   "source": [
    "***Ваше ответ здесь***\n",
    "\n",
    "Агломеративной кластеризацией сначала я бы убрал выбросы, пусть и построение дерева - довольно ресурсозатратная операция, а после - воспользовался k-means'ом из-за быстрой сходимости.\n",
    "\n",
    "В качестве признаков я бы взял меру tf-idf для n-грамм, взяв 40-50 наиболее весомых сочетаний в качестве фичей."
   ]
  },
  {
   "cell_type": "markdown",
   "metadata": {},
   "source": [
    "* Теперь представьте, что небольшая часть Ваших текстов была размечена людьми, но большая часть так и осталась без таргета. Смогли ли бы Вы использовать эти данные для улучения качества кластеризации? (эта задача называется semi-supervised learning)"
   ]
  },
  {
   "cell_type": "markdown",
   "metadata": {},
   "source": [
    "***Ваше ответ здесь***\n",
    "\n",
    "Да, на основе результатов кластеризации можно было бы разметить оставшиеся данные и тем самым получить надежду на лучшее обучение. Если нам повезло, и количество уникальных значений разметки совпадет с числом кластеров, то модель хорошо обучится."
   ]
  },
  {
   "cell_type": "markdown",
   "metadata": {},
   "source": [
    "Здесь Вы можете оставить отзыв о этой домашней работе или о всем курсе.   "
   ]
  },
  {
   "cell_type": "markdown",
   "metadata": {},
   "source": [
    "*** ВАШ ОТЗЫВ ЗДЕСЬ***"
   ]
  },
  {
   "cell_type": "markdown",
   "metadata": {
    "collapsed": true
   },
   "source": [
    "Найдите мне 25-й час, и я начну получать удовольствие от образования. В сплошном цейтноте радуешься, только если программа наконец-то рисует адекватный график и не ломается по неизвестным причинам. Но за проделываемую Вами и другими преподавателями (не всех можно отметить, но все-таки) работу, безусловно, большая благодарность и респект!"
   ]
  }
 ],
 "metadata": {
  "anaconda-cloud": {},
  "kernelspec": {
   "display_name": "Python 3",
   "language": "python",
   "name": "python3"
  },
  "language_info": {
   "codemirror_mode": {
    "name": "ipython",
    "version": 3
   },
   "file_extension": ".py",
   "mimetype": "text/x-python",
   "name": "python",
   "nbconvert_exporter": "python",
   "pygments_lexer": "ipython3",
   "version": "3.7.1"
  }
 },
 "nbformat": 4,
 "nbformat_minor": 1
}
