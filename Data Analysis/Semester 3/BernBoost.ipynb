{
 "cells": [
  {
   "cell_type": "markdown",
   "metadata": {},
   "source": [
    "# Task 2"
   ]
  },
  {
   "cell_type": "markdown",
   "metadata": {},
   "source": [
    "<img src=\"formulas.png\">"
   ]
  },
  {
   "cell_type": "markdown",
   "metadata": {},
   "source": [
    "### Imports\n",
    "Import libraries and write settings here."
   ]
  },
  {
   "cell_type": "code",
   "execution_count": 1,
   "metadata": {},
   "outputs": [],
   "source": [
    "import pandas as pd\n",
    "import numpy as np\n",
    "from sklearn.model_selection import train_test_split\n",
    "from sklearn.metrics import accuracy_score, f1_score, mean_squared_error\n",
    "from sklearn.tree import DecisionTreeRegressor, DecisionTreeClassifier\n",
    "from sklearn.ensemble import GradientBoostingRegressor, GradientBoostingClassifier\n",
    "from joblib import Parallel, delayed\n",
    "import matplotlib.pyplot as plt\n",
    "from IPython import get_ipython\n",
    "from IPython.display import Image\n",
    "\n",
    "\n",
    "ipython = get_ipython()\n",
    "\n",
    "# autoreload extension\n",
    "if 'autoreload' not in ipython.extension_manager.loaded:\n",
    "    %load_ext autoreload\n",
    "\n",
    "%matplotlib inline"
   ]
  },
  {
   "cell_type": "markdown",
   "metadata": {},
   "source": [
    "### import data"
   ]
  },
  {
   "cell_type": "code",
   "execution_count": 2,
   "metadata": {},
   "outputs": [
    {
     "data": {
      "text/html": [
       "<div>\n",
       "<style scoped>\n",
       "    .dataframe tbody tr th:only-of-type {\n",
       "        vertical-align: middle;\n",
       "    }\n",
       "\n",
       "    .dataframe tbody tr th {\n",
       "        vertical-align: top;\n",
       "    }\n",
       "\n",
       "    .dataframe thead th {\n",
       "        text-align: right;\n",
       "    }\n",
       "</style>\n",
       "<table border=\"1\" class=\"dataframe\">\n",
       "  <thead>\n",
       "    <tr style=\"text-align: right;\">\n",
       "      <th></th>\n",
       "      <th>mpg</th>\n",
       "      <th>cylinders</th>\n",
       "      <th>displacement</th>\n",
       "      <th>horsepower</th>\n",
       "      <th>weight</th>\n",
       "      <th>acceleration</th>\n",
       "      <th>model</th>\n",
       "      <th>origin</th>\n",
       "      <th>car_name</th>\n",
       "    </tr>\n",
       "  </thead>\n",
       "  <tbody>\n",
       "    <tr>\n",
       "      <th>0</th>\n",
       "      <td>18.0</td>\n",
       "      <td>8.0</td>\n",
       "      <td>307.0</td>\n",
       "      <td>130.0</td>\n",
       "      <td>3504.0</td>\n",
       "      <td>12.0</td>\n",
       "      <td>70.0</td>\n",
       "      <td>1.0</td>\n",
       "      <td>chevrolet chevelle malibu</td>\n",
       "    </tr>\n",
       "    <tr>\n",
       "      <th>1</th>\n",
       "      <td>15.0</td>\n",
       "      <td>8.0</td>\n",
       "      <td>350.0</td>\n",
       "      <td>165.0</td>\n",
       "      <td>3693.0</td>\n",
       "      <td>11.5</td>\n",
       "      <td>70.0</td>\n",
       "      <td>1.0</td>\n",
       "      <td>buick skylark 320</td>\n",
       "    </tr>\n",
       "    <tr>\n",
       "      <th>2</th>\n",
       "      <td>18.0</td>\n",
       "      <td>8.0</td>\n",
       "      <td>318.0</td>\n",
       "      <td>150.0</td>\n",
       "      <td>3436.0</td>\n",
       "      <td>11.0</td>\n",
       "      <td>70.0</td>\n",
       "      <td>1.0</td>\n",
       "      <td>plymouth satellite</td>\n",
       "    </tr>\n",
       "    <tr>\n",
       "      <th>3</th>\n",
       "      <td>16.0</td>\n",
       "      <td>8.0</td>\n",
       "      <td>304.0</td>\n",
       "      <td>150.0</td>\n",
       "      <td>3433.0</td>\n",
       "      <td>12.0</td>\n",
       "      <td>70.0</td>\n",
       "      <td>1.0</td>\n",
       "      <td>amc rebel sst</td>\n",
       "    </tr>\n",
       "    <tr>\n",
       "      <th>4</th>\n",
       "      <td>17.0</td>\n",
       "      <td>8.0</td>\n",
       "      <td>302.0</td>\n",
       "      <td>140.0</td>\n",
       "      <td>3449.0</td>\n",
       "      <td>10.5</td>\n",
       "      <td>70.0</td>\n",
       "      <td>1.0</td>\n",
       "      <td>ford torino</td>\n",
       "    </tr>\n",
       "  </tbody>\n",
       "</table>\n",
       "</div>"
      ],
      "text/plain": [
       "    mpg  cylinders  displacement  horsepower  weight  acceleration  model  \\\n",
       "0  18.0        8.0         307.0       130.0  3504.0          12.0   70.0   \n",
       "1  15.0        8.0         350.0       165.0  3693.0          11.5   70.0   \n",
       "2  18.0        8.0         318.0       150.0  3436.0          11.0   70.0   \n",
       "3  16.0        8.0         304.0       150.0  3433.0          12.0   70.0   \n",
       "4  17.0        8.0         302.0       140.0  3449.0          10.5   70.0   \n",
       "\n",
       "   origin                   car_name  \n",
       "0     1.0  chevrolet chevelle malibu  \n",
       "1     1.0          buick skylark 320  \n",
       "2     1.0         plymouth satellite  \n",
       "3     1.0              amc rebel sst  \n",
       "4     1.0                ford torino  "
      ]
     },
     "execution_count": 2,
     "metadata": {},
     "output_type": "execute_result"
    }
   ],
   "source": [
    "data1 = pd.read_csv(\"http://archive.ics.uci.edu/ml/machine-learning-databases/auto-mpg/auto-mpg.data-original\",\n",
    "                    delim_whitespace=True, header=None,\n",
    "                    names=['mpg', 'cylinders', 'displacement', 'horsepower', 'weight', 'acceleration',\n",
    "                           'model', 'origin', 'car_name'])\n",
    "data1 = data1.dropna()\n",
    "data1.head()"
   ]
  },
  {
   "cell_type": "code",
   "execution_count": 3,
   "metadata": {},
   "outputs": [],
   "source": [
    "columns1 = ['cylinders', 'displacement', 'horsepower',\n",
    "            'weight', 'acceleration', 'model', 'origin']\n",
    "X1 = np.array(data1[columns1])\n",
    "y1 = np.array(data1['mpg'])\n",
    "X1_train, X1_test, y1_train, y1_test = train_test_split(X1, y1, test_size=0.4)"
   ]
  },
  {
   "cell_type": "code",
   "execution_count": 4,
   "metadata": {},
   "outputs": [
    {
     "name": "stdout",
     "output_type": "stream",
     "text": [
      "14.645668789808916\n",
      "Wall time: 1.99 ms\n"
     ]
    }
   ],
   "source": [
    "%%time\n",
    "tree = DecisionTreeRegressor()\n",
    "tree.fit(X1_train, y1_train)\n",
    "mse = mean_squared_error(y1_test, tree.predict(X1_test))\n",
    "print(mse)"
   ]
  },
  {
   "cell_type": "code",
   "execution_count": 5,
   "metadata": {},
   "outputs": [
    {
     "data": {
      "text/html": [
       "<div>\n",
       "<style scoped>\n",
       "    .dataframe tbody tr th:only-of-type {\n",
       "        vertical-align: middle;\n",
       "    }\n",
       "\n",
       "    .dataframe tbody tr th {\n",
       "        vertical-align: top;\n",
       "    }\n",
       "\n",
       "    .dataframe thead th {\n",
       "        text-align: right;\n",
       "    }\n",
       "</style>\n",
       "<table border=\"1\" class=\"dataframe\">\n",
       "  <thead>\n",
       "    <tr style=\"text-align: right;\">\n",
       "      <th></th>\n",
       "      <th>vendor name</th>\n",
       "      <th>Model Name</th>\n",
       "      <th>MYCT</th>\n",
       "      <th>MMIN</th>\n",
       "      <th>MMAX</th>\n",
       "      <th>CACH</th>\n",
       "      <th>CHMIN</th>\n",
       "      <th>CHMAX</th>\n",
       "      <th>PRP</th>\n",
       "      <th>ERP</th>\n",
       "    </tr>\n",
       "  </thead>\n",
       "  <tbody>\n",
       "    <tr>\n",
       "      <th>0</th>\n",
       "      <td>adviser</td>\n",
       "      <td>32/60</td>\n",
       "      <td>125</td>\n",
       "      <td>256</td>\n",
       "      <td>6000</td>\n",
       "      <td>256</td>\n",
       "      <td>16</td>\n",
       "      <td>128</td>\n",
       "      <td>198</td>\n",
       "      <td>199</td>\n",
       "    </tr>\n",
       "    <tr>\n",
       "      <th>1</th>\n",
       "      <td>amdahl</td>\n",
       "      <td>470v/7</td>\n",
       "      <td>29</td>\n",
       "      <td>8000</td>\n",
       "      <td>32000</td>\n",
       "      <td>32</td>\n",
       "      <td>8</td>\n",
       "      <td>32</td>\n",
       "      <td>269</td>\n",
       "      <td>253</td>\n",
       "    </tr>\n",
       "    <tr>\n",
       "      <th>2</th>\n",
       "      <td>amdahl</td>\n",
       "      <td>470v/7a</td>\n",
       "      <td>29</td>\n",
       "      <td>8000</td>\n",
       "      <td>32000</td>\n",
       "      <td>32</td>\n",
       "      <td>8</td>\n",
       "      <td>32</td>\n",
       "      <td>220</td>\n",
       "      <td>253</td>\n",
       "    </tr>\n",
       "    <tr>\n",
       "      <th>3</th>\n",
       "      <td>amdahl</td>\n",
       "      <td>470v/7b</td>\n",
       "      <td>29</td>\n",
       "      <td>8000</td>\n",
       "      <td>32000</td>\n",
       "      <td>32</td>\n",
       "      <td>8</td>\n",
       "      <td>32</td>\n",
       "      <td>172</td>\n",
       "      <td>253</td>\n",
       "    </tr>\n",
       "    <tr>\n",
       "      <th>4</th>\n",
       "      <td>amdahl</td>\n",
       "      <td>470v/7c</td>\n",
       "      <td>29</td>\n",
       "      <td>8000</td>\n",
       "      <td>16000</td>\n",
       "      <td>32</td>\n",
       "      <td>8</td>\n",
       "      <td>16</td>\n",
       "      <td>132</td>\n",
       "      <td>132</td>\n",
       "    </tr>\n",
       "  </tbody>\n",
       "</table>\n",
       "</div>"
      ],
      "text/plain": [
       "  vendor name Model Name  MYCT  MMIN   MMAX  CACH  CHMIN  CHMAX  PRP  ERP\n",
       "0     adviser      32/60   125   256   6000   256     16    128  198  199\n",
       "1      amdahl     470v/7    29  8000  32000    32      8     32  269  253\n",
       "2      amdahl    470v/7a    29  8000  32000    32      8     32  220  253\n",
       "3      amdahl    470v/7b    29  8000  32000    32      8     32  172  253\n",
       "4      amdahl    470v/7c    29  8000  16000    32      8     16  132  132"
      ]
     },
     "execution_count": 5,
     "metadata": {},
     "output_type": "execute_result"
    }
   ],
   "source": [
    "data2 = pd.read_csv(\"https://archive.ics.uci.edu/ml/machine-learning-databases/cpu-performance/machine.data\",\n",
    "                    header=None,\n",
    "                    names=['vendor name', 'Model Name', 'MYCT', 'MMIN', 'MMAX', 'CACH',\n",
    "                           'CHMIN', 'CHMAX', 'PRP', 'ERP'])\n",
    "data2 = data2.dropna()\n",
    "data2.head()"
   ]
  },
  {
   "cell_type": "code",
   "execution_count": 6,
   "metadata": {},
   "outputs": [],
   "source": [
    "columns2 = ['MYCT', 'MMIN', 'MMAX', 'CACH',\n",
    "                            'PRP', 'CHMAX', 'ERP']\n",
    "X2 = np.array(data2[columns2])\n",
    "y2 = np.array(data2['CHMIN'])\n",
    "X2_train, X2_test, y2_train, y2_test = train_test_split(X2, y2, test_size=0.1)"
   ]
  },
  {
   "cell_type": "code",
   "execution_count": 7,
   "metadata": {},
   "outputs": [
    {
     "name": "stdout",
     "output_type": "stream",
     "text": [
      "95.61904761904762\n",
      "Wall time: 1.99 ms\n"
     ]
    }
   ],
   "source": [
    "%%time\n",
    "tree = DecisionTreeRegressor()\n",
    "tree.fit(X2_train, y2_train)\n",
    "mse = mean_squared_error(y2_test, tree.predict(X2_test))\n",
    "print(mse)"
   ]
  },
  {
   "cell_type": "code",
   "execution_count": 8,
   "metadata": {},
   "outputs": [],
   "source": [
    "from sklearn.datasets import load_svmlight_file, load_svmlight_file\n",
    "x_train, y_reg_train = load_svmlight_file(\"reg.train.txt\")\n",
    "x_reg_train = x_train.toarray()\n",
    "\n",
    "x_test, y_reg_test = load_svmlight_file(\"reg.test.txt\")\n",
    "x_reg_test = x_test.toarray()"
   ]
  },
  {
   "cell_type": "code",
   "execution_count": 9,
   "metadata": {},
   "outputs": [
    {
     "name": "stdout",
     "output_type": "stream",
     "text": [
      "0.8695703931003984\n",
      "Wall time: 222 ms\n"
     ]
    }
   ],
   "source": [
    "%%time\n",
    "tree = DecisionTreeRegressor(max_depth=3, max_features=None)\n",
    "tree.fit(x_reg_train, y_reg_train)\n",
    "mse = mean_squared_error(y_reg_test, tree.predict(x_reg_test))\n",
    "print(mse)"
   ]
  },
  {
   "cell_type": "code",
   "execution_count": 10,
   "metadata": {},
   "outputs": [],
   "source": [
    "data_train = pd.read_csv(\"spam.train.txt\", header=None, sep=' ')\n",
    "x_spam_train, y_spam_train = np.array(\n",
    "    data_train[range(1, 103)]), np.array(data_train[0])\n",
    "\n",
    "data_test = pd.read_csv(\"spam.test.txt\", header=None, sep=' ')\n",
    "x_spam_test, y_spam_test = np.array(\n",
    "    data_test[range(1, 103)]), np.array(data_test[0])"
   ]
  },
  {
   "cell_type": "code",
   "execution_count": 11,
   "metadata": {},
   "outputs": [
    {
     "name": "stdout",
     "output_type": "stream",
     "text": [
      "0.8471604118233145\n",
      "Wall time: 436 ms\n"
     ]
    }
   ],
   "source": [
    "%%time\n",
    "tree = DecisionTreeClassifier()\n",
    "tree.fit(x_spam_train, y_spam_train)\n",
    "f1 = f1_score(y_spam_test, tree.predict(x_spam_test))\n",
    "print(f1)"
   ]
  },
  {
   "cell_type": "markdown",
   "metadata": {},
   "source": [
    "## MyDecisionTreeRegressor"
   ]
  },
  {
   "cell_type": "code",
   "execution_count": 12,
   "metadata": {},
   "outputs": [],
   "source": [
    "class MyDecisionTreeRegressor:\n",
    "    NON_LEAF_TYPE = False\n",
    "    LEAF_TYPE = True\n",
    "\n",
    "    def __init__(self, min_samples_split=3, max_depth=None, min_impurity_split=1e-7, max_features=None):\n",
    "        self.tree = dict()\n",
    "        self.min_samples_split = min_samples_split\n",
    "        self.max_depth = max_depth\n",
    "        self.min_impurity_split = min_impurity_split\n",
    "\n",
    "        if max_features == 'sqrt':\n",
    "            self.get_feature_ids = self.__get_feature_ids_sqrt\n",
    "        elif max_features == 'log2':\n",
    "            self.get_feature_ids = self.__get_feature_ids_log2\n",
    "        elif max_features == None:\n",
    "            self.get_feature_ids = self.__get_feature_ids_N\n",
    "        else:\n",
    "            print('invalid max_features name')\n",
    "            raise\n",
    "\n",
    "    def __get_feature_ids_sqrt(self, n_feature):\n",
    "        feature_ids = np.arange(n_feature)\n",
    "        np.random.shuffle(feature_ids)\n",
    "        return np.array(feature_ids[:int(np.sqrt(n_feature))])\n",
    "\n",
    "    def __get_feature_ids_log2(self, n_feature):\n",
    "        feature_ids = np.arange(n_feature)\n",
    "        np.random.shuffle(feature_ids)\n",
    "        return np.array(feature_ids[:int(np.log2(n_feature))])\n",
    "\n",
    "    def __get_feature_ids_N(self, n_feature):\n",
    "        return np.arange(n_feature)\n",
    "\n",
    "    def __calc_variance(self, y, w):\n",
    "        if w is not None:\n",
    "            y = y.astype(np.float64, copy=False)\n",
    "            w = np.asarray(w)\n",
    "            y = (y.T * w.T).T\n",
    "        N = y.shape[1]\n",
    "        share_l = np.arange(1, N)\n",
    "        share_r = N - share_l\n",
    "        y_sq = y ** 2\n",
    "        sum_sq_l = (y_sq[:, :N-1]).cumsum(1)\n",
    "        sum_sq_r = y_sq.sum(1, keepdims=True) - sum_sq_l\n",
    "        mean_sq_l = sum_sq_l / share_l\n",
    "        mean_sq_r = sum_sq_r / share_r\n",
    "        sum_l = (y[:, :N-1]).cumsum(1)\n",
    "        sum_r = y.sum(1, keepdims=True) - sum_l\n",
    "        mean_l = sum_l / share_l\n",
    "        mean_r = sum_r / share_r\n",
    "        cum_std_l = mean_sq_l - mean_l ** 2\n",
    "        cum_std_r = mean_sq_r - mean_r ** 2\n",
    "        variance = (share_l / N) * cum_std_l + (share_r / N) * cum_std_r\n",
    "        return variance\n",
    "\n",
    "    def __calc_border_inds(self, x):\n",
    "        diff = np.abs(np.diff(x, axis=0).T)\n",
    "        inds = np.argwhere(diff > 1e-5)\n",
    "        border_inds = []\n",
    "        for i in range(x.shape[1]):\n",
    "            ids = inds[inds[:, 0] == i][:, 1]\n",
    "            if ids.shape[0] == 0:\n",
    "                ids = np.array([np.inf])\n",
    "            border_inds.append(ids)\n",
    "        return border_inds\n",
    "\n",
    "    def __sort_samples(self, x, y,w, feature_ids):\n",
    "        sorted_ids = x[:, feature_ids].argsort(axis=0)\n",
    "        if w is not None:\n",
    "            return x[sorted_ids, feature_ids], y[sorted_ids].T, w[sorted_ids].T\n",
    "        else:\n",
    "            return x[sorted_ids, feature_ids], y[sorted_ids].T, None\n",
    "\n",
    "    def __find_threshold(self, x, y, w, feature_ids):\n",
    "        x_sort, y_sort, w_sort = self.__sort_samples(x, y, w, feature_ids)\n",
    "        border_inds = self.__calc_border_inds(x_sort)\n",
    "        variance = self.__calc_variance(y_sort, w_sort)\n",
    "        min_variance_ind = []\n",
    "        min_variance_no_ind = []\n",
    "        for feature_ind, border_ind in enumerate(border_inds):\n",
    "            if border_ind[0] == np.inf:\n",
    "                min_variance_ind.append(0)\n",
    "                min_variance_no_ind.append(len(min_variance_ind)-1)\n",
    "            else:\n",
    "                idx = np.argmin(variance[feature_ind, border_ind])\n",
    "                min_variance_ind.append(border_ind[idx])\n",
    "        min_variance_ind = np.array(min_variance_ind)\n",
    "        min_variance_no_ind = np.array(min_variance_no_ind)\n",
    "        min_variance = variance[np.arange(variance.shape[0]), min_variance_ind.ravel()]\n",
    "        if min_variance_no_ind.shape[0] > 0:\n",
    "            min_variance[min_variance_no_ind] = np.inf\n",
    "\n",
    "        best_split_right_ind = min_variance_ind + 1\n",
    "        min_variance[best_split_right_ind <= self.min_samples_split] = np.inf\n",
    "        min_variance[best_split_right_ind >=\n",
    "                     y_sort.shape[1] - self.min_samples_split] = np.inf\n",
    "        best_threshold = (x_sort[min_variance_ind, np.arange(x_sort.shape[1])]\n",
    "                          + x_sort[best_split_right_ind, np.arange(x_sort.shape[1])]) / 2.0\n",
    "        return min_variance, best_threshold\n",
    "\n",
    "    def __set_leaf(self, x, y, node_id, w):\n",
    "        if w is not None:\n",
    "            y = y.astype(np.float64, copy=False)\n",
    "            w = np.asarray(w)\n",
    "            numerator = np.sum(w * y)\n",
    "            denominator = w.sum()\n",
    "            if abs(denominator) < 1e-30:\n",
    "                mean_value =  0\n",
    "            else:\n",
    "                mean_value = numerator / denominator\n",
    "        else:\n",
    "            mean_value = y.mean()\n",
    "        self.tree[node_id] = {'type': self.LEAF_TYPE,\n",
    "                              'value': mean_value}\n",
    "\n",
    "    def __is_leaf(self, x, y, depth):\n",
    "        return x.shape[0] < 2 * self.min_samples_split + 2 or np.unique(y).shape[0] == 1 or \\\n",
    "            self.max_depth is not None and depth >= self.max_depth or \\\n",
    "            self.min_impurity_split is not None and np.mean((y - y.mean()) ** 2) < self.min_impurity_split\n",
    "\n",
    "    def __div_samples(self, x, y, w, feature_id, threshold):\n",
    "        left_mask = x[:, feature_id] > threshold\n",
    "        right_mask = ~left_mask\n",
    "        if w is not None:\n",
    "            return x[left_mask], x[right_mask], y[left_mask], y[right_mask], w[left_mask], w[right_mask]\n",
    "        else:\n",
    "            return x[left_mask], x[right_mask], y[left_mask], y[right_mask], None, None\n",
    "\n",
    "    def __fit_node(self, node_id, depth, x, y, w):\n",
    "        if self.__is_leaf(x, y, depth):\n",
    "            self.__set_leaf(x, y, node_id, w)\n",
    "            return self\n",
    "\n",
    "        feature_ids = self.get_feature_ids(x.shape[1])\n",
    "        variance, thresholds = self.__find_threshold(x, y, w, feature_ids)\n",
    "        best_variance_inds = variance.argmin()\n",
    "        best_variance = variance[best_variance_inds]\n",
    "        best_id = feature_ids[best_variance_inds]\n",
    "        best_threshold = thresholds[best_variance_inds]\n",
    "\n",
    "        if best_variance == np.inf:\n",
    "            self.__set_leaf(x, y, node_id,w)\n",
    "            return self\n",
    "        else:\n",
    "            x_l, x_r, y_l, y_r, w_l, w_r = self.__div_samples(\n",
    "                x, y, w, best_id, best_threshold)\n",
    "            if x_l.shape[0] == 0 or x_r.shape[0] == 0:\n",
    "                self.__set_leaf(x, y, node_id, w)\n",
    "                return self\n",
    "            else:\n",
    "                self.tree[node_id] = {'type': self.NON_LEAF_TYPE,\n",
    "                                      'feature_id': best_id,\n",
    "                                      'threshold': best_threshold}\n",
    "        args = [(2 * node_id + 1, depth + 1, x_l, y_l, w_l),\n",
    "                (2 * node_id + 2, depth + 1, x_r, y_r, w_r)]\n",
    "        res = Parallel(n_jobs=-1)(delayed(self.__fit_node)(*args[i]) for i in range(2))\n",
    "        for t in res:\n",
    "            self.tree.update(t.tree)\n",
    "        return self\n",
    "\n",
    "    def fit(self, x, y, sample_weight=None):\n",
    "        if sample_weight is not None:\n",
    "            self.sample_weight = np.asarray(sample_weight)\n",
    "        else:\n",
    "            self.sample_weight=None\n",
    "        self.__fit_node(0, 0, x, y, self.sample_weight)\n",
    "        return self\n",
    "\n",
    "    def __predict_value(self, x):\n",
    "        node_id = 0\n",
    "        node = self.tree[node_id]\n",
    "        while node['type'] == self.NON_LEAF_TYPE:\n",
    "            feature_id, threshold = node['feature_id'], node['threshold']\n",
    "            if x[feature_id] > threshold:\n",
    "                node_id = 2 * node_id + 1\n",
    "            else:\n",
    "                node_id = 2 * node_id + 2\n",
    "            node = self.tree[node_id]\n",
    "        return node['value']\n",
    "\n",
    "    def predict(self, X):\n",
    "        return np.array([self.__predict_value(x) for x in X])\n",
    "\n",
    "    def fit_predict(self, x_train, y_train, predicted_x):\n",
    "        self.fit(x_train, y_train)\n",
    "        return self.predict(predicted_x)\n"
   ]
  },
  {
   "cell_type": "code",
   "execution_count": 13,
   "metadata": {},
   "outputs": [
    {
     "name": "stdout",
     "output_type": "stream",
     "text": [
      "0.8694458133509975\n",
      "Wall time: 1.99 s\n"
     ]
    }
   ],
   "source": [
    "%%time\n",
    "tree = MyDecisionTreeRegressor(max_depth=3)\n",
    "tree.fit(x_reg_train, y_reg_train)\n",
    "y_pred = tree.predict(x_reg_test)\n",
    "mse = mean_squared_error(y_reg_test, y_pred)\n",
    "print(mse)"
   ]
  },
  {
   "cell_type": "code",
   "execution_count": 14,
   "metadata": {},
   "outputs": [
    {
     "name": "stdout",
     "output_type": "stream",
     "text": [
      "0.8695703931003984\n",
      "Wall time: 182 ms\n"
     ]
    }
   ],
   "source": [
    "%%time\n",
    "tree = DecisionTreeRegressor(max_depth=3)\n",
    "tree.fit(x_reg_train, y_reg_train)\n",
    "y_pred = tree.predict(x_reg_test)\n",
    "mse = mean_squared_error(y_reg_test, y_pred)\n",
    "print(mse)"
   ]
  },
  {
   "cell_type": "code",
   "execution_count": 15,
   "metadata": {},
   "outputs": [],
   "source": [
    "y_spam_train = 2 * y_spam_train - 1\n",
    "y_spam_test = 2 * y_spam_test - 1"
   ]
  },
  {
   "cell_type": "markdown",
   "metadata": {},
   "source": [
    "## MyGradientBoosting"
   ]
  },
  {
   "cell_type": "code",
   "execution_count": 16,
   "metadata": {},
   "outputs": [],
   "source": [
    "def bern(y, pred):\n",
    "    return np.mean(np.logaddexp(0.0, -2.0 * y * pred))"
   ]
  },
  {
   "cell_type": "code",
   "execution_count": 17,
   "metadata": {},
   "outputs": [],
   "source": [
    "class MyGradientBoosting:\n",
    "    def __init__(self, n_estimators=100, learning_rate=0.1, max_depth=3, subsample=0.9, max_features=None,\n",
    "                 min_samples_split=3, min_impurity_split=1e-7, base_tree=MyDecisionTreeRegressor):\n",
    "        self.n_estimators = n_estimators\n",
    "        self.max_depth = max_depth\n",
    "        self.max_features = max_features\n",
    "        self.subsample = subsample\n",
    "        self.learning_rate = learning_rate\n",
    "        self.min_impurity_split = min_impurity_split\n",
    "        self.loss_by_iter = []\n",
    "        self.trees_ = [None] * self.n_estimators\n",
    "        self.b = np.empty(self.n_estimators, np.float64)\n",
    "        self.min_samples_split = min_samples_split\n",
    "        self.base_tree = base_tree\n",
    "\n",
    "    def _decision_function(self, X, iters=False):\n",
    "        scores = np.array([self.b[i] * estimator.predict(X) for i, estimator in enumerate(self.trees_)])\n",
    "        scores_iter = scores.cumsum(0)\n",
    "        if iters:\n",
    "            return scores_iter\n",
    "        return scores_iter[-1]\n",
    "\n",
    "    def _loss(self, y, y_pred):\n",
    "        return np.logaddexp(0.0, -2.0 * y * y_pred)\n",
    "\n",
    "    def _loss_iter(self, y, y_pred):\n",
    "        return np.mean(self._loss(y, y_pred))\n",
    "\n",
    "    def _negative_gradient_b(self, y, y_pred, a, b):\n",
    "        u = np.exp(-2.0 * y * (y_pred + a * b))\n",
    "        return np.mean(2 * y * a / (1.0 + u))\n",
    "\n",
    "    def _negative_gradient(self, y, y_pred):\n",
    "        u = np.exp(-2.0 * y * y_pred)\n",
    "        return 2.0 * y * u / (1.0 + u)\n",
    "\n",
    "    def __generate_subsample_mask(self, size):\n",
    "        ids = np.random.choice(np.arange(size),size=self.subsample_size)\n",
    "        mask = np.zeros(size).astype(bool)\n",
    "        mask[ids] = True\n",
    "        return mask\n",
    "\n",
    "    def _b(self, X, y, a, y_pred, iters=10):\n",
    "        b = 1.0\n",
    "        for i in range(iters):\n",
    "            b += self._negative_gradient_b(y, y_pred, a, b)\n",
    "        return b\n",
    "\n",
    "    def fit(self, X, y):\n",
    "        self.subsample_size = int(self.subsample * X.shape[0])\n",
    "        self.b[0] = 1.0\n",
    "        self.trees_[0] = self.base_tree(self.min_samples_split,\n",
    "                                        self.max_depth)\n",
    "        self.trees_[0].fit(X, y)\n",
    "        pred = self.trees_[0].predict(X)\n",
    "        self.loss_by_iter.append(self._loss_iter(y, pred))\n",
    "        for i in range(1, self.n_estimators):\n",
    "            g = self._negative_gradient(y, pred)\n",
    "            mask = self.__generate_subsample_mask(X.shape[0])\n",
    "            self.trees_[i] = self.base_tree(self.min_samples_split,\n",
    "                                            self.max_depth)\n",
    "            self.trees_[i].fit(X[mask], g[mask])\n",
    "            new_pred = self.trees_[i].predict(X)\n",
    "            self.b[i] = self._b(X, y, new_pred, pred)\n",
    "            pred += self.learning_rate * self.b[i] * new_pred\n",
    "            self.loss_by_iter.append(self._loss_iter(y[mask], pred[mask]))\n",
    "        return self\n",
    "\n",
    "    def predict(self, X, y_true=None):\n",
    "        scores = self._decision_function(X)\n",
    "        indices = (scores >= 0).astype(np.int_)\n",
    "        indices = 2 * indices - 1\n",
    "        return indices\n"
   ]
  },
  {
   "cell_type": "code",
   "execution_count": 18,
   "metadata": {},
   "outputs": [],
   "source": [
    "N_ESTIMATORS = 300"
   ]
  },
  {
   "cell_type": "code",
   "execution_count": 19,
   "metadata": {
    "scrolled": false
   },
   "outputs": [
    {
     "name": "stdout",
     "output_type": "stream",
     "text": [
      "0.2780815512179924\n",
      "Wall time: 2min 4s\n"
     ]
    }
   ],
   "source": [
    "%%time\n",
    "my_model = MyGradientBoosting(learning_rate=0.1, n_estimators=N_ESTIMATORS, max_depth=3,\n",
    "                              base_tree=MyDecisionTreeRegressor)\n",
    "my_model.fit(x_spam_train, y_spam_train)\n",
    "my_pred = my_model.predict(x_spam_test)\n",
    "score_my_model = bern(y_spam_test, my_pred)\n",
    "print(score_my_model)"
   ]
  },
  {
   "cell_type": "markdown",
   "metadata": {},
   "source": [
    "## Sklearn GradientBoosting"
   ]
  },
  {
   "cell_type": "code",
   "execution_count": 20,
   "metadata": {},
   "outputs": [
    {
     "name": "stdout",
     "output_type": "stream",
     "text": [
      "0.2048914159753512\n",
      "Wall time: 9.03 s\n"
     ]
    }
   ],
   "source": [
    "%%time\n",
    "\n",
    "base_model = GradientBoostingClassifier(loss='deviance', n_estimators=N_ESTIMATORS,\n",
    "                                        max_depth=3)\n",
    "base_model.fit(x_spam_train, y_spam_train)\n",
    "base_pred = base_model.predict(x_spam_test)\n",
    "score_base_model = bern(y_spam_test, base_pred)\n",
    "print(score_base_model)"
   ]
  },
  {
   "cell_type": "markdown",
   "metadata": {},
   "source": [
    "# Results"
   ]
  },
  {
   "cell_type": "code",
   "execution_count": 21,
   "metadata": {},
   "outputs": [],
   "source": [
    "N_ESTIMATORS=300"
   ]
  },
  {
   "cell_type": "code",
   "execution_count": 22,
   "metadata": {},
   "outputs": [
    {
     "data": {
      "image/png": "[encoded data removed]",
      "text/plain": [
       "<Figure size 720x432 with 1 Axes>"
      ]
     },
     "metadata": {
      "needs_background": "light"
     },
     "output_type": "display_data"
    }
   ],
   "source": [
    "%matplotlib inline\n",
    "plt.figure(figsize=(10, 6))\n",
    "plt.title('Deviance')\n",
    "plt.plot(np.arange(N_ESTIMATORS) + 1, base_model.train_score_[:N_ESTIMATORS],\n",
    "         'm-', label='sklearn boosting')\n",
    "plt.plot(np.arange(N_ESTIMATORS) + 1, base_model.train_score_[:N_ESTIMATORS] * 1.03,\n",
    "         'b-', label='upper bound')\n",
    "plt.plot(np.arange(N_ESTIMATORS) + 1, base_model.train_score_[:N_ESTIMATORS] * 0.97,\n",
    "         'b-', label='lower bound')\n",
    "plt.plot(np.arange(N_ESTIMATORS) + 1, my_model.loss_by_iter[:N_ESTIMATORS], 'r-', label='my boosting')\n",
    "\n",
    "\n",
    "plt.legend(loc='upper right')\n",
    "plt.xlabel('Boosting Iterations')\n",
    "plt.ylabel('bernoulli loss')\n",
    "plt.show()"
   ]
  },
  {
   "cell_type": "code",
   "execution_count": 23,
   "metadata": {
    "scrolled": false
   },
   "outputs": [
    {
     "data": {
      "image/png": "[encoded data removed]",
      "text/plain": [
       "<Figure size 720x432 with 1 Axes>"
      ]
     },
     "metadata": {
      "needs_background": "light"
     },
     "output_type": "display_data"
    }
   ],
   "source": [
    "%matplotlib inline\n",
    "plt.figure(figsize=(10, 6))\n",
    "plt.title('Deviance')\n",
    "plt.plot(np.arange(N_ESTIMATORS-10,N_ESTIMATORS) + 1, base_model.train_score_[N_ESTIMATORS-10:N_ESTIMATORS],\n",
    "         'm-', label='sklearn boosting')\n",
    "plt.plot(np.arange(N_ESTIMATORS-10,N_ESTIMATORS) + 1, base_model.train_score_[N_ESTIMATORS-10:N_ESTIMATORS] * 1.03,\n",
    "         'b-', label='upper')\n",
    "plt.plot(np.arange(N_ESTIMATORS-10,N_ESTIMATORS) + 1, base_model.train_score_[N_ESTIMATORS-10:N_ESTIMATORS] * 0.97,\n",
    "         'b-', label='lower')\n",
    "plt.plot(np.arange(N_ESTIMATORS-10,N_ESTIMATORS) + 1,\n",
    "         my_model.loss_by_iter[N_ESTIMATORS-10:N_ESTIMATORS], 'r-', label='my boosting')\n",
    "\n",
    "plt.legend(loc='upper right')\n",
    "plt.xlabel('Boosting Iterations')\n",
    "plt.ylabel('bernoulli loss')\n",
    "plt.show()"
   ]
  }
 ],
 "metadata": {
  "kernelspec": {
   "display_name": "Python 3",
   "language": "python",
   "name": "python3"
  },
  "language_info": {
   "codemirror_mode": {
    "name": "ipython",
    "version": 3
   },
   "file_extension": ".py",
   "mimetype": "text/x-python",
   "name": "python",
   "nbconvert_exporter": "python",
   "pygments_lexer": "ipython3",
   "version": "3.7.3"
  },
  "toc": {
   "base_numbering": 1,
   "nav_menu": {},
   "number_sections": true,
   "sideBar": true,
   "skip_h1_title": false,
   "title_cell": "Table of Contents",
   "title_sidebar": "Contents",
   "toc_cell": false,
   "toc_position": {
    "height": "calc(100% - 180px)",
    "left": "10px",
    "top": "150px",
    "width": "231px"
   },
   "toc_section_display": true,
   "toc_window_display": true
  }
 },
 "nbformat": 4,
 "nbformat_minor": 4
}
