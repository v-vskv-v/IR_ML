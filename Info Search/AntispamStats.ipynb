{
 "cells": [
  {
   "cell_type": "markdown",
   "metadata": {},
   "source": [
    "# ** Описание **"
   ]
  },
  {
   "cell_type": "raw",
   "metadata": {},
   "source": [
    "Построить графики распределения в спам и не спам множествах следующих признаков:\n",
    "\n",
    "1\tКоличество слов на странице\n",
    "2\tСредняя длинна слова\n",
    "3\tКоличество слов в заголовке страниц (слова в теге <html><head><title> Some text </title>)\n",
    "4\tКоличество слов в анкорах ссылок (<html><body><a> Some text </a>)\n",
    "5\tКоэффициент сжатия\n",
    "\n",
    "Нужно посчитать статистику минимум по трем признакам и обязательно сделать для 1-го и 2-го признаков\n",
    "\n",
    "И отправить первое решение в соревнование https://kaggle.com/join/antispam_infopoisk\n",
    "На основании одного из указанных выше признаков попытаться разделить мн-во, так чтобы score в соревновании был больше 0.55\n",
    "\n",
    "При выполнении всех этих условия в течении семинара +1 балл к ДЗ\n",
    "\n",
    "Описание ДЗ и правил выставления за него баллов в https://inclass.kaggle.com/c/antispam-infopoisk  \n",
    "Сроки ДЗ уточнить у преподователя - обычно 2 недели"
   ]
  },
  {
   "cell_type": "code",
   "execution_count": 1,
   "metadata": {},
   "outputs": [],
   "source": [
    "from __future__ import division\n",
    "\n",
    "import base64\n",
    "import csv\n",
    "import pymorphy2\n",
    "import gzip\n",
    "import zlib\n",
    "import numpy as np\n",
    "from html.parser import HTMLParser\n",
    "import re\n",
    "from bs4 import BeautifulSoup\n",
    "from urllib.parse import urlparse\n",
    "import bz2\n",
    "from gensim.parsing.preprocessing import remove_stopwords, split_alphanum, strip_multiple_whitespaces\n",
    "\n",
    "from collections import namedtuple\n",
    "\n",
    "%matplotlib inline\n",
    "import matplotlib.pyplot as plt\n",
    "import logging\n",
    "import importlib"
   ]
  },
  {
   "cell_type": "code",
   "execution_count": 2,
   "metadata": {},
   "outputs": [],
   "source": [
    "TRACE_NUM = 400\n",
    "importlib.reload(logging)\n",
    "logging.basicConfig(format='%(asctime)s %(levelname)s:%(message)s', level=logging.INFO, datefmt='%H:%M:%S')\n",
    "\n",
    "def trace(items_num, trace_num=TRACE_NUM):\n",
    "    if items_num % trace_num == 0: logging.info(\"Complete items %05d\" % items_num)\n",
    "        \n",
    "def trace_worker(items_num, worker_id, trace_num=TRACE_NUM):\n",
    "    if items_num % trace_num == 0: logging.info(\"Complete items %05d in worker_id %d\" % (items_num, worker_id))"
   ]
  },
  {
   "cell_type": "markdown",
   "metadata": {},
   "source": [
    "### Утилиты"
   ]
  },
  {
   "cell_type": "markdown",
   "metadata": {},
   "source": [
    "#### Декораторы"
   ]
  },
  {
   "cell_type": "code",
   "execution_count": 3,
   "metadata": {},
   "outputs": [],
   "source": [
    "def to_utf8(text):\n",
    "    if isinstance(text, unicode): text = text.encode('utf8')\n",
    "    return text\n",
    "\n",
    "def convert2unicode(f):\n",
    "    def tmp(text):\n",
    "        if not isinstance(text, unicode): text = text.decode('utf8')\n",
    "        return f(text)\n",
    "    return tmp\n",
    "\n",
    "def convert2lower(f):\n",
    "    def tmp(text):        \n",
    "        return f(text.lower())\n",
    "    return tmp\n",
    "\n",
    "#P.S. Декораторы могут усложнять отладку, так что от них вполне можно отказаться и воспользоваться copy-paste"
   ]
  },
  {
   "cell_type": "markdown",
   "metadata": {},
   "source": [
    "### Извлечение текста из html"
   ]
  },
  {
   "cell_type": "markdown",
   "metadata": {},
   "source": [
    "#### Извлечение текста при помощи встроенных модулей"
   ]
  },
  {
   "cell_type": "code",
   "execution_count": 4,
   "metadata": {},
   "outputs": [],
   "source": [
    "class TextHTMLParser(HTMLParser):\n",
    "    def __init__(self):\n",
    "        HTMLParser.__init__(self)\n",
    "        self._text = []\n",
    "        self._title = \"\"\n",
    "        self._in_title = False\n",
    "\n",
    "    def handle_data(self, data):\n",
    "        text = data.strip()\n",
    "        if len(text) > 0:\n",
    "            text = re.sub('[ \\t\\r\\n]+', ' ', text)\n",
    "            self._text.append(text + ' ')\n",
    "\n",
    "    def handle_starttag(self, tag, attrs):\n",
    "        if tag == 'p':\n",
    "            self._text.append('\\n\\n')\n",
    "        elif tag == 'br':\n",
    "            self._text.append('\\n')\n",
    "        elif tag == 'title':\n",
    "            self._in_title = True\n",
    "\n",
    "    def handle_startendtag(self, tag, attrs):\n",
    "        if tag == 'br':\n",
    "            self._text.append('\\n\\n')\n",
    "\n",
    "    def text(self):\n",
    "        return ''.join(self._text).strip()\n",
    "\n",
    "# @convert2unicode as in Python 3, all strings are sequences of Unicode characters\n",
    "def html2text_parser(text):\n",
    "    parser = TextHTMLParser()\n",
    "    parser.feed(text)\n",
    "    return parser.text()"
   ]
  },
  {
   "cell_type": "markdown",
   "metadata": {},
   "source": [
    "#### Извлечение текста при помощи дополнительных библиотек"
   ]
  },
  {
   "cell_type": "code",
   "execution_count": 5,
   "metadata": {},
   "outputs": [],
   "source": [
    "def html2text_bs(raw_html):\n",
    "    soup = BeautifulSoup(raw_html, \"html.parser\")\n",
    "    [s.extract() for s in soup(['script', 'style'])]\n",
    "    return soup.get_text()\n",
    "\n",
    "def html2text_bs_visible(raw_html):\n",
    "    soup = BeautifulSoup(raw_html, \"html.parser\")    \n",
    "    [s.extract() for s in soup(['style', 'script', '[document]', 'head', 'title'])]\n",
    "    return soup.get_text()\n",
    "\n",
    "def html2title_bs(raw_html):\n",
    "    soup = BeautifulSoup(raw_html, \"html.parser\")\n",
    "    title = soup.find('title')\n",
    "    if title:\n",
    "        return title.get_text()\n",
    "    else:\n",
    "        return ''\n",
    "    \n",
    "def html_has_h1(raw_html):\n",
    "    soup = BeautifulSoup(raw_html, \"html.parser\")\n",
    "    title = soup.find('h1')\n",
    "    if title:\n",
    "        return 1\n",
    "    else:\n",
    "        return 0\n",
    "    \n",
    "def html_has_h2(raw_html):\n",
    "    soup = BeautifulSoup(raw_html, \"html.parser\")\n",
    "    h = soup.find('h2')\n",
    "    if h:\n",
    "        return 1\n",
    "    else:\n",
    "        return 0\n",
    "    \n",
    "def html_has_video(raw_html):\n",
    "    soup = BeautifulSoup(raw_html, \"html.parser\")\n",
    "    h = soup.find('video')\n",
    "    if h:\n",
    "        return 1\n",
    "    else:\n",
    "        return 0\n",
    "    \n",
    "def html_description_len(raw_html):\n",
    "    soup = BeautifulSoup(raw_html, \"html.parser\")\n",
    "    tag = soup.find(\"meta\", {\"name\":\"description\"})\n",
    "    content = ''\n",
    "    if tag:\n",
    "        content += str(tag.get('content'))\n",
    "        content += str(tag.get('value'))\n",
    "    return len(content)\n",
    "    \n",
    "def html_description_words_num(raw_html):\n",
    "    soup = BeautifulSoup(raw_html, \"html.parser\")\n",
    "    tag = soup.find(\"meta\", {\"name\":\"description\"})\n",
    "    content = ''\n",
    "    if tag:\n",
    "        content += str(tag.get('content'))\n",
    "        content += str(tag.get('value'))\n",
    "    return len(list(pymorphy_tokenizer(content)))\n",
    "    \n",
    "def html_image_num(raw_html):\n",
    "    soup = BeautifulSoup(raw_html, \"html.parser\")\n",
    "    tags = soup.find_all(\"img\")\n",
    "    return len(tags) \n",
    "    \n",
    "def html_image_with_alt_num(raw_html):\n",
    "    soup = BeautifulSoup(raw_html, \"html.parser\")\n",
    "    tags = soup.find_all(\"img\", alt=True)\n",
    "    return len(tags)\n",
    "\n",
    "def html_links_num(raw_html):\n",
    "    soup = BeautifulSoup(raw_html, \"html.parser\")\n",
    "    return len(soup.find_all('a'))\n",
    "\n",
    "def html_unique_links_num(raw_html):\n",
    "    soup = BeautifulSoup(raw_html, \"html.parser\")\n",
    "    out_links = []\n",
    "    for link in soup.find_all('a'):\n",
    "        url = link.get('href')\n",
    "        out_links.append(urlparse(url).netloc)\n",
    "    return len(list(set(out_links)))\n",
    "   \n",
    "def html_self_links_num(raw_html, self_url):\n",
    "    soup = BeautifulSoup(raw_html, \"html.parser\")\n",
    "    count = 0\n",
    "    for link in soup.find_all('a'):\n",
    "        url = link.get('href')\n",
    "#         print('from', urlparse(url).netloc,  'to', urlparse(self_url).netloc)\n",
    "        if urlparse(url).netloc == urlparse(self_url).netloc:\n",
    "            count += 1\n",
    "    return count\n",
    "\n",
    "def html2anchors_bs(raw_html):\n",
    "    soup = BeautifulSoup(raw_html, \"html.parser\")    \n",
    "    soup = soup.find('body')\n",
    "    anchors = []\n",
    "    if soup:\n",
    "        anchors = [a.get_text() for a in soup.find_all('a')]\n",
    "    return ''.join(anchors)"
   ]
  },
  {
   "cell_type": "markdown",
   "metadata": {},
   "source": [
    "#### Выбираем какой метод для конвертации html в текст будет основным"
   ]
  },
  {
   "cell_type": "code",
   "execution_count": 6,
   "metadata": {},
   "outputs": [],
   "source": [
    "html2text = html2text_bs\n",
    "# html2text = html2text_parser"
   ]
  },
  {
   "cell_type": "markdown",
   "metadata": {},
   "source": [
    "#### Методы для токенизации текста"
   ]
  },
  {
   "cell_type": "code",
   "execution_count": 7,
   "metadata": {},
   "outputs": [],
   "source": [
    "@convert2lower\n",
    "def easy_tokenizer(text):\n",
    "    word = ''\n",
    "    for symbol in text:\n",
    "        if symbol.isalnum(): word += symbol\n",
    "        elif word:\n",
    "            yield word\n",
    "            word = ''\n",
    "    if word: yield word\n",
    "\n",
    "PYMORPHY_CACHE = {}\n",
    "df = pymorphy2.MorphAnalyzer()\n",
    "\n",
    "@convert2lower\n",
    "def pymorphy_tokenizer(text):\n",
    "    global PYMORPHY_CACHE\n",
    "    for word in easy_tokenizer(text):\n",
    "        word_hash = hash(word)\n",
    "        if word_hash not in PYMORPHY_CACHE:\n",
    "            PYMORPHY_CACHE[word_hash] = df.parse(word)[0].normal_form            \n",
    "        yield PYMORPHY_CACHE[word_hash]"
   ]
  },
  {
   "cell_type": "markdown",
   "metadata": {},
   "source": [
    "#### Основная функция, которая вызывается для преобразования html в список слов"
   ]
  },
  {
   "cell_type": "code",
   "execution_count": 8,
   "metadata": {},
   "outputs": [],
   "source": [
    "def html2word(raw_html, to_text=html2text, tokenizer=easy_tokenizer):\n",
    "    return tokenizer(to_text(raw_html).lower())"
   ]
  },
  {
   "cell_type": "markdown",
   "metadata": {},
   "source": [
    "#### Рассчет финальных метрик"
   ]
  },
  {
   "cell_type": "code",
   "execution_count": 9,
   "metadata": {},
   "outputs": [],
   "source": [
    "def safe_divide(a, b):\n",
    "    if a == 0: return 0.0\n",
    "    elif b == 0: return 0.0\n",
    "    else: return a / b\n",
    "\n",
    "def calculate_metrics(predictions, threshold):    \n",
    "    \"\"\"\n",
    "    Функция подсчета метрик\n",
    "    Параметры\n",
    "    predictions - ранки по документам\n",
    "    threshold  - порог для метрик\n",
    "    \"\"\"\n",
    "    true_positive = 0\n",
    "    false_positive = 0\n",
    "    true_negative = 0\n",
    "    false_negative = 0\n",
    "    for (url_id, mark, url, prediction) in predictions:        \n",
    "        mark_predict = prediction > threshold\n",
    "\n",
    "        if mark_predict:                     \n",
    "            if mark_predict == mark: true_positive += 1\n",
    "            else: false_positive += 1                    \n",
    "        else:                     \n",
    "            if  mark_predict == mark: true_negative += 1\n",
    "            else: false_negative += 1\n",
    "\n",
    "    class_prec  = safe_divide(true_positive, true_positive + false_positive)\n",
    "    class_recall = safe_divide(true_positive, true_positive + false_negative)\n",
    "        \n",
    "    class_F1 = safe_divide(2 * class_prec * class_recall, class_prec + class_recall)\n",
    "    \n",
    "    \n",
    "    not_class_prec = safe_divide(true_negative, true_negative + false_negative)\n",
    "    not_class_recall = safe_divide(true_negative, true_negative + false_positive)\n",
    "    \n",
    "    not_class_F1 = safe_divide(2 * not_class_prec * not_class_recall, not_class_prec + not_class_recall)\n",
    "    \n",
    "    return ( (class_prec, class_recall, class_F1), (not_class_prec, not_class_recall, not_class_F1) )\n",
    "\n",
    "def arange(start, stop, step):\n",
    "    cur_value = start\n",
    "    while True:\n",
    "        if cur_value > stop: break\n",
    "        yield cur_value\n",
    "        cur_value += step\n",
    "\n",
    "def plot_results(docs, min_threshold=-1, max_threshold=1, step=0.1, trace=False):\n",
    "    x = []\n",
    "    y_p = []\n",
    "    y_n = []\n",
    "    docs_predictions = classifier.predict_all(docs)\n",
    "    for threshold in arange(min_threshold, max_threshold, step):\n",
    "        r = calculate_metrics(docs_predictions, threshold)\n",
    "        x.append(threshold)\n",
    "        y_p.append(r[0])\n",
    "        y_n.append(r[1])        \n",
    "        if trace: \n",
    "            print('threshold %s' % threshold)\n",
    "            print('\\tclass_prec %s, class_recall %s, class_F1 %s' % r[0])\n",
    "            print('\\tnot_class_prec %s, not_class_recall %s, not_class_F1 %s' % r[1])\n",
    "            print('\\t\\tMacroF1Mesure %s' % ((r[0][2] + r[1][2])/2))\n",
    "    plot_stats(x, y_p, \"Class Result\")\n",
    "    plot_stats(x, y_n, \"Not class Result\")    \n",
    "\n",
    "\n",
    "def plot_stats(x, y, title):\n",
    "    plt.figure(figsize=(10, 5))\n",
    "\n",
    "    prec, = plt.plot( x, \n",
    "                     [k[0] for k in y], \"r\", label='Precision', \n",
    "                     linewidth=1)\n",
    "    accur, = plt.plot( x, \n",
    "                      [k[1] for k in y], \"b\", label='Recall',\n",
    "                      linewidth=1)\n",
    "    f1, =    plt.plot( x, \n",
    "                      [k[2] for k in y], \"g\", label='F1',\n",
    "                      linewidth=1)\n",
    "    plt.grid(True)\n",
    "    plt.legend(handles=[prec, accur, f1])\n",
    "    plt.title(title)\n",
    "    plt.show()"
   ]
  },
  {
   "cell_type": "code",
   "execution_count": 10,
   "metadata": {},
   "outputs": [
    {
     "name": "stderr",
     "output_type": "stream",
     "text": [
      "[nltk_data] Downloading package stopwords to\n",
      "[nltk_data]     C:\\Users\\miracle\\AppData\\Roaming\\nltk_data...\n",
      "[nltk_data]   Package stopwords is already up-to-date!\n"
     ]
    }
   ],
   "source": [
    "import nltk\n",
    "nltk.download('stopwords')\n",
    "from nltk.corpus import stopwords\n",
    "\n",
    "def get_stopwords_ratio(words):\n",
    "    ru_sw = stopwords.words('russian')\n",
    "    en_sw = stopwords.words('english')\n",
    "    sw = en_sw + ru_sw\n",
    "    sw_count = 0\n",
    "    for word in words:\n",
    "        if word in sw:\n",
    "            sw_count += 1\n",
    "    return safe_divide(sw_count, len(words))\n",
    "    \n",
    "def get_text_without_stopwords(words):\n",
    "    ru_sw = stopwords.words('russian')\n",
    "    en_sw = stopwords.words('english')\n",
    "    sw = en_sw + ru_sw\n",
    "    without_sw = [word for word in words if word not in sw]\n",
    "    return ' '.join(list(without_sw))"
   ]
  },
  {
   "cell_type": "code",
   "execution_count": 11,
   "metadata": {},
   "outputs": [],
   "source": [
    "def total_len(words):\n",
    "    return len(''.join(words))\n",
    "\n",
    "def get_title_words_num(html):\n",
    "    title = html2title_bs(html)\n",
    "    return len(list(easy_tokenizer(title)))\n",
    "\n",
    "def get_anchors_words_num(html):\n",
    "    anchors = html2anchors_bs(html)\n",
    "    anchors_words = easy_tokenizer(anchors)\n",
    "    return len(list(anchors_words))\n",
    "\n",
    "class Zlib():\n",
    "    \n",
    "    def __init__(self, html):\n",
    "        self.html = html\n",
    "        self.compressed = zlib.compress(html)\n",
    "        \n",
    "    def get_zlib_compr_num(self):\n",
    "        return len(self.compressed)\n",
    "\n",
    "    def get_zlib_compr_lvl(self):\n",
    "        return safe_divide(len(self.html), len(self.compressed))\n",
    "\n",
    "class Bz2():\n",
    "    \n",
    "    def __init__(self, html):\n",
    "        self.html = html\n",
    "        self.compressed = bz2.compress(html)\n",
    "    \n",
    "    def get_bz2_compr_num(self):\n",
    "        return len(self.compressed)\n",
    "\n",
    "    def get_bz2_compr_lvl(self):\n",
    "        return safe_divide(len(self.html), len(self.compressed))\n",
    "\n",
    "class Gzip():\n",
    "    \n",
    "    def __init__(self, html):\n",
    "        self.html = html\n",
    "        self.compressed = gzip.compress(html)        \n",
    "    \n",
    "    def get_gzip_compr_num(self):\n",
    "        return len(self.compressed)\n",
    "\n",
    "    def get_gzip_compr_lvl(self):        \n",
    "        return safe_divide(len(self.html), len(self.compressed))\n",
    "\n",
    "def is_secure_url(url):\n",
    "    res = re.match('https', url)\n",
    "    if res:\n",
    "        return 1\n",
    "    else:\n",
    "        return 0\n",
    "        \n",
    "def calc_features(url, html_data):\n",
    "    features = {}\n",
    "    zlib = Zlib(html_data)\n",
    "    bz2 = Bz2(html_data)\n",
    "    gzip = Gzip(html_data)\n",
    "    words = list(html2word(html_data))\n",
    "    features['words_num'] = len(words)\n",
    "    features['avg_word_len'] = safe_divide(total_len(words), features['words_num'])\n",
    "    features['title_words_num'] = get_title_words_num(html_data)\n",
    "    features['anchor_words_num'] = get_anchors_words_num(html_data)\n",
    "    features['anchor_words_ratio'] = safe_divide(features['anchor_words_num'], features['words_num'])\n",
    "    features['zlib_compr_len'] = zlib.get_zlib_compr_num()\n",
    "    features['zlib_compr_lvl'] = zlib.get_zlib_compr_lvl()\n",
    "    features['bz2_compr_len'] = bz2.get_bz2_compr_num()\n",
    "    features['bz2_compr_lvl'] = bz2.get_bz2_compr_lvl()\n",
    "    features['gzip_compr_num'] = gzip.get_gzip_compr_num()\n",
    "    features['gzip_compr_len'] = gzip.get_gzip_compr_lvl()\n",
    "    \n",
    "    features['url_ssl_certificate'] = is_secure_url(url)\n",
    "    features['url_len'] = len(url)\n",
    "    features['url_subdomains_len'] = len(list(url.split('.')))\n",
    "    features['url_digits'] = len(re.findall(r'\\d', url))\n",
    "    \n",
    "    features['html_len'] = len(html_data)\n",
    "    features['visible_percent'] = safe_divide(len(html2text_bs_visible(html_data)), features['html_len'])\n",
    "    features['h1_presense'] = html_has_h1(html_data)\n",
    "    features['h2_presence'] = html_has_h2(html_data)\n",
    "    features['video_presence'] = html_has_video(html_data)\n",
    "    features['title_len'] = len(html2title_bs(html_data))\n",
    "    features['description_len'] = html_description_len(html_data)\n",
    "    features['description_words_num'] = html_description_words_num(html_data)\n",
    "    features['image_num'] = html_image_num(html_data)\n",
    "    features['image_with_alt_num'] = html_image_with_alt_num(html_data)\n",
    "    \n",
    "    features['unique_words_num'] = len(list(set(words)))\n",
    "    features['unique_words_ratio'] = safe_divide(features['unique_words_num'], len(words))\n",
    "    features['comma_num'] = len(html2text(html_data).split(','))\n",
    "    \n",
    "    features['stopwords_ratio'] = get_stopwords_ratio(words)\n",
    "    features['links_num'] = html_links_num(html_data)\n",
    "    features['self_links_num'] = html_self_links_num(html_data, url)\n",
    "    features['unique_links_num'] = html_unique_links_num(html_data)\n",
    "    if features['links_num'] != 0:\n",
    "        features['unique_links_ratio'] = safe_divide(features['unique_links_num'], features['links_num'])\n",
    "    else:\n",
    "        features['unique_links_ratio'] = 1   \n",
    "\n",
    "    text = html2text(html_data)\n",
    "    text = remove_stopwords(text)\n",
    "    text = split_alphanum(text)\n",
    "    text =  strip_multiple_whitespaces(text)\n",
    "    features['text'] = text\n",
    "    \n",
    "#     for k, v in features.items():\n",
    "#         print(k, v)\n",
    "    return list(features.values())"
   ]
  },
  {
   "cell_type": "code",
   "execution_count": 12,
   "metadata": {},
   "outputs": [
    {
     "name": "stdout",
     "output_type": "stream",
     "text": [
      "34 [22, 5.454545454545454, 2, 9, 0.4090909090909091, 283, 3.6678445229681977, 379, 2.7387862796833775, 295, 3.51864406779661, 0, 30, 4, 3, 1038, 0.2418111753371869, 0, 0, 0, 18, 0, 0, 6, 0, 12, 0.5454545454545454, 1, 0.0, 6, 0, 1, 0.16666666666666666, 'Заголовок Ololo GERE Content 11 Content 2&*&\"??>?}}{<>{^:~?`}}\"@!&&$@**(::LD:ASLFSAW)#(*_)#@ GERE Content 11 Content 2&*&\"??>?}}{<>{^:~?`}}\"@!&&$@**(::LD:ASLFSAW)#(*_)#@ GERE Content 11 Content 2&*&\"??>?}}{<>{^:~?`}}\"@!&&$@**(::LD:ASLFSAW)#(*_)#@ спам 1 2 3']\n"
     ]
    }
   ],
   "source": [
    "test_html_data = u'''\n",
    "<html>\n",
    "<head>\n",
    "something\n",
    "<title> Заголовок \n",
    "Ololo </title>\n",
    "</head>\n",
    "<body>\n",
    "<div class=\"image\">GERE\n",
    "<a href=\"http://www.example.com/eg1\">Content1<img  \n",
    "src=\"http://image.example.com/img1.jpg\" />1</a>\n",
    "</div>\n",
    "<div class=\"image\">\n",
    "<a href=\"http://www.example.com/eg2\">Content2<img  \n",
    "src=\"http://image.example.com/img2.jpg\" />&*&\"??>?}}{<>{^:~?`}}\"@!&&$@**(::LD:ASLFSAW)#(*_)#@</a>\n",
    "</div>\n",
    "<div class=\"image\">GERE\n",
    "<a href=\"http://www.example.com/eg1\">Content1<img  \n",
    "src=\"http://image.example.com/img1.jpg\" />1</a>\n",
    "</div>\n",
    "<div class=\"image\">\n",
    "<a href=\"http://www.example.com/eg2\">Content2<img  \n",
    "src=\"http://image.example.com/img2.jpg\" />&*&\"??>?}}{<>{^:~?`}}\"@!&&$@**(::LD:ASLFSAW)#(*_)#@</a>\n",
    "</div>\n",
    "<div class=\"image\">GERE\n",
    "<a href=\"http://www.example.com/eg1\">Content1<img  \n",
    "src=\"http://image.example.com/img1.jpg\" />1</a>\n",
    "</div>\n",
    "<div class=\"image\">\n",
    "<a href=\"http://www.example.com/eg2\">Content2<img  \n",
    "src=\"http://image.example.com/img2.jpg\" />&*&\"??>?}}{<>{^:~?`}}\"@!&&$@**(::LD:ASLFSAW)#(*_)#@</a>\n",
    "</div>\n",
    "</body>\n",
    "спам 1 2 3\n",
    "</html>\n",
    "'''\n",
    "test_url = 'http://ololo.sd234f.sfsdfs.sdf'\n",
    "test_features = calc_features(test_url, test_html_data.encode())\n",
    "print(len(test_features), test_features)"
   ]
  },
  {
   "cell_type": "code",
   "execution_count": 13,
   "metadata": {},
   "outputs": [],
   "source": [
    "from multiprocessing import Process, Queue\n",
    "\n",
    "DocItem = namedtuple('DocItem', ['doc_id', 'is_spam', 'url', 'features'])\n",
    "\n",
    "WORKER_NUM = 1\n",
    "\n",
    "def load_csv(input_file_name, calc_features_f):    \n",
    "    \"\"\"\n",
    "    Загружаем данные и извлекаем на лету признаки\n",
    "    Сам контент не сохраняется, чтобы уменьшить потребление памяти - чтобы\n",
    "    можно было запускать даже на ноутбуках в классе\n",
    "    \"\"\"\n",
    "    \n",
    "    with gzip.open(input_file_name) if input_file_name.endswith('gz') else open(input_file_name)  as input_file:            \n",
    "        headers = input_file.readline()\n",
    "        \n",
    "        for i, line in enumerate(input_file):\n",
    "            trace(i)\n",
    "            parts = line.strip().split('\\t')\n",
    "            url_id = int(parts[0])                                        \n",
    "            mark = bool(int(parts[1]))                    \n",
    "            url = parts[2]\n",
    "            pageInb64 = parts[3]\n",
    "            html_data = base64.b64decode(pageInb64)\n",
    "            features = calc_features_f(url, html_data)            \n",
    "            yield DocItem(url_id, mark, url, features)            \n",
    "                \n",
    "        trace(i, 1)  \n",
    "        \n",
    "def load_csv_worker(input_file_name, calc_features_f, worker_id, res_queue):    \n",
    "    with gzip.open(input_file_name) if input_file_name.endswith('gz') else open(input_file_name)  as input_file:            \n",
    "        headers = input_file.readline()\n",
    "        for i, line in enumerate(input_file):\n",
    "            trace_worker(i, worker_id)\n",
    "            if i % WORKER_NUM != worker_id: continue\n",
    "#             print(line.decode(\"utf-8\"))\n",
    "            parts = line.decode(\"utf-8\").strip().split('\\t')\n",
    "            url_id = int(parts[0])                                        \n",
    "            mark = bool(int(parts[1]))                    \n",
    "            url = parts[2]\n",
    "            pageInb64 = parts[3]\n",
    "            html_data = base64.b64decode(pageInb64)\n",
    "            features = calc_features_f(url, html_data)            \n",
    "            res_queue.put(DocItem(url_id, mark, url, features))\n",
    "            \n",
    "        trace_worker(i, worker_id, 1)  \n",
    "    res_queue.put(None)\n",
    "        \n",
    "def load_csv_multiprocess(input_file_name, calc_features_f):\n",
    "    processes = []\n",
    "    res_queue = Queue()    \n",
    "    for i in range(WORKER_NUM):\n",
    "        process = Process(target=load_csv_worker, args=(input_file_name, calc_features_f, i, res_queue))\n",
    "        processes.append(process)\n",
    "        process.start()\n",
    "    \n",
    "    complete_workers = 0\n",
    "    while complete_workers != WORKER_NUM:\n",
    "        item = res_queue.get()\n",
    "        if item is None:\n",
    "            complete_workers += 1\n",
    "        else:\n",
    "            yield item\n",
    "        \n",
    "    for process in processes: process.join()"
   ]
  },
  {
   "cell_type": "markdown",
   "metadata": {},
   "source": [
    "** Обрабатываем входной файл **\n",
    "<br>\n",
    "Формат - поля разделенные табуляциями\n",
    "<br>\n",
    "0 - идентификатор документа\n",
    "<br>\n",
    "1 - метка класса 0 - не спам, 1 - спам\n",
    "<br>\n",
    "2 - урл документа\n",
    "<br>\n",
    "3 - документ в кодировке base64\n",
    "\n",
    "Выходной формат - массив кортежей вида\n",
    "(doc_id, is_spam, url, html_data)"
   ]
  },
  {
   "cell_type": "code",
   "execution_count": null,
   "metadata": {
    "scrolled": false
   },
   "outputs": [],
   "source": [
    "%%time\n",
    "\n",
    "TRAIN_DATA_FILE  = 'kaggle_train_data_tab.csv.gz'\n",
    "# TRAIN_DATA_FILE  = 'kaggle/kaggle_train_data_tab_300.csv.gz'\n",
    "\n",
    "train_docs = list(load_csv_multiprocess(TRAIN_DATA_FILE, calc_features))"
   ]
  },
  {
   "cell_type": "code",
   "execution_count": 180,
   "metadata": {},
   "outputs": [
    {
     "data": {
      "text/plain": [
       "7044"
      ]
     },
     "execution_count": 180,
     "metadata": {},
     "output_type": "execute_result"
    }
   ],
   "source": [
    "len(train_docs)"
   ]
  },
  {
   "cell_type": "code",
   "execution_count": 23,
   "metadata": {},
   "outputs": [
    {
     "data": {
      "image/png": "[encoded data removed]",
      "text/plain": [
       "<Figure size 432x288 with 1 Axes>"
      ]
     },
     "metadata": {
      "needs_background": "light"
     },
     "output_type": "display_data"
    }
   ],
   "source": [
    "is_spam_data = [doc.features[0] for doc in train_docs if doc[1] == True]\n",
    "not_spam_data = [doc.features[0] for doc in train_docs if doc[1] == False]\n",
    "bins = range(0,3000,10)\n",
    "plt.hist(is_spam_data, bins=bins, color='red', density=True, alpha=0.7, label='spam')\n",
    "plt.hist(not_spam_data, bins=bins, color='blue', density=True, alpha=0.7, label='not_spam')\n",
    "plt.title('NumWords')\n",
    "plt.legend()\n",
    "plt.show()"
   ]
  },
  {
   "cell_type": "code",
   "execution_count": 24,
   "metadata": {},
   "outputs": [
    {
     "data": {
      "image/png": "[encoded data removed]",
      "text/plain": [
       "<Figure size 432x288 with 1 Axes>"
      ]
     },
     "metadata": {
      "needs_background": "light"
     },
     "output_type": "display_data"
    }
   ],
   "source": [
    "is_spam_data = [doc.features[1] for doc in train_docs if doc[1] == True]\n",
    "not_spam_data = [doc.features[1] for doc in train_docs if doc[1] == False]\n",
    "bins = 100\n",
    "plt.hist(is_spam_data, bins=bins, color='red', density=True, alpha=0.7, label='spam')\n",
    "plt.hist(not_spam_data, bins=bins, color='blue', density=True, alpha=0.7, label='not_spam')\n",
    "plt.title('AvgWordLen')\n",
    "plt.legend()\n",
    "plt.show()"
   ]
  },
  {
   "cell_type": "code",
   "execution_count": 27,
   "metadata": {},
   "outputs": [
    {
     "data": {
      "image/png": "[encoded data removed]",
      "text/plain": [
       "<Figure size 432x288 with 1 Axes>"
      ]
     },
     "metadata": {
      "needs_background": "light"
     },
     "output_type": "display_data"
    }
   ],
   "source": [
    "is_spam_data = [doc.features[2] for doc in train_docs if doc[1] == True]\n",
    "not_spam_data = [doc.features[2] for doc in train_docs if doc[1] == False]\n",
    "bins = range(0, 30, 1)\n",
    "plt.hist(is_spam_data, bins=bins, color='red', normed=True, alpha=0.7, label='spam')\n",
    "plt.hist(not_spam_data, bins=bins, color='blue', normed=True, alpha=0.7, label='not_spam')\n",
    "plt.title('TitleWordsNum')\n",
    "plt.legend()\n",
    "plt.show()"
   ]
  },
  {
   "cell_type": "code",
   "execution_count": 39,
   "metadata": {},
   "outputs": [
    {
     "data": {
      "image/png": "[encoded data removed]",
      "text/plain": [
       "<Figure size 432x288 with 1 Axes>"
      ]
     },
     "metadata": {
      "needs_background": "light"
     },
     "output_type": "display_data"
    }
   ],
   "source": [
    "is_spam_data = [doc.features[3] for doc in train_docs if doc[1] == True]\n",
    "not_spam_data = [doc.features[3] for doc in train_docs if doc[1] == False]\n",
    "bins = range(0, 300, 1)\n",
    "plt.hist(is_spam_data, bins=bins, color='red', alpha=0.7, label='spam')\n",
    "plt.hist(not_spam_data, bins=bins, color='blue', alpha=0.7, label='not_spam')\n",
    "plt.title('AnchorWordsNum')\n",
    "plt.legend()\n",
    "plt.show()"
   ]
  },
  {
   "cell_type": "code",
   "execution_count": 81,
   "metadata": {},
   "outputs": [
    {
     "data": {
      "image/png": "[encoded data removed]",
      "text/plain": [
       "<Figure size 432x288 with 1 Axes>"
      ]
     },
     "metadata": {
      "needs_background": "light"
     },
     "output_type": "display_data"
    }
   ],
   "source": [
    "is_spam_data = [doc.features[4] for doc in train_docs if doc[1] == True]\n",
    "not_spam_data = [doc.features[4] for doc in train_docs if doc[1] == False]\n",
    "bins = range(0, 30, 1)\n",
    "plt.hist(is_spam_data, color='red', alpha=0.7, label='spam')\n",
    "plt.hist(not_spam_data, color='blue', alpha=0.7, label='not_spam')\n",
    "plt.title('ZlibCompressedLen')\n",
    "plt.legend()\n",
    "plt.show()"
   ]
  },
  {
   "cell_type": "code",
   "execution_count": 41,
   "metadata": {},
   "outputs": [
    {
     "data": {
      "image/png": "[encoded data removed]",
      "text/plain": [
       "<Figure size 432x288 with 1 Axes>"
      ]
     },
     "metadata": {
      "needs_background": "light"
     },
     "output_type": "display_data"
    }
   ],
   "source": [
    "is_spam_data = [doc.features[5] for doc in train_docs if doc[1] == True]\n",
    "not_spam_data = [doc.features[5] for doc in train_docs if doc[1] == False]\n",
    "bins = range(0, 30, 1)\n",
    "plt.hist(is_spam_data, bins=bins, color='red', density=True, alpha=0.7, label='spam')\n",
    "plt.hist(not_spam_data, bins=bins, color='blue', density=True, alpha=0.7, label='not_spam')\n",
    "plt.title('ZlibCompressedLevel')\n",
    "plt.legend()\n",
    "plt.show()"
   ]
  },
  {
   "cell_type": "code",
   "execution_count": 82,
   "metadata": {},
   "outputs": [
    {
     "data": {
      "image/png": "[encoded data removed]",
      "text/plain": [
       "<Figure size 432x288 with 1 Axes>"
      ]
     },
     "metadata": {
      "needs_background": "light"
     },
     "output_type": "display_data"
    }
   ],
   "source": [
    "is_spam_data = [doc.features[6] for doc in train_docs if doc[1] == True]\n",
    "not_spam_data = [doc.features[6] for doc in train_docs if doc[1] == False]\n",
    "bins = range(0, 30, 1)\n",
    "plt.hist(is_spam_data, color='red', alpha=0.7, label='spam')\n",
    "plt.hist(not_spam_data, color='blue', alpha=0.7, label='not_spam')\n",
    "plt.title('Bz2CompressedLen')\n",
    "plt.legend()\n",
    "plt.show()"
   ]
  },
  {
   "cell_type": "code",
   "execution_count": 45,
   "metadata": {},
   "outputs": [
    {
     "data": {
      "image/png": "[encoded data removed]",
      "text/plain": [
       "<Figure size 432x288 with 1 Axes>"
      ]
     },
     "metadata": {
      "needs_background": "light"
     },
     "output_type": "display_data"
    }
   ],
   "source": [
    "is_spam_data = [doc.features[7] for doc in train_docs if doc[1] == True]\n",
    "not_spam_data = [doc.features[7] for doc in train_docs if doc[1] == False]\n",
    "bins = range(0, 30, 1)\n",
    "plt.hist(is_spam_data, bins=bins, color='red', density=True, alpha=0.7, label='spam')\n",
    "plt.hist(not_spam_data, bins=bins, color='blue', density=True, alpha=0.7, label='not_spam')\n",
    "plt.title('Bz2CompressedLevel')\n",
    "plt.legend()\n",
    "plt.show()"
   ]
  },
  {
   "cell_type": "code",
   "execution_count": 83,
   "metadata": {},
   "outputs": [
    {
     "data": {
      "image/png": "[encoded data removed]",
      "text/plain": [
       "<Figure size 432x288 with 1 Axes>"
      ]
     },
     "metadata": {
      "needs_background": "light"
     },
     "output_type": "display_data"
    }
   ],
   "source": [
    "is_spam_data = [doc.features[8] for doc in train_docs if doc[1] == True]\n",
    "not_spam_data = [doc.features[8] for doc in train_docs if doc[1] == False]\n",
    "bins = range(0, 30, 1)\n",
    "plt.hist(is_spam_data, color='red', alpha=0.7, label='spam')\n",
    "plt.hist(not_spam_data, color='blue', alpha=0.7, label='not_spam')\n",
    "plt.title('GzipCompressedLen')\n",
    "plt.legend()\n",
    "plt.show()"
   ]
  },
  {
   "cell_type": "code",
   "execution_count": 49,
   "metadata": {},
   "outputs": [
    {
     "data": {
      "image/png": "[encoded data removed]",
      "text/plain": [
       "<Figure size 432x288 with 1 Axes>"
      ]
     },
     "metadata": {
      "needs_background": "light"
     },
     "output_type": "display_data"
    }
   ],
   "source": [
    "is_spam_data = [doc.features[9] for doc in train_docs if doc[1] == True]\n",
    "not_spam_data = [doc.features[9] for doc in train_docs if doc[1] == False]\n",
    "bins = range(0, 30, 1)\n",
    "plt.hist(is_spam_data, bins=bins, color='red', density=True, alpha=0.7, label='spam')\n",
    "plt.hist(not_spam_data, bins=bins, color='blue', density=True, alpha=0.7, label='not_spam')\n",
    "plt.title('GzipCompressedLevel')\n",
    "plt.legend()\n",
    "plt.show()"
   ]
  },
  {
   "cell_type": "markdown",
   "metadata": {},
   "source": [
    "## ** Классификатор: **\n",
    "\n",
    "Нужно реализовать"
   ]
  },
  {
   "cell_type": "code",
   "execution_count": 97,
   "metadata": {},
   "outputs": [],
   "source": [
    "import xgboost as xgb\n",
    "from scipy.stats import uniform, randint\n",
    "from sklearn.model_selection import GridSearchCV, RandomizedSearchCV\n",
    "from sklearn.feature_extraction.text import TfidfVectorizer\n",
    "from sklearn.model_selection import StratifiedKFold\n",
    "from sklearn.metrics import f1_score, make_scorer\n",
    "\n",
    "class Classifier:\n",
    "    \n",
    "    def __init__(self):\n",
    "        self.params = {\n",
    "            \"colsample_bytree\": uniform(0.7, 0.3),\n",
    "            \"gamma\": uniform(0, 0.5),\n",
    "            \"learning_rate\": uniform(0.03, 0.3), # default 0.1 \n",
    "            \"max_depth\": randint(2, 10), # default 3\n",
    "            \"n_estimators\": randint(100, 2000)\n",
    "        }\n",
    "\n",
    "        self.clf = xgb.XGBRegressor(objective=\"binary:hinge\",\n",
    "                                    random_state=42,\n",
    "#                                     n_estimators=2000,\n",
    "                                    subsample=0.5)\n",
    "        self.scoring = make_scorer(f1_score, average='weighted')\n",
    "        \n",
    "        self.tfidf_maxfeatures = 200\n",
    "        self.vectorizer = TfidfVectorizer(sublinear_tf=True,\n",
    "#                                           max_df=0.8,\n",
    "                                          use_idf=True,\n",
    "                                          smooth_idf=True,\n",
    "                                          max_features=self.tfidf_maxfeatures)\n",
    "        self.simple_features_len = 0\n",
    "        return\n",
    "\n",
    "\n",
    "    def predict(self, doc):\n",
    "        features = np.zeros(self.simple_features_len + self.tfidf_maxfeatures)\n",
    "        features[:self.simple_features_len] = doc.features[:-1]\n",
    "        for i in range(self.tfidf_maxfeatures):\n",
    "            w = re.findall(self.tfidf_fnames[i], doc.features[-1])\n",
    "            features[self.simple_features_len+i] = len(w)\n",
    "\n",
    "        ypred = self.best_clf.predict([features])[0]\n",
    "        return int(ypred)      \n",
    "    \n",
    "    def predict_all(self, docs):\n",
    "        res = []\n",
    "        for doc_num, doc in enumerate(docs):\n",
    "            trace(doc_num)\n",
    "            prediction = self.predict(doc)            \n",
    "            res.append( (doc.doc_id, doc.is_spam, doc.url, prediction) )\n",
    "        return res\n",
    "    \n",
    "    def fit_vectorizer(self, docs):\n",
    "        corpus = []\n",
    "        for doc in docs:\n",
    "            corpus.append(doc.features[-1])\n",
    "        \n",
    "        self.tfidf_train = self.vectorizer.fit_transform(corpus)\n",
    "        self.tfidf_fnames = self.vectorizer.get_feature_names()\n",
    "        print(self.tfidf_fnames)\n",
    "    \n",
    "    def train(self, docs):\n",
    "        self.fit_vectorizer(docs)\n",
    "        \n",
    "        self.simple_features_len = len(docs[0].features) - 1\n",
    "        \n",
    "        X = np.zeros((len(docs), self.simple_features_len + self.tfidf_maxfeatures))\n",
    "        y = np.zeros(len(docs)).astype('int')\n",
    "         \n",
    "        for doc_num, doc in enumerate(docs):                            \n",
    "            #TODO вставить код обучения\n",
    "            X[doc_num, :self.simple_features_len] = doc.features[:-1]\n",
    "            for i in range(self.tfidf_maxfeatures):\n",
    "                w = re.findall(self.tfidf_fnames[i], doc.features[-1])\n",
    "                X[doc_num, self.simple_features_len+i] = len(w)\n",
    "            y[doc_num] = doc.is_spam\n",
    "            trace(doc_num)\n",
    "            \n",
    "        folds = 5\n",
    "        param_comb = 5\n",
    "\n",
    "        skf = StratifiedKFold(n_splits=folds, shuffle = True, random_state = 1001)\n",
    "  \n",
    "        search = RandomizedSearchCV(\n",
    "            self.clf,\n",
    "            param_distributions=self.params,\n",
    "            n_iter=param_comb,\n",
    "            scoring=self.scoring,\n",
    "            n_jobs=-1,\n",
    "            cv=skf.split(X,y),\n",
    "            verbose=3\n",
    "        )\n",
    "        search.fit(X, y)\n",
    "        print(search.best_params_)\n",
    "        print(search.best_score_)\n",
    "        self.best_clf = search.best_estimator_\n",
    "        return"
   ]
  },
  {
   "cell_type": "code",
   "execution_count": 98,
   "metadata": {
    "scrolled": true
   },
   "outputs": [
    {
     "name": "stderr",
     "output_type": "stream",
     "text": [
      "01:41:57 INFO:Complete items 00000\n"
     ]
    },
    {
     "name": "stdout",
     "output_type": "stream",
     "text": [
      "['00', '01', '02', '03', '04', '05', '06', '07', '08', '09', '10', '11', '12', '13', '14', '15', '16', '17', '18', '19', '20', '2007', '2008', '2009', '2010', '2011', '21', '22', '23', '24', '25', '30', 'com', 'http', 'ru', 'www', 'без', 'бесплатно', 'более', 'больше', 'будет', 'бы', 'был', 'была', 'были', 'было', 'быть', 'вам', 'вас', 'видео', 'во', 'вот', 'время', 'все', 'всего', 'всех', 'вы', 'где', 'гей', 'года', 'голые', 'гороскоп', 'да', 'даже', 'день', 'диета', 'для', 'до', 'драйвер', 'драйвера', 'его', 'ее', 'ему', 'если', 'есть', 'еще', 'же', 'жизни', 'за', 'здесь', 'знакомства', 'игра', 'игры', 'из', 'или', 'им', 'интернет', 'интим', 'их', 'как', 'карта', 'когда', 'которые', 'который', 'кто', 'лет', 'ли', 'между', 'меня', 'мне', 'может', 'можно', 'москва', 'москвы', 'мы', 'на', 'надо', 'найти', 'нам', 'нас', 'не', 'него', 'несколько', 'нет', 'ни', 'них', 'ничего', 'но', 'новости', 'новых', 'об', 'один', 'однако', 'он', 'она', 'они', 'онлайн', 'от', 'очень', 'по', 'под', 'поиск', 'порно', 'после', 'потом', 'при', 'проститутки', 'просто', 'рµ', 'рµр', 'рµс', 'работы', 'раз', 'россии', 'руб', 'рё', 'рёр', 'рёс', 'рєр', 'рѕ', 'рѕр', 'рѕс', 'рі', 'рір', 'рґр', 'сайт', 'сайта', 'себе', 'себя', 'сейчас', 'секс', 'секса', 'скачать', 'смотреть', 'со', 'сђр', 'сѓр', 'сѓрєр', 'сѓс', 'сњ', 'сџ', 'так', 'также', 'там', 'тем', 'теперь', 'то', 'тогда', 'того', 'только', 'том', 'тут', 'ты', 'уже', 'фамилии', 'фото', 'хотя', 'человек', 'человека', 'чем', 'через', 'что', 'чтобы', 'эротика', 'эти', 'это', 'этого', 'этой', 'этом', 'этот']\n"
     ]
    },
    {
     "name": "stderr",
     "output_type": "stream",
     "text": [
      "01:41:58 INFO:Complete items 00500\n",
      "01:42:01 INFO:Complete items 01000\n",
      "01:42:02 INFO:Complete items 01500\n",
      "01:42:04 INFO:Complete items 02000\n",
      "01:42:05 INFO:Complete items 02500\n",
      "01:42:06 INFO:Complete items 03000\n",
      "01:42:08 INFO:Complete items 03500\n",
      "01:42:10 INFO:Complete items 04000\n",
      "01:42:12 INFO:Complete items 04500\n",
      "01:42:13 INFO:Complete items 05000\n",
      "01:42:15 INFO:Complete items 05500\n",
      "01:42:16 INFO:Complete items 06000\n",
      "01:42:17 INFO:Complete items 06500\n",
      "01:42:19 INFO:Complete items 07000\n"
     ]
    },
    {
     "name": "stdout",
     "output_type": "stream",
     "text": [
      "Fitting 5 folds for each of 5 candidates, totalling 25 fits\n"
     ]
    },
    {
     "name": "stderr",
     "output_type": "stream",
     "text": [
      "[Parallel(n_jobs=-1)]: Using backend LokyBackend with 4 concurrent workers.\n",
      "[Parallel(n_jobs=-1)]: Done  25 out of  25 | elapsed: 16.3min finished\n"
     ]
    },
    {
     "name": "stdout",
     "output_type": "stream",
     "text": [
      "{'colsample_bytree': 0.8494364775228163, 'gamma': 0.13572537677638374, 'learning_rate': 0.08717797158098115, 'max_depth': 4, 'n_estimators': 218}\n",
      "0.9659089768039238\n",
      "CPU times: user 1min, sys: 1.11 s, total: 1min 1s\n",
      "Wall time: 17min 19s\n"
     ]
    }
   ],
   "source": [
    "%%time\n",
    "\n",
    "classifier = Classifier()\n",
    "classifier.train(train_docs)"
   ]
  },
  {
   "cell_type": "code",
   "execution_count": 333,
   "metadata": {},
   "outputs": [
    {
     "data": {
      "text/plain": [
       "1"
      ]
     },
     "execution_count": 333,
     "metadata": {},
     "output_type": "execute_result"
    }
   ],
   "source": [
    "#Посмотреть, что предсказывается для тестового html\n",
    "classifier.predict(DocItem(0, 0, test_url , test_features))"
   ]
  },
  {
   "cell_type": "code",
   "execution_count": 77,
   "metadata": {},
   "outputs": [
    {
     "name": "stderr",
     "output_type": "stream",
     "text": [
      "05:32:00 INFO:Complete items 00000 in worker_id 0\n",
      "05:32:00 INFO:Complete items 00000 in worker_id 1\n",
      "05:32:00 INFO:Complete items 00000 in worker_id 2\n",
      "05:32:00 INFO:Complete items 00000 in worker_id 3\n",
      "05:32:00 INFO:Complete items 00000 in worker_id 4\n",
      "05:32:00 INFO:Complete items 00000 in worker_id 5\n",
      "05:32:00 INFO:Complete items 00000 in worker_id 6\n",
      "05:32:00 INFO:Complete items 00000 in worker_id 7\n",
      "05:49:56 INFO:Complete items 00500 in worker_id 2\n",
      "05:50:16 INFO:Complete items 00500 in worker_id 6\n",
      "05:51:10 INFO:Complete items 00500 in worker_id 5\n",
      "05:53:43 INFO:Complete items 00500 in worker_id 1\n",
      "05:58:11 INFO:Complete items 00500 in worker_id 4\n",
      "06:00:44 INFO:Complete items 00500 in worker_id 3\n",
      "06:09:25 INFO:Complete items 01000 in worker_id 6\n",
      "06:09:48 INFO:Complete items 01000 in worker_id 2\n",
      "06:14:24 INFO:Complete items 01000 in worker_id 1\n",
      "06:17:25 INFO:Complete items 00500 in worker_id 7\n",
      "06:19:55 INFO:Complete items 01000 in worker_id 4\n",
      "06:24:40 INFO:Complete items 00500 in worker_id 0\n",
      "06:28:34 INFO:Complete items 01000 in worker_id 5\n",
      "06:30:43 INFO:Complete items 01500 in worker_id 2\n",
      "06:33:50 INFO:Complete items 01500 in worker_id 1\n",
      "06:36:03 INFO:Complete items 01000 in worker_id 3\n",
      "06:40:42 INFO:Complete items 01500 in worker_id 6\n",
      "06:46:28 INFO:Complete items 01000 in worker_id 7\n",
      "06:50:14 INFO:Complete items 01500 in worker_id 4\n",
      "06:51:32 INFO:Complete items 01500 in worker_id 5\n",
      "06:53:31 INFO:Complete items 02000 in worker_id 2\n",
      "06:59:50 INFO:Complete items 02000 in worker_id 6\n",
      "07:11:59 INFO:Complete items 02000 in worker_id 5\n",
      "07:12:04 INFO:Complete items 01500 in worker_id 3\n",
      "07:13:51 INFO:Complete items 02000 in worker_id 1\n",
      "07:17:44 INFO:Complete items 02000 in worker_id 4\n",
      "07:27:58 INFO:Complete items 02500 in worker_id 6\n",
      "07:33:23 INFO:Complete items 02000 in worker_id 3\n",
      "07:41:50 INFO:Complete items 02500 in worker_id 5\n",
      "07:44:43 INFO:Complete items 03000 in worker_id 6\n",
      "07:47:25 INFO:Complete items 02500 in worker_id 2\n",
      "07:52:05 INFO:Complete items 02500 in worker_id 3\n",
      "07:54:50 INFO:Complete items 02500 in worker_id 4\n",
      "07:57:45 INFO:Complete items 02500 in worker_id 1\n",
      "08:03:00 INFO:Complete items 03500 in worker_id 6\n",
      "08:04:20 INFO:Complete items 03000 in worker_id 5\n",
      "08:11:33 INFO:Complete items 03000 in worker_id 2\n",
      "08:12:15 INFO:Complete items 03000 in worker_id 4\n",
      "08:16:14 INFO:Complete items 03000 in worker_id 1\n",
      "08:18:45 INFO:Complete items 03000 in worker_id 3\n",
      "08:21:42 INFO:Complete items 01000 in worker_id 0\n",
      "08:24:17 INFO:Complete items 03500 in worker_id 5\n",
      "08:35:02 INFO:Complete items 03500 in worker_id 2\n",
      "08:36:31 INFO:Complete items 04000 in worker_id 5\n",
      "08:36:51 INFO:Complete items 03500 in worker_id 4\n",
      "08:37:47 INFO:Complete items 04000 in worker_id 6\n",
      "08:40:00 INFO:Complete items 01500 in worker_id 0\n",
      "08:41:03 INFO:Complete items 03500 in worker_id 1\n",
      "08:44:55 INFO:Complete items 01500 in worker_id 7\n",
      "08:50:50 INFO:Complete items 04000 in worker_id 4\n",
      "08:51:22 INFO:Complete items 03500 in worker_id 3\n",
      "08:56:09 INFO:Complete items 04000 in worker_id 2\n",
      "08:58:38 INFO:Complete items 04500 in worker_id 6\n",
      "08:58:39 INFO:Complete items 04500 in worker_id 5\n",
      "09:05:42 INFO:Complete items 02000 in worker_id 7\n",
      "09:12:05 INFO:Complete items 02000 in worker_id 0\n",
      "09:15:05 INFO:Complete items 04500 in worker_id 2\n",
      "09:15:11 INFO:Complete items 04500 in worker_id 4\n",
      "09:18:17 INFO:Complete items 05000 in worker_id 5\n",
      "09:19:12 INFO:Complete items 04000 in worker_id 3\n",
      "09:19:37 INFO:Complete items 05000 in worker_id 6\n",
      "09:21:29 INFO:Complete items 04000 in worker_id 1\n",
      "09:22:35 INFO:Complete items 02500 in worker_id 7\n",
      "09:32:28 INFO:Complete items 02500 in worker_id 0\n",
      "09:32:36 INFO:Complete items 05000 in worker_id 2\n",
      "09:34:24 INFO:Complete items 05000 in worker_id 4\n",
      "09:34:57 INFO:Complete items 05500 in worker_id 6\n",
      "09:39:07 INFO:Complete items 03000 in worker_id 7\n",
      "09:48:51 INFO:Complete items 04500 in worker_id 3\n",
      "09:51:46 INFO:Complete items 05500 in worker_id 2\n",
      "09:52:37 INFO:Complete items 04500 in worker_id 1\n",
      "09:54:05 INFO:Complete items 06000 in worker_id 6\n",
      "09:59:40 INFO:Complete items 03500 in worker_id 7\n",
      "10:04:33 INFO:Complete items 05000 in worker_id 1\n",
      "10:09:11 INFO:Complete items 05000 in worker_id 3\n",
      "10:09:46 INFO:Complete items 03000 in worker_id 0\n",
      "10:11:10 INFO:Complete items 05500 in worker_id 4\n",
      "10:13:12 INFO:Complete items 06000 in worker_id 2\n",
      "10:23:34 INFO:Complete items 06500 in worker_id 6\n",
      "10:28:41 INFO:Complete items 05500 in worker_id 1\n",
      "10:33:33 INFO:Complete items 06000 in worker_id 4\n",
      "10:34:28 INFO:Complete items 04000 in worker_id 7\n",
      "10:35:16 INFO:Complete items 03500 in worker_id 0\n",
      "10:42:15 INFO:Complete items 06500 in worker_id 2\n",
      "10:43:06 INFO:Complete items 07000 in worker_id 6\n",
      "10:45:33 INFO:Complete items 05500 in worker_id 3\n",
      "10:48:31 INFO:Complete items 06000 in worker_id 1\n",
      "10:52:01 INFO:Complete items 04000 in worker_id 0\n",
      "10:52:34 INFO:Complete items 04500 in worker_id 7\n",
      "10:54:34 INFO:Complete items 06500 in worker_id 4\n",
      "11:01:10 INFO:Complete items 07000 in worker_id 2\n",
      "11:08:50 INFO:Complete items 06500 in worker_id 1\n",
      "11:10:43 INFO:Complete items 05000 in worker_id 7\n",
      "11:12:42 INFO:Complete items 07500 in worker_id 6\n",
      "11:13:45 INFO:Complete items 06000 in worker_id 3\n",
      "11:19:09 INFO:Complete items 07000 in worker_id 4\n",
      "11:21:56 INFO:Complete items 07500 in worker_id 2\n",
      "11:23:27 INFO:Complete items 04500 in worker_id 0\n",
      "11:28:07 INFO:Complete items 07000 in worker_id 1\n",
      "11:28:35 INFO:Complete items 08000 in worker_id 6\n",
      "11:28:43 INFO:Complete items 05500 in worker_id 5\n",
      "11:30:13 INFO:Complete items 05500 in worker_id 7\n",
      "11:40:07 INFO:Complete items 06500 in worker_id 3\n",
      "11:41:08 INFO:Complete items 08000 in worker_id 2\n",
      "11:45:40 INFO:Complete items 05000 in worker_id 0\n",
      "11:47:08 INFO:Complete items 07500 in worker_id 1\n",
      "11:48:06 INFO:Complete items 08500 in worker_id 6\n",
      "11:49:42 INFO:Complete items 06000 in worker_id 5\n",
      "11:53:47 INFO:Complete items 07500 in worker_id 4\n",
      "11:58:54 INFO:Complete items 08500 in worker_id 2\n",
      "12:00:57 INFO:Complete items 07000 in worker_id 3\n",
      "12:06:04 INFO:Complete items 06000 in worker_id 7\n",
      "12:07:00 INFO:Complete items 09000 in worker_id 6\n",
      "12:07:12 INFO:Complete items 05500 in worker_id 0\n",
      "12:10:26 INFO:Complete items 08000 in worker_id 4\n",
      "12:11:19 INFO:Complete items 06500 in worker_id 5\n",
      "12:17:11 INFO:Complete items 09000 in worker_id 2\n",
      "12:21:08 INFO:Complete items 08000 in worker_id 1\n",
      "12:22:15 INFO:Complete items 06500 in worker_id 7\n",
      "12:26:22 INFO:Complete items 09500 in worker_id 6\n",
      "12:28:51 INFO:Complete items 06000 in worker_id 0\n",
      "12:29:19 INFO:Complete items 07000 in worker_id 5\n",
      "12:30:07 INFO:Complete items 08500 in worker_id 4\n",
      "12:31:27 INFO:Complete items 07500 in worker_id 3\n",
      "12:33:28 INFO:Complete items 09500 in worker_id 2\n",
      "12:42:23 INFO:Complete items 07000 in worker_id 7\n",
      "12:42:51 INFO:Complete items 08500 in worker_id 1\n",
      "12:49:18 INFO:Complete items 10000 in worker_id 6\n",
      "12:49:31 INFO:Complete items 06500 in worker_id 0\n",
      "12:50:13 INFO:Complete items 08000 in worker_id 3\n",
      "12:52:20 INFO:Complete items 10000 in worker_id 2\n",
      "12:58:48 INFO:Complete items 09000 in worker_id 1\n",
      "13:02:20 INFO:Complete items 07500 in worker_id 7\n",
      "13:08:05 INFO:Complete items 09000 in worker_id 4\n",
      "13:09:06 INFO:Complete items 10500 in worker_id 6\n",
      "13:09:06 INFO:Complete items 07000 in worker_id 0\n",
      "13:17:34 INFO:Complete items 10500 in worker_id 2\n",
      "13:23:52 INFO:Complete items 09500 in worker_id 1\n",
      "13:29:44 INFO:Complete items 08500 in worker_id 3\n",
      "13:31:52 INFO:Complete items 08000 in worker_id 7\n",
      "13:32:49 INFO:Complete items 07500 in worker_id 0\n",
      "13:33:53 INFO:Complete items 11000 in worker_id 6\n",
      "13:34:25 INFO:Complete items 07500 in worker_id 5\n",
      "13:46:24 INFO:Complete items 10000 in worker_id 1\n",
      "13:46:56 INFO:Complete items 09000 in worker_id 3\n",
      "13:53:56 INFO:Complete items 08500 in worker_id 7\n",
      "13:59:05 INFO:Complete items 08000 in worker_id 5\n",
      "14:07:02 INFO:Complete items 10500 in worker_id 1\n",
      "14:11:07 INFO:Complete items 09500 in worker_id 4\n",
      "14:15:31 INFO:Complete items 08000 in worker_id 0\n",
      "14:15:48 INFO:Complete items 08500 in worker_id 5\n",
      "14:25:20 INFO:Complete items 09500 in worker_id 3\n",
      "14:25:41 INFO:Complete items 09000 in worker_id 7\n",
      "14:29:26 INFO:Complete items 11000 in worker_id 1\n",
      "14:30:04 INFO:Complete items 10000 in worker_id 4\n",
      "14:30:26 INFO:Complete items 08500 in worker_id 0\n"
     ]
    },
    {
     "name": "stderr",
     "output_type": "stream",
     "text": [
      "14:35:25 INFO:Complete items 11000 in worker_id 2\n",
      "14:36:53 INFO:Complete items 11500 in worker_id 6\n",
      "14:48:16 INFO:Complete items 09000 in worker_id 5\n",
      "14:52:52 INFO:Complete items 10500 in worker_id 4\n",
      "14:57:27 INFO:Complete items 11500 in worker_id 1\n",
      "14:58:34 INFO:Complete items 12000 in worker_id 6\n",
      "15:03:33 INFO:Complete items 11500 in worker_id 2\n",
      "15:10:35 INFO:Complete items 11000 in worker_id 4\n",
      "15:20:26 INFO:Complete items 09500 in worker_id 7\n",
      "15:29:07 INFO:Complete items 11500 in worker_id 4\n",
      "15:33:13 INFO:Complete items 12000 in worker_id 1\n",
      "15:36:36 INFO:Complete items 12000 in worker_id 2\n",
      "15:38:02 INFO:Complete items 12500 in worker_id 6\n",
      "15:40:40 INFO:Complete items 09000 in worker_id 0\n",
      "15:41:50 INFO:Complete items 10000 in worker_id 7\n",
      "15:45:00 INFO:Complete items 09500 in worker_id 5\n",
      "15:52:58 INFO:Complete items 12500 in worker_id 1\n",
      "15:55:59 INFO:Complete items 12500 in worker_id 2\n",
      "15:58:37 INFO:Complete items 13000 in worker_id 6\n",
      "16:00:29 INFO:Complete items 12000 in worker_id 4\n",
      "16:00:50 INFO:Complete items 09500 in worker_id 0\n",
      "16:02:46 INFO:Complete items 10500 in worker_id 7\n",
      "16:14:26 INFO:Complete items 13000 in worker_id 1\n",
      "16:14:27 INFO:Complete items 10000 in worker_id 5\n",
      "16:23:14 INFO:Complete items 11000 in worker_id 7\n",
      "16:23:24 INFO:Complete items 10000 in worker_id 0\n",
      "16:30:12 INFO:Complete items 12500 in worker_id 4\n",
      "16:32:03 INFO:Complete items 13000 in worker_id 2\n",
      "16:41:11 INFO:Complete items 10000 in worker_id 3\n",
      "16:44:11 INFO:Complete items 13500 in worker_id 1\n",
      "16:46:40 INFO:Complete items 10500 in worker_id 5\n",
      "16:46:49 INFO:Complete items 11500 in worker_id 7\n",
      "16:55:30 INFO:Complete items 13500 in worker_id 6\n",
      "16:55:41 INFO:Complete items 13000 in worker_id 4\n",
      "17:03:01 INFO:Complete items 13500 in worker_id 2\n",
      "17:04:53 INFO:Complete items 10500 in worker_id 3\n",
      "17:10:26 INFO:Complete items 10500 in worker_id 0\n",
      "17:11:12 INFO:Complete items 11000 in worker_id 5\n",
      "17:14:51 INFO:Complete items 14000 in worker_id 1\n",
      "17:15:10 INFO:Complete items 12000 in worker_id 7\n",
      "17:25:37 INFO:Complete items 11000 in worker_id 3\n",
      "17:26:54 INFO:Complete items 14000 in worker_id 6\n",
      "17:28:47 INFO:Complete items 13500 in worker_id 4\n",
      "17:29:39 INFO:Complete items 11000 in worker_id 0\n",
      "17:35:59 INFO:Complete items 11500 in worker_id 5\n",
      "17:36:26 INFO:Complete items 12500 in worker_id 7\n",
      "17:42:28 INFO:Complete items 14500 in worker_id 1\n",
      "17:45:41 INFO:Complete items 11500 in worker_id 3\n",
      "17:49:06 INFO:Complete items 14000 in worker_id 4\n",
      "17:49:27 INFO:Complete items 14500 in worker_id 6\n",
      "17:56:58 INFO:Complete items 13000 in worker_id 7\n",
      "17:58:03 INFO:Complete items 14000 in worker_id 2\n",
      "17:59:43 INFO:Complete items 11500 in worker_id 0\n",
      "18:03:40 INFO:Complete items 15000 in worker_id 1\n",
      "18:07:35 INFO:Complete items 12000 in worker_id 3\n",
      "18:08:33 INFO:Complete items 15000 in worker_id 6\n",
      "18:16:24 INFO:Complete items 13500 in worker_id 7\n",
      "18:16:37 INFO:Complete items 12000 in worker_id 5\n",
      "18:21:39 INFO:Complete items 15500 in worker_id 1\n",
      "18:22:02 INFO:Complete items 12000 in worker_id 0\n",
      "18:27:48 INFO:Complete items 12500 in worker_id 3\n",
      "18:35:54 INFO:Complete items 12500 in worker_id 0\n",
      "18:36:12 INFO:Complete items 14500 in worker_id 2\n",
      "18:36:47 INFO:Complete items 12500 in worker_id 5\n",
      "18:38:35 INFO:Complete items 16000 in worker_id 1\n",
      "18:39:19 INFO:Complete items 14000 in worker_id 7\n",
      "18:39:25 INFO:Complete items 16038 in worker_id 1\n",
      "18:44:02 INFO:Complete items 14500 in worker_id 4\n",
      "18:49:47 INFO:Complete items 13000 in worker_id 0\n",
      "18:52:17 INFO:Complete items 13000 in worker_id 3\n",
      "18:53:18 INFO:Complete items 13000 in worker_id 5\n",
      "18:53:50 INFO:Complete items 15000 in worker_id 2\n",
      "18:59:07 INFO:Complete items 15500 in worker_id 6\n",
      "19:02:44 INFO:Complete items 15000 in worker_id 4\n",
      "19:02:53 INFO:Complete items 14500 in worker_id 7\n",
      "19:07:03 INFO:Complete items 13500 in worker_id 0\n",
      "19:17:49 INFO:Complete items 13500 in worker_id 3\n",
      "19:18:00 INFO:Complete items 15500 in worker_id 2\n",
      "19:20:03 INFO:Complete items 15000 in worker_id 7\n",
      "19:22:44 INFO:Complete items 13500 in worker_id 5\n",
      "19:24:13 INFO:Complete items 15500 in worker_id 4\n",
      "19:27:56 INFO:Complete items 14000 in worker_id 0\n",
      "19:28:46 INFO:Complete items 16000 in worker_id 6\n",
      "19:29:37 INFO:Complete items 16038 in worker_id 6\n",
      "19:35:47 INFO:Complete items 16000 in worker_id 2\n",
      "19:36:18 INFO:Complete items 14000 in worker_id 3\n",
      "19:36:32 INFO:Complete items 16038 in worker_id 2\n",
      "19:38:10 INFO:Complete items 15500 in worker_id 7\n",
      "19:41:22 INFO:Complete items 14000 in worker_id 5\n",
      "19:42:33 INFO:Complete items 14500 in worker_id 0\n",
      "19:44:52 INFO:Complete items 16000 in worker_id 4\n",
      "19:45:30 INFO:Complete items 16038 in worker_id 4\n",
      "19:50:05 INFO:Complete items 14500 in worker_id 3\n",
      "19:53:34 INFO:Complete items 15000 in worker_id 0\n",
      "19:56:38 INFO:Complete items 14500 in worker_id 5\n",
      "20:01:05 INFO:Complete items 15000 in worker_id 3\n",
      "20:01:19 INFO:Complete items 16000 in worker_id 7\n",
      "20:01:53 INFO:Complete items 16038 in worker_id 7\n",
      "20:03:44 INFO:Complete items 15500 in worker_id 0\n",
      "20:04:26 INFO:Complete items 15000 in worker_id 5\n",
      "20:07:53 INFO:Complete items 15500 in worker_id 3\n",
      "20:09:11 INFO:Complete items 16000 in worker_id 0\n",
      "20:09:55 INFO:Complete items 16038 in worker_id 0\n",
      "20:11:15 INFO:Complete items 15500 in worker_id 5\n",
      "20:13:02 INFO:Complete items 16000 in worker_id 3\n",
      "20:13:16 INFO:Complete items 16038 in worker_id 3\n",
      "20:20:40 INFO:Complete items 16000 in worker_id 5\n",
      "20:20:57 INFO:Complete items 16038 in worker_id 5\n"
     ]
    },
    {
     "name": "stdout",
     "output_type": "stream",
     "text": [
      "CPU times: user 4.05 s, sys: 2.13 s, total: 6.18 s\n",
      "Wall time: 14h 48min 57s\n"
     ]
    }
   ],
   "source": [
    "%%time\n",
    "\n",
    "TEST_DATA_FILE  = 'kaggle/kaggle_test_data_tab.csv.gz'\n",
    "# TEST_DATA_FILE  = 'kaggle/kaggle_train_data_tab_300.csv.gz'\n",
    "\n",
    "test_docs = list(load_csv_multiprocess(TEST_DATA_FILE, calc_features))"
   ]
  },
  {
   "cell_type": "code",
   "execution_count": 99,
   "metadata": {},
   "outputs": [
    {
     "name": "stderr",
     "output_type": "stream",
     "text": [
      "01:59:20 INFO:Complete items 00000\n"
     ]
    },
    {
     "name": "stdout",
     "output_type": "stream",
     "text": [
      "16039\n"
     ]
    },
    {
     "name": "stderr",
     "output_type": "stream",
     "text": [
      "01:59:22 INFO:Complete items 00500\n",
      "01:59:24 INFO:Complete items 01000\n",
      "01:59:26 INFO:Complete items 01500\n",
      "01:59:30 INFO:Complete items 02000\n",
      "01:59:32 INFO:Complete items 02500\n",
      "01:59:35 INFO:Complete items 03000\n",
      "01:59:37 INFO:Complete items 03500\n",
      "01:59:39 INFO:Complete items 04000\n",
      "01:59:41 INFO:Complete items 04500\n",
      "01:59:44 INFO:Complete items 05000\n",
      "01:59:46 INFO:Complete items 05500\n",
      "01:59:48 INFO:Complete items 06000\n",
      "01:59:51 INFO:Complete items 06500\n",
      "01:59:53 INFO:Complete items 07000\n",
      "01:59:55 INFO:Complete items 07500\n",
      "01:59:57 INFO:Complete items 08000\n",
      "01:59:59 INFO:Complete items 08500\n",
      "02:00:01 INFO:Complete items 09000\n",
      "02:00:04 INFO:Complete items 09500\n",
      "02:00:06 INFO:Complete items 10000\n",
      "02:00:08 INFO:Complete items 10500\n",
      "02:00:11 INFO:Complete items 11000\n",
      "02:00:13 INFO:Complete items 11500\n",
      "02:00:15 INFO:Complete items 12000\n",
      "02:00:18 INFO:Complete items 12500\n",
      "02:00:19 INFO:Complete items 13000\n",
      "02:00:22 INFO:Complete items 13500\n",
      "02:00:24 INFO:Complete items 14000\n",
      "02:00:26 INFO:Complete items 14500\n",
      "02:00:29 INFO:Complete items 15000\n",
      "02:00:31 INFO:Complete items 15500\n",
      "02:00:32 INFO:Complete items 16000\n"
     ]
    },
    {
     "name": "stdout",
     "output_type": "stream",
     "text": [
      "CPU times: user 1min 8s, sys: 879 ms, total: 1min 9s\n",
      "Wall time: 1min 12s\n"
     ]
    }
   ],
   "source": [
    "%%time\n",
    "print(len(test_docs))\n",
    "with open('my_submission.csv' , 'wt') as fout:\n",
    "    writer = csv.writer(fout)\n",
    "    writer.writerow(['Id','Prediction'])\n",
    "    for item in classifier.predict_all(test_docs):\n",
    "        writer.writerow([item[0], item[3]])"
   ]
  },
  {
   "cell_type": "code",
   "execution_count": null,
   "metadata": {},
   "outputs": [],
   "source": []
  },
  {
   "cell_type": "code",
   "execution_count": null,
   "metadata": {},
   "outputs": [],
   "source": []
  }
 ],
 "metadata": {
  "anaconda-cloud": {},
  "kernelspec": {
   "display_name": "Python 3",
   "language": "python",
   "name": "python3"
  },
  "language_info": {
   "codemirror_mode": {
    "name": "ipython",
    "version": 3
   },
   "file_extension": ".py",
   "mimetype": "text/x-python",
   "name": "python",
   "nbconvert_exporter": "python",
   "pygments_lexer": "ipython3",
   "version": "3.7.3"
  }
 },
 "nbformat": 4,
 "nbformat_minor": 1
}
