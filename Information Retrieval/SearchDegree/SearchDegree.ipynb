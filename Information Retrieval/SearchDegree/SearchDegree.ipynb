{
 "cells": [
  {
   "cell_type": "code",
   "execution_count": 1,
   "metadata": {},
   "outputs": [],
   "source": [
    "import numpy as np"
   ]
  },
  {
   "cell_type": "code",
   "execution_count": 2,
   "metadata": {},
   "outputs": [],
   "source": [
    "N_splits = 1000\n",
    "steps = 1000000 // N_splits\n",
    "\n",
    "t0 = 1.96"
   ]
  },
  {
   "cell_type": "code",
   "execution_count": 3,
   "metadata": {},
   "outputs": [],
   "source": [
    "name1 = 'c1.txt'\n",
    "name2 = 'c2.txt'"
   ]
  },
  {
   "cell_type": "code",
   "execution_count": 4,
   "metadata": {},
   "outputs": [],
   "source": [
    "def process(name):\n",
    "    split = []\n",
    "    with open(name, 'r', encoding='utf-8-sig') as f:\n",
    "        for session in f.readlines():\n",
    "            clicks = np.array(list(map(int, session.split())))\n",
    "            split.append(clicks)\n",
    "    return np.array(split)\n",
    "\n",
    "\n",
    "def getTstat(split_A, split_B):\n",
    "    sigma = np.sqrt(split_A.std() ** 2 / split_A.shape[0] + split_B.std() ** 2 / split_B.shape[0])\n",
    "    return (split_A.mean() - split_B.mean()) / sigma\n",
    "\n",
    "\n",
    "#сэмплинг элементов слишком долгий\n",
    "def sampling_sessions(split, N_splits=N_splits, steps=steps):\n",
    "    size = split.shape[0]\n",
    "    samples = []\n",
    "    for step in range(steps):\n",
    "        sample = []\n",
    "        for j in range(N_splits):\n",
    "            idx = np.random.randint(size)\n",
    "            sample.append(split[idx])\n",
    "        samples.append(sample)\n",
    "    return np.array(samples)\n",
    "\n",
    "\n",
    "def makeGroups(split, steps=steps, N_splits=N_splits):\n",
    "    groups = []\n",
    "    for step in range(steps):\n",
    "        groups.append(split[step * N_splits: (step + 1) * N_splits])\n",
    "    return np.array(groups)\n",
    "\n",
    "\n",
    "def sampling_metrics(split):\n",
    "    samples = []\n",
    "    size = split.shape[0]\n",
    "    for i in range(size):\n",
    "        idx = np.random.randint(size)\n",
    "        samples.append(split[idx])\n",
    "    return np.array(samples)\n",
    "\n",
    "\n",
    "def bootstrapping(split_A, split_B, metric, N=1000, t0=t0):\n",
    "    print(metric.__name__)\n",
    "    count = 0\n",
    "    groups_A = makeGroups(split_A)\n",
    "    groups_B = makeGroups(split_B)\n",
    "    A_metric = metric(groups_A)\n",
    "    B_metric = metric(groups_B)\n",
    "    for i in range(N):\n",
    "        print('\\r{}'.format(i), end='')\n",
    "        sample_A = sampling_metrics(A_metric)\n",
    "        sample_B = sampling_metrics(B_metric)\n",
    "        t = getTstat(sample_A, sample_B)\n",
    "        if t > t0:\n",
    "            count += 1\n",
    "    ASL = count / N\n",
    "    print('\\nASL:\\t', ASL)\n",
    "\n",
    "    \n",
    "def getCPQ(split, N_splits=N_splits):\n",
    "    split_cpq = []\n",
    "    for group in split:\n",
    "        cpq = 0\n",
    "        for session in group:\n",
    "            if session.any():\n",
    "                cpq += 1\n",
    "        cpq /= N_splits\n",
    "        split_cpq.append(cpq)\n",
    "    return np.array(split_cpq)\n",
    "\n",
    "\n",
    "def getFirstClick(split):\n",
    "    split_clicks_to_1 = []\n",
    "    for group in split:\n",
    "        clicks_to_1 = 0\n",
    "        for session in group:\n",
    "            clicks_to_1 += session[0]\n",
    "        split_clicks_to_1.append(clicks_to_1)\n",
    "    return np.array(split_clicks_to_1)\n",
    "\n",
    "\n",
    "def getCTR(split):\n",
    "    group_size = 100\n",
    "    split_ctr = np.empty(split.shape[0] // group_size)\n",
    "    for i in range(split_ctr.size):\n",
    "        click = np.sum(split[i * 100: (i + 1) * group_size], axis=1)\n",
    "        split_ctr[i] = np.count_nonzero(click != 0)  / group_size\n",
    "    return split_ctr\n"
   ]
  },
  {
   "cell_type": "code",
   "execution_count": 5,
   "metadata": {},
   "outputs": [],
   "source": [
    "split_A = process(name1)\n",
    "split_B = process(name2)"
   ]
  },
  {
   "cell_type": "code",
   "execution_count": 6,
   "metadata": {},
   "outputs": [
    {
     "name": "stdout",
     "output_type": "stream",
     "text": [
      "getCPQ\n",
      "999\n",
      "ASL:\t 1.0\n"
     ]
    }
   ],
   "source": [
    "bootstrapping(split_A, split_B, getCPQ)"
   ]
  },
  {
   "cell_type": "code",
   "execution_count": 7,
   "metadata": {},
   "outputs": [
    {
     "name": "stdout",
     "output_type": "stream",
     "text": [
      "getCTR\n",
      "999\n",
      "ASL:\t 1.0\n"
     ]
    }
   ],
   "source": [
    "bootstrapping(split_A, split_B, getCTR)"
   ]
  },
  {
   "cell_type": "code",
   "execution_count": 8,
   "metadata": {},
   "outputs": [
    {
     "name": "stdout",
     "output_type": "stream",
     "text": [
      "getFirstClick\n",
      "999\n",
      "ASL:\t 1.0\n"
     ]
    }
   ],
   "source": [
    "bootstrapping(split_A, split_B, getFirstClick)"
   ]
  },
  {
   "cell_type": "markdown",
   "metadata": {},
   "source": [
    "Т.к. в трех случаях значение ASL $\\approx$ 1.0, следовательно гипотезу H0 о том, что CTR (Clicks@1) на двух сплитах можно объяснить шумами, нужно отвергнуть."
   ]
  }
 ],
 "metadata": {
  "kernelspec": {
   "display_name": "Python 3",
   "language": "python",
   "name": "python3"
  },
  "language_info": {
   "codemirror_mode": {
    "name": "ipython",
    "version": 3
   },
   "file_extension": ".py",
   "mimetype": "text/x-python",
   "name": "python",
   "nbconvert_exporter": "python",
   "pygments_lexer": "ipython3",
   "version": "3.7.3"
  }
 },
 "nbformat": 4,
 "nbformat_minor": 2
}
