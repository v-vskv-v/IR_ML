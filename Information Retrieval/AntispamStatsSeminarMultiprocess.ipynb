{
 "cells": [
  {
   "cell_type": "markdown",
   "metadata": {},
   "source": [
    "# ** Описание **"
   ]
  },
  {
   "cell_type": "raw",
   "metadata": {},
   "source": [
    "Построить графики распределения в спам и не спам множествах следующих признаков:\n",
    "\n",
    "1\tКоличество слов на странице\n",
    "2\tСредняя длинна слова\n",
    "3\tКоличество слов в заголовке страниц (слова в теге <html><head><title> Some text </title>)\n",
    "4\tКоличество слов в анкорах ссылок (<html><body><a> Some text </a>)\n",
    "5\tКоэффициент сжатия\n",
    "\n",
    "Нужно посчитать статистику минимум по трем признакам и обязательно сделать для 1-го и 2-го признаков\n",
    "\n",
    "И отправить первое решение в соревнование https://kaggle.com/join/antispam_infopoisk\n",
    "На основании одного из указанных выше признаков попытаться разделить мн-во, так чтобы score в соревновании был больше 0.55\n",
    "\n",
    "При выполнении всех этих условия в течении семинара +1 балл к ДЗ\n",
    "\n",
    "Описание ДЗ и правил выставления за него баллов в https://inclass.kaggle.com/c/antispam-infopoisk  \n",
    "Сроки ДЗ уточнить у преподователя - обычно 2 недели"
   ]
  },
  {
   "cell_type": "code",
   "execution_count": 1,
   "metadata": {},
   "outputs": [],
   "source": [
    "from __future__ import division\n",
    "\n",
    "import base64\n",
    "import csv\n",
    "import pymorphy2\n",
    "import gzip\n",
    "import zlib\n",
    "import numpy as np\n",
    "from html.parser import HTMLParser\n",
    "import re\n",
    "from bs4 import BeautifulSoup\n",
    "from urllib.parse import urlparse\n",
    "import bz2\n",
    "from gensim.parsing.preprocessing import remove_stopwords, split_alphanum, strip_multiple_whitespaces\n",
    "\n",
    "from collections import namedtuple\n",
    "\n",
    "%matplotlib inline\n",
    "import matplotlib.pyplot as plt\n",
    "import logging\n",
    "import importlib"
   ]
  },
  {
   "cell_type": "code",
   "execution_count": 2,
   "metadata": {},
   "outputs": [],
   "source": [
    "TRACE_NUM = 1000\n",
    "importlib.reload(logging)\n",
    "logging.basicConfig(format='%(asctime)s %(levelname)s:%(message)s', level=logging.INFO, datefmt='%H:%M:%S')\n",
    "\n",
    "def trace(items_num, trace_num=TRACE_NUM):\n",
    "    if items_num % trace_num == 0: logging.info(\"Complete items %05d\" % items_num)\n",
    "        \n",
    "def trace_worker(items_num, worker_id, trace_num=TRACE_NUM):\n",
    "    if items_num % trace_num == 0: logging.info(\"Complete items %05d in worker_id %d\" % (items_num, worker_id))"
   ]
  },
  {
   "cell_type": "markdown",
   "metadata": {},
   "source": [
    "### Утилиты"
   ]
  },
  {
   "cell_type": "markdown",
   "metadata": {},
   "source": [
    "#### Декораторы"
   ]
  },
  {
   "cell_type": "code",
   "execution_count": 3,
   "metadata": {},
   "outputs": [],
   "source": [
    "def to_utf8(text):\n",
    "    if isinstance(text, unicode): text = text.encode('utf8')\n",
    "    return text\n",
    "\n",
    "def convert2unicode(f):\n",
    "    def tmp(text):\n",
    "        if not isinstance(text, unicode): text = text.decode('utf8')\n",
    "        return f(text)\n",
    "    return tmp\n",
    "\n",
    "def convert2lower(f):\n",
    "    def tmp(text):        \n",
    "        return f(text.lower())\n",
    "    return tmp\n",
    "\n",
    "#P.S. Декораторы могут усложнять отладку, так что от них вполне можно отказаться и воспользоваться copy-paste"
   ]
  },
  {
   "cell_type": "markdown",
   "metadata": {},
   "source": [
    "### Извлечение текста из html"
   ]
  },
  {
   "cell_type": "markdown",
   "metadata": {},
   "source": [
    "#### Извлечение текста при помощи встроенных модулей"
   ]
  },
  {
   "cell_type": "code",
   "execution_count": 4,
   "metadata": {},
   "outputs": [],
   "source": [
    "class TextHTMLParser(HTMLParser):\n",
    "    def __init__(self):\n",
    "        HTMLParser.__init__(self)\n",
    "        self._text = []\n",
    "        self._title = \"\"\n",
    "        self._in_title = False\n",
    "\n",
    "    def handle_data(self, data):\n",
    "        text = data.strip()\n",
    "        if len(text) > 0:\n",
    "            text = re.sub('[ \\t\\r\\n]+', ' ', text)\n",
    "            self._text.append(text + ' ')\n",
    "\n",
    "    def handle_starttag(self, tag, attrs):\n",
    "        if tag == 'p':\n",
    "            self._text.append('\\n\\n')\n",
    "        elif tag == 'br':\n",
    "            self._text.append('\\n')\n",
    "        elif tag == 'title':\n",
    "            self._in_title = True\n",
    "\n",
    "    def handle_startendtag(self, tag, attrs):\n",
    "        if tag == 'br':\n",
    "            self._text.append('\\n\\n')\n",
    "\n",
    "    def text(self):\n",
    "        return ''.join(self._text).strip()\n",
    "    \n",
    "def html2title_parser(raw_html):\n",
    "    title = re.search(r'<title[\\w\\W]*>[\\w\\W]*</title>', raw_html)\n",
    "    if title is not None:\n",
    "        title = title.group()\n",
    "        title = title.split('</title>')[0]\n",
    "        title = re.sub(r'<title[\\w\\W]*>', '', title)\n",
    "        return title\n",
    "    else:\n",
    "        return ''\n",
    "    \n",
    "def html2text_parser(text):\n",
    "    parser = TextHTMLParser()\n",
    "    parser.feed(text)\n",
    "    return parser.text()"
   ]
  },
  {
   "cell_type": "markdown",
   "metadata": {},
   "source": [
    "#### Извлечение текста при помощи дополнительных библиотек"
   ]
  },
  {
   "cell_type": "code",
   "execution_count": 5,
   "metadata": {},
   "outputs": [],
   "source": [
    "def html2text_bs(raw_html):\n",
    "    soup = BeautifulSoup(raw_html, \"html.parser\")\n",
    "    [s.extract() for s in soup(['script', 'style'])]\n",
    "    return soup.get_text()\n",
    "\n",
    "def html2text_bs_visible(raw_html):\n",
    "    soup = BeautifulSoup(raw_html, \"html.parser\")    \n",
    "    [s.extract() for s in soup(['style', 'script', '[document]', 'head', 'title'])]\n",
    "    return soup.get_text()\n",
    "\n",
    "def html2title_bs(raw_html):\n",
    "    soup = BeautifulSoup(raw_html, \"html.parser\")\n",
    "    title = soup.find('title')\n",
    "    if title:\n",
    "        return title.get_text()\n",
    "    else:\n",
    "        return ''\n",
    "    \n",
    "def html_has_h1(raw_html):\n",
    "    return re.search(r'<h1', raw_html) is not None\n",
    "    \n",
    "def html_has_h2(raw_html):\n",
    "    return re.search(r'<h2', raw_html) is not None\n",
    "    \n",
    "def html_has_video(raw_html):\n",
    "    return re.search(r'<video', raw_html) is not None\n",
    "    \n",
    "def html_description_len(raw_html):\n",
    "    soup = BeautifulSoup(raw_html, \"html.parser\")\n",
    "    tag = soup.find(\"meta\", {\"name\":\"description\"})\n",
    "    content = ''\n",
    "    if tag:\n",
    "        content += str(tag.get('content'))\n",
    "        content += str(tag.get('value'))\n",
    "    return len(content)\n",
    "    \n",
    "def html_description_words_num(raw_html):\n",
    "    soup = BeautifulSoup(raw_html, \"html.parser\")\n",
    "    tag = soup.find(\"meta\", {\"name\":\"description\"})\n",
    "    content = ''\n",
    "    if tag:\n",
    "        content += str(tag.get('content'))\n",
    "        content += str(tag.get('value'))\n",
    "    return len(list(pymorphy_tokenizer(content)))\n",
    "    \n",
    "def html_image(raw_html_d):\n",
    "    tags = re.findall(r'<img', raw_html_d)\n",
    "    tags_a = raw_html_d.split('</img>')\n",
    "    count = 0\n",
    "    for a in tags_a:\n",
    "        if re.search(r'<img[\\w\\W]*alt=[\\w\\W]*>', a):\n",
    "            count += 1\n",
    "    return len(tags), count\n",
    "    \n",
    "def html_links_anchor(raw_html, self_url):\n",
    "    out_links = [b'']\n",
    "    anchors = []\n",
    "    count = 0\n",
    "    body = re.search(r'</body>', raw_html)\n",
    "    tag_a = raw_html.split('</a>')\n",
    "    for link in tag_a:\n",
    "        url = re.search(r'<a[\\w\\W]*href=\"[\\w\\W]*\"[\\w\\W]*', link)\n",
    "        if url:\n",
    "            url = url.group()\n",
    "            url = re.search(r'href=\"[\\w\\W]*\"', url).group()\n",
    "            url = re.sub(r'href=', '', url)\n",
    "            out_links.append(urlparse(url).netloc)\n",
    "            if urlparse(url).netloc == urlparse(self_url).netloc:\n",
    "                count += 1\n",
    "    if body:\n",
    "        for a in tag_a:\n",
    "            line = re.search(r'<a[\\w\\W]*>[\\w\\W]*', a)\n",
    "            if line:\n",
    "                anchors.append(re.sub(r'<a[\\w\\W]*>', '', line.group()))\n",
    "    return len(tag_a) - 1, len(list(set(out_links))), count, ''.join(anchors)\n",
    "\n",
    "def html2anchors_bs(raw_html, text=''):\n",
    "    if text:\n",
    "        return text\n",
    "    else:\n",
    "        soup = BeautifulSoup(raw_html, \"html.parser\")\n",
    "        body = soup.find('body')\n",
    "        anchors = []\n",
    "        tags_a = soup.find_all('a')\n",
    "        if body:\n",
    "            anchors = [a.get_text() for a in tags_a]\n",
    "        return ''.join(anchors)"
   ]
  },
  {
   "cell_type": "markdown",
   "metadata": {},
   "source": [
    "#### Выбираем какой метод для конвертации html в текст будет основным"
   ]
  },
  {
   "cell_type": "code",
   "execution_count": 6,
   "metadata": {},
   "outputs": [],
   "source": [
    "#html2text = html2text_bs\n",
    "html2text = html2text_parser"
   ]
  },
  {
   "cell_type": "markdown",
   "metadata": {},
   "source": [
    "#### Методы для токенизации текста"
   ]
  },
  {
   "cell_type": "code",
   "execution_count": 7,
   "metadata": {},
   "outputs": [],
   "source": [
    "@convert2lower\n",
    "def easy_tokenizer(text):\n",
    "    word = ''\n",
    "    for symbol in text:\n",
    "        if symbol.isalnum(): word += symbol\n",
    "        elif word:\n",
    "            yield word\n",
    "            word = ''\n",
    "    if word: yield word\n",
    "\n",
    "PYMORPHY_CACHE = {}\n",
    "df = pymorphy2.MorphAnalyzer()\n",
    "\n",
    "@convert2lower\n",
    "def pymorphy_tokenizer(text):\n",
    "    global PYMORPHY_CACHE\n",
    "    for word in easy_tokenizer(text):\n",
    "        word_hash = hash(word)\n",
    "        if word_hash not in PYMORPHY_CACHE:\n",
    "            PYMORPHY_CACHE[word_hash] = df.parse(word)[0].normal_form            \n",
    "        yield PYMORPHY_CACHE[word_hash]"
   ]
  },
  {
   "cell_type": "markdown",
   "metadata": {},
   "source": [
    "#### Основная функция, которая вызывается для преобразования html в список слов"
   ]
  },
  {
   "cell_type": "code",
   "execution_count": 8,
   "metadata": {},
   "outputs": [],
   "source": [
    "def html2word(raw_html, data='', to_text=html2text, tokenizer=easy_tokenizer):\n",
    "    if data == '':\n",
    "        data = to_text(raw_html)\n",
    "    return tokenizer(data.lower())"
   ]
  },
  {
   "cell_type": "markdown",
   "metadata": {},
   "source": [
    "#### Рассчет финальных метрик"
   ]
  },
  {
   "cell_type": "code",
   "execution_count": 9,
   "metadata": {},
   "outputs": [],
   "source": [
    "def safe_divide(a, b):\n",
    "    if a == 0: return 0.0\n",
    "    elif b == 0: return 0.0\n",
    "    else: return a / b\n",
    "\n",
    "def calculate_metrics(predictions, threshold):    \n",
    "    \"\"\"\n",
    "    Функция подсчета метрик\n",
    "    Параметры\n",
    "    predictions - ранки по документам\n",
    "    threshold  - порог для метрик\n",
    "    \"\"\"\n",
    "    true_positive = 0\n",
    "    false_positive = 0\n",
    "    true_negative = 0\n",
    "    false_negative = 0\n",
    "    for (url_id, mark, url, prediction) in predictions:        \n",
    "        mark_predict = prediction > threshold\n",
    "\n",
    "        if mark_predict:                     \n",
    "            if mark_predict == mark: true_positive += 1\n",
    "            else: false_positive += 1                    \n",
    "        else:                     \n",
    "            if  mark_predict == mark: true_negative += 1\n",
    "            else: false_negative += 1\n",
    "\n",
    "    class_prec  = safe_divide(true_positive, true_positive + false_positive)\n",
    "    class_recall = safe_divide(true_positive, true_positive + false_negative)\n",
    "        \n",
    "    class_F1 = safe_divide(2 * class_prec * class_recall, class_prec + class_recall)\n",
    "    \n",
    "    \n",
    "    not_class_prec = safe_divide(true_negative, true_negative + false_negative)\n",
    "    not_class_recall = safe_divide(true_negative, true_negative + false_positive)\n",
    "    \n",
    "    not_class_F1 = safe_divide(2 * not_class_prec * not_class_recall, not_class_prec + not_class_recall)\n",
    "    \n",
    "    return ( (class_prec, class_recall, class_F1), (not_class_prec, not_class_recall, not_class_F1) )\n",
    "\n",
    "def arange(start, stop, step):\n",
    "    cur_value = start\n",
    "    while True:\n",
    "        if cur_value > stop: break\n",
    "        yield cur_value\n",
    "        cur_value += step\n",
    "\n",
    "def plot_results(docs, min_threshold=-1, max_threshold=1, step=0.1, trace=False):\n",
    "    x = []\n",
    "    y_p = []\n",
    "    y_n = []\n",
    "    docs_predictions = classifier.predict_all(docs)\n",
    "    for threshold in arange(min_threshold, max_threshold, step):\n",
    "        r = calculate_metrics(docs_predictions, threshold)\n",
    "        x.append(threshold)\n",
    "        y_p.append(r[0])\n",
    "        y_n.append(r[1])        \n",
    "        if trace: \n",
    "            print('threshold %s' % threshold)\n",
    "            print('\\tclass_prec %s, class_recall %s, class_F1 %s' % r[0])\n",
    "            print('\\tnot_class_prec %s, not_class_recall %s, not_class_F1 %s' % r[1])\n",
    "            print('\\t\\tMacroF1Mesure %s' % ((r[0][2] + r[1][2])/2))\n",
    "    plot_stats(x, y_p, \"Class Result\")\n",
    "    plot_stats(x, y_n, \"Not class Result\")    \n",
    "\n",
    "\n",
    "def plot_stats(x, y, title):\n",
    "    plt.figure(figsize=(10, 5))\n",
    "\n",
    "    prec, = plt.plot( x, \n",
    "                     [k[0] for k in y], \"r\", label='Precision', \n",
    "                     linewidth=1)\n",
    "    accur, = plt.plot( x, \n",
    "                      [k[1] for k in y], \"b\", label='Recall',\n",
    "                      linewidth=1)\n",
    "    f1, =    plt.plot( x, \n",
    "                      [k[2] for k in y], \"g\", label='F1',\n",
    "                      linewidth=1)\n",
    "    plt.grid(True)\n",
    "    plt.legend(handles=[prec, accur, f1])\n",
    "    plt.title(title)\n",
    "    plt.show()"
   ]
  },
  {
   "cell_type": "code",
   "execution_count": 10,
   "metadata": {},
   "outputs": [
    {
     "name": "stderr",
     "output_type": "stream",
     "text": [
      "[nltk_data] Downloading package stopwords to\n",
      "[nltk_data]     /home/twinkle/nltk_data...\n",
      "[nltk_data]   Package stopwords is already up-to-date!\n"
     ]
    }
   ],
   "source": [
    "import nltk\n",
    "nltk.download('stopwords')\n",
    "from nltk.corpus import stopwords\n",
    "\n",
    "def get_stopwords_ratio(words):\n",
    "    ru_sw = stopwords.words('russian')\n",
    "    en_sw = stopwords.words('english')\n",
    "    sw = en_sw + ru_sw\n",
    "    sw_count = 0\n",
    "    for word in words:\n",
    "        if word in sw:\n",
    "            sw_count += 1\n",
    "    return safe_divide(sw_count, len(words))\n",
    "    \n",
    "def get_text_without_stopwords(words):\n",
    "    ru_sw = stopwords.words('russian')\n",
    "    en_sw = stopwords.words('english')\n",
    "    sw = en_sw + ru_sw\n",
    "    without_sw = [word for word in words if word not in sw]\n",
    "    return ' '.join(list(without_sw))"
   ]
  },
  {
   "cell_type": "code",
   "execution_count": 11,
   "metadata": {},
   "outputs": [],
   "source": [
    "stop_words = ['18+', 'секс', 'sex', 'tits',\n",
    "              'adult en','must be 18', 'must be 21',\n",
    "              'over 18', 'over 21', 'xxx', 'ass',\n",
    "             'anal', 'анал', 'bdsm', 'бдсм',\n",
    "             'киска', 'вирус', 'азиат', 'мулат', 'молодая девушка',\n",
    "             'adult', 'porn', 'порн', 'инцест',\n",
    "             'минет', 'куни', 'эроти']\n",
    "\n",
    "def adult_content(text):\n",
    "    return len([w for w in stop_words if w in text])"
   ]
  },
  {
   "cell_type": "code",
   "execution_count": 12,
   "metadata": {},
   "outputs": [],
   "source": [
    "def total_len(words):\n",
    "    return len(''.join(words))\n",
    "\n",
    "def get_title_words(html):\n",
    "    title = html2title_parser(html)\n",
    "    return len(list(easy_tokenizer(title))), len(title)\n",
    "\n",
    "def get_anchors_words_num(html, text):\n",
    "    anchors = html2anchors_bs(html, text)\n",
    "    anchors_words = easy_tokenizer(anchors)\n",
    "    return len(list(anchors_words))\n",
    "\n",
    "class Zlib():\n",
    "    \n",
    "    def __init__(self, html):\n",
    "        self.html = html\n",
    "        self.compressed = zlib.compress(html)\n",
    "        \n",
    "    def get_zlib_compr_num(self):\n",
    "        return len(self.compressed)\n",
    "\n",
    "    def get_zlib_compr_lvl(self):\n",
    "        return safe_divide(len(self.html), len(self.compressed))\n",
    "\n",
    "class Bz2():\n",
    "    \n",
    "    def __init__(self, html):\n",
    "        self.html = html\n",
    "        self.compressed = bz2.compress(html)\n",
    "    \n",
    "    def get_bz2_compr_num(self):\n",
    "        return len(self.compressed)\n",
    "\n",
    "    def get_bz2_compr_lvl(self):\n",
    "        return safe_divide(len(self.html), len(self.compressed))\n",
    "\n",
    "class Gzip():\n",
    "    \n",
    "    def __init__(self, html):\n",
    "        self.html = html\n",
    "        self.compressed = gzip.compress(html)        \n",
    "    \n",
    "    def get_gzip_compr_num(self):\n",
    "        return len(self.compressed)\n",
    "\n",
    "    def get_gzip_compr_lvl(self):        \n",
    "        return safe_divide(len(self.html), len(self.compressed))\n",
    "\n",
    "def is_secure_url(url):\n",
    "    return re.match('https', url) is not None    \n",
    "        \n",
    "def calc_features(url, html_data):\n",
    "    features = {}\n",
    "    zlib = Zlib(html_data)\n",
    "    bz2 = Bz2(html_data)\n",
    "    gzip = Gzip(html_data)\n",
    "    html_data_d = ''\n",
    "    datum = ''\n",
    "    try:\n",
    "        html_data_d = html_data.decode('utf-8')\n",
    "    except:\n",
    "        html_data_d = html_data.decode('latin-1')\n",
    "    \n",
    "    text = remove_stopwords(html_data_d)\n",
    "    text = split_alphanum(text)\n",
    "    text =  strip_multiple_whitespaces(text)\n",
    "    \n",
    "    datum = html2text(html_data_d)\n",
    "    \n",
    "    data = html_links_anchor(html_data_d, url)\n",
    "    features['links_num'] = data[0]\n",
    "    features['unique_links_num'] = data[1]\n",
    "    features['self_links_num'] = data[2]\n",
    "    features['unique_links_ratio'] = safe_divide(features['unique_links_num'], features['links_num'])\n",
    "\n",
    "    features['comma_num'] = len(datum.split(','))\n",
    "    \n",
    "    words = list(html2word(html_data, data=datum))\n",
    "    \n",
    "    features['words_num'] = len(words)\n",
    "    features['avg_word_len'] = safe_divide(total_len(words), features['words_num'])\n",
    "    \n",
    "    #title = get_title_words(html_data_d)\n",
    "    #features['title_words_num'] = title[0]\n",
    "    #features['title_len'] = title[1]\n",
    "    #features['anchor_words_num'] = get_anchors_words_num(html_data, data[3])\n",
    "    #features['anchor_words_ratio'] = safe_divide(features['anchor_words_num'],\n",
    "    #                                             features['words_num'])\n",
    "    \n",
    "    features['html_len'] = len(html_data)\n",
    "    \n",
    "    #features['visible_percent'] = safe_divide(len(html2text_bs_visible(html_data_d)), features['html_len'])\n",
    "    \n",
    "    features['zlib_compr_len'] = zlib.get_zlib_compr_num()\n",
    "    features['zlib_compr_lvl'] = zlib.get_zlib_compr_lvl()\n",
    "    \n",
    "    features['bz2_compr_len'] = bz2.get_bz2_compr_num()\n",
    "    features['bz2_compr_lvl'] = bz2.get_bz2_compr_lvl()\n",
    "    \n",
    "    features['gzip_compr_num'] = gzip.get_gzip_compr_num()\n",
    "    features['gzip_compr_len'] = gzip.get_gzip_compr_lvl()\n",
    "    \n",
    "    features['url_ssl_certificate'] = is_secure_url(url)\n",
    "    features['url_len'] = len(url)\n",
    "    features['url_subdomains_len'] = len(list(url.split('.')))\n",
    "    features['url_digits'] = len(re.findall(r'\\d', url))\n",
    "    \n",
    "    features['h1_presense'] = html_has_h1(html_data_d)\n",
    "    features['h2_presence'] = html_has_h2(html_data_d)\n",
    "    features['video_presence'] = html_has_video(html_data_d)\n",
    "    \n",
    "    #features['description_len'] = html_description_len(html_data)\n",
    "    #features['description_words_num'] = html_description_words_num(html_data)\n",
    "    \n",
    "    img = html_image(html_data_d)\n",
    "    features['image_num'] = img[0]\n",
    "    features['image_with_alt_num'] = img[1]\n",
    "    \n",
    "    features['unique_words_num'] = len(list(set(words)))\n",
    "    features['unique_words_ratio'] = safe_divide(features['unique_words_num'], features['words_num'])\n",
    "    \n",
    "    features['stopwords_ratio'] = get_stopwords_ratio(words)   \n",
    "    features['adult'] = adult_content(datum)\n",
    "    \n",
    "    features['text'] = text\n",
    "    \n",
    "    #for k, v in features.items():\n",
    "    #    print(k, v)\n",
    "    \n",
    "    return list(features.values())"
   ]
  },
  {
   "cell_type": "code",
   "execution_count": 13,
   "metadata": {},
   "outputs": [],
   "source": [
    "test_html_data = u'''\n",
    "<!DOCTYPE html>\n",
    "<html>\n",
    "<head>\n",
    "something\n",
    "<title>Заголовок \n",
    "Ololo</title>\n",
    "</head>\n",
    "<body>\n",
    "<div class=\"image\">GERE<p><a href=\"images/xxx.jpg\">Посмотрите на мою фотографию!</a></p>\n",
    "    <p><a href=\"tip.html\">Как сделать такое же фото?</a></p> \n",
    "<a href=\"http://www.example.com/eg1\">Content1<img  \n",
    "src=\"http://image.example.com/img1.jpg\" />1</a>\n",
    "</div>\n",
    "<img> </img>\n",
    "<div class=\"image\">\n",
    "<a href=\"http://www.example.com/eg2\">Content2<img  \n",
    "src=\"http://image.example.com/img2.jpg\" />&*&\"??>?}}{<>{^:~?`}}\"@!&&$@**(::LD:ASLFSAW)#(*_)#@</a>\n",
    "</div>\n",
    "<div class=\"image\">GERE\n",
    "<a href=\"http://www.example.com/eg1\">Content1<img  \n",
    "src=\"http://image.example.com/img1.jpg\" />1</a>\n",
    "</div>\n",
    "<img></img>\n",
    "<div class=\"image\">\n",
    "<a href=\"http://www.example.com/eg2\">Content2<img  \n",
    "src=\"http://image.example.com/img2.jpg\" />&*&\"??>?}}{<>{^:~?`}}\"@!&&$@**(::LD:ASLFSAW)#(*_)#@</a>\n",
    "</div>\n",
    "</body>\n",
    "спам 1 2 3\n",
    "</html>\n",
    "'''\n",
    "test_url = 'http://ololo.sd234f.sfsdfs.sdf'"
   ]
  },
  {
   "cell_type": "code",
   "execution_count": 14,
   "metadata": {},
   "outputs": [
    {
     "name": "stdout",
     "output_type": "stream",
     "text": [
      "28 [6, 2, 0, 0.3333333333333333, 1, 28, 4.857142857142857, 942, 401, 2.349127182044888, 474, 1.9873417721518987, 413, 2.280871670702179, 0, 30, 4, 3, False, False, False, 6, 0, 21, 0.75, 0.10714285714285714, 0, '<!DOCTYPE html> <html> <head> <title>Заголовок Ololo</title> </head> <body> <div class=\"image\">GERE<p><a href=\"images/xxx.jpg\">Посмотрите на мою фотографию!</a></p> <p><a href=\"tip.html\">Как сделать такое же фото?</a></p> <a href=\"http://www.example.com/eg 1\">Content 1<img src=\"http://image.example.com/img 1.jpg\" />1</a> </div> <img> </img> <div class=\"image\"> <a href=\"http://www.example.com/eg 2\">Content 2<img src=\"http://image.example.com/img 2.jpg\" />&*&\"??>?}}{<>{^:~?`}}\"@!&&$@**(::LD:ASLFSAW)#(*_)#@</a> </div> <div class=\"image\">GERE <a href=\"http://www.example.com/eg 1\">Content 1<img src=\"http://image.example.com/img 1.jpg\" />1</a> </div> <img></img> <div class=\"image\"> <a href=\"http://www.example.com/eg 2\">Content 2<img src=\"http://image.example.com/img 2.jpg\" />&*&\"??>?}}{<>{^:~?`}}\"@!&&$@**(::LD:ASLFSAW)#(*_)#@</a> </div> </body> спам 1 2 3 </html>']\n",
      "CPU times: user 15.9 ms, sys: 0 ns, total: 15.9 ms\n",
      "Wall time: 18.6 ms\n"
     ]
    }
   ],
   "source": [
    "%%time\n",
    "test_features = calc_features(test_url, test_html_data.encode())\n",
    "print(len(test_features), test_features)"
   ]
  },
  {
   "cell_type": "code",
   "execution_count": 15,
   "metadata": {},
   "outputs": [],
   "source": [
    "from multiprocessing import Process, Queue\n",
    "\n",
    "DocItem = namedtuple('DocItem', ['doc_id', 'is_spam', 'url', 'features'])\n",
    "\n",
    "WORKER_NUM = 4\n",
    "\n",
    "def load_csv(input_file_name, calc_features_f):    \n",
    "    \"\"\"\n",
    "    Загружаем данные и извлекаем на лету признаки\n",
    "    Сам контент не сохраняется, чтобы уменьшить потребление памяти - чтобы\n",
    "    можно было запускать даже на ноутбуках в классе\n",
    "    \"\"\"\n",
    "    \n",
    "    with gzip.open(input_file_name) if input_file_name.endswith('gz') else open(input_file_name)  as input_file:            \n",
    "        headers = input_file.readline()\n",
    "        \n",
    "        for i, line in enumerate(input_file):\n",
    "            trace(i)\n",
    "            parts = line.decode('utf-8').strip().split('\\t')\n",
    "            url_id = int(parts[0])                                        \n",
    "            mark = bool(int(parts[1]))                    \n",
    "            url = parts[2]\n",
    "            pageInb64 = parts[3]\n",
    "            html_data = base64.b64decode(pageInb64)\n",
    "            features = calc_features_f(url, html_data)            \n",
    "            yield DocItem(url_id, mark, url, features)            \n",
    "                \n",
    "        trace(i, 1)  \n",
    "        \n",
    "def load_csv_worker(input_file_name, calc_features_f, worker_id, res_queue):    \n",
    "    with gzip.open(input_file_name) if input_file_name.endswith('gz') else open(input_file_name)  as input_file:            \n",
    "        headers = input_file.readline()\n",
    "        for i, line in enumerate(input_file):\n",
    "            trace_worker(i, worker_id)\n",
    "            if i % WORKER_NUM != worker_id: continue\n",
    "            parts = line.decode(\"utf-8\").strip().split('\\t')\n",
    "            url_id = int(parts[0])                                        \n",
    "            mark = bool(int(parts[1]))                    \n",
    "            url = parts[2]\n",
    "            pageInb64 = parts[3]\n",
    "            html_data = base64.b64decode(pageInb64)\n",
    "            features = calc_features_f(url, html_data)            \n",
    "            res_queue.put(DocItem(url_id, mark, url, features))\n",
    "            \n",
    "        trace_worker(i, worker_id, 1)  \n",
    "    res_queue.put(None)\n",
    "        \n",
    "def load_csv_multiprocess(input_file_name, calc_features_f):\n",
    "    processes = []\n",
    "    res_queue = Queue()    \n",
    "    for i in range(WORKER_NUM):\n",
    "        process = Process(target=load_csv_worker, args=(input_file_name, calc_features_f, i, res_queue))\n",
    "        processes.append(process)\n",
    "        process.start()\n",
    "    \n",
    "    complete_workers = 0\n",
    "    while complete_workers != WORKER_NUM:\n",
    "        item = res_queue.get()\n",
    "        if item is None:\n",
    "            complete_workers += 1\n",
    "        else:\n",
    "            yield item\n",
    "    for process in processes:\n",
    "        process.join()"
   ]
  },
  {
   "cell_type": "markdown",
   "metadata": {},
   "source": [
    "** Обрабатываем входной файл **\n",
    "<br>\n",
    "Формат - поля разделенные табуляциями\n",
    "<br>\n",
    "0 - идентификатор документа\n",
    "<br>\n",
    "1 - метка класса 0 - не спам, 1 - спам\n",
    "<br>\n",
    "2 - урл документа\n",
    "<br>\n",
    "3 - документ в кодировке base64\n",
    "\n",
    "Выходной формат - массив кортежей вида\n",
    "(doc_id, is_spam, url, html_data)"
   ]
  },
  {
   "cell_type": "code",
   "execution_count": 16,
   "metadata": {
    "scrolled": false
   },
   "outputs": [
    {
     "name": "stderr",
     "output_type": "stream",
     "text": [
      "03:06:45 INFO:Complete items 00000 in worker_id 0\n",
      "03:06:45 INFO:Complete items 00000 in worker_id 2\n",
      "03:06:45 INFO:Complete items 00000 in worker_id 1\n",
      "03:06:45 INFO:Complete items 00000 in worker_id 3\n",
      "03:07:10 INFO:Complete items 01000 in worker_id 2\n",
      "03:07:11 INFO:Complete items 01000 in worker_id 0\n",
      "03:07:11 INFO:Complete items 01000 in worker_id 3\n",
      "03:07:15 INFO:Complete items 01000 in worker_id 1\n",
      "03:07:34 INFO:Complete items 02000 in worker_id 0\n",
      "03:07:35 INFO:Complete items 02000 in worker_id 3\n",
      "03:07:36 INFO:Complete items 02000 in worker_id 2\n",
      "03:07:39 INFO:Complete items 02000 in worker_id 1\n",
      "03:07:59 INFO:Complete items 03000 in worker_id 0\n",
      "03:08:02 INFO:Complete items 03000 in worker_id 3\n",
      "03:08:04 INFO:Complete items 03000 in worker_id 1\n",
      "03:08:08 INFO:Complete items 03000 in worker_id 2\n",
      "03:08:26 INFO:Complete items 04000 in worker_id 0\n",
      "03:08:32 INFO:Complete items 04000 in worker_id 3\n",
      "03:08:32 INFO:Complete items 04000 in worker_id 1\n",
      "03:08:33 INFO:Complete items 04000 in worker_id 2\n",
      "03:08:53 INFO:Complete items 05000 in worker_id 0\n",
      "03:09:01 INFO:Complete items 05000 in worker_id 2\n",
      "03:09:03 INFO:Complete items 05000 in worker_id 1\n",
      "03:09:05 INFO:Complete items 05000 in worker_id 3\n",
      "03:09:17 INFO:Complete items 06000 in worker_id 0\n",
      "03:09:23 INFO:Complete items 06000 in worker_id 2\n",
      "03:09:29 INFO:Complete items 06000 in worker_id 3\n",
      "03:09:35 INFO:Complete items 06000 in worker_id 1\n",
      "03:09:43 INFO:Complete items 07000 in worker_id 0\n",
      "03:09:43 INFO:Complete items 07043 in worker_id 0\n",
      "03:09:49 INFO:Complete items 07000 in worker_id 2\n",
      "03:09:50 INFO:Complete items 07043 in worker_id 2\n",
      "03:10:01 INFO:Complete items 07000 in worker_id 1\n",
      "03:10:02 INFO:Complete items 07043 in worker_id 1\n",
      "03:10:02 INFO:Complete items 07000 in worker_id 3\n",
      "03:10:03 INFO:Complete items 07043 in worker_id 3\n"
     ]
    },
    {
     "name": "stdout",
     "output_type": "stream",
     "text": [
      "CPU times: user 1.31 s, sys: 348 ms, total: 1.65 s\n",
      "Wall time: 3min 18s\n"
     ]
    }
   ],
   "source": [
    "%%time\n",
    "\n",
    "TRAIN_DATA_FILE  = 'kaggle_train_data_tab.csv.gz'\n",
    "# TRAIN_DATA_FILE  = 'kaggle/kaggle_train_data_tab_300.csv.gz'\n",
    "\n",
    "train_docs = list(load_csv_multiprocess(TRAIN_DATA_FILE, calc_features))"
   ]
  },
  {
   "cell_type": "markdown",
   "metadata": {
    "collapsed": true
   },
   "source": [
    "**FEATURES IN ORDER**\n",
    "<br>\n",
    "features['links_num']\n",
    "<br>\n",
    "features['unique_links_num']\n",
    "<br>\n",
    "features['self_links_num']\n",
    "<br>\n",
    "features['unique_links_ratio']\n",
    "<br>\n",
    "features['comma_num']\n",
    "<br>\n",
    "features['words_num']\n",
    "<br>\n",
    "features['avg_word_len']\n",
    "<br>\n",
    "features['html_len']\n",
    "<br>\n",
    "features['zlib_compr_len']\n",
    "<br>\n",
    "features['zlib_compr_lvl']\n",
    "<br>\n",
    "features['bz2_compr_len']\n",
    "<br>\n",
    "features['bz2_compr_lvl']\n",
    "<br>\n",
    "features['gzip_compr_num']\n",
    "<br>\n",
    "features['gzip_compr_len']\n",
    "<br>\n",
    "features['url_ssl_certificate']\n",
    "<br>\n",
    "features['url_len']\n",
    "<br>\n",
    "features['url_subdomains_len']\n",
    "<br>\n",
    "features['url_digits']\n",
    "<br>\n",
    "features['h1_presense']\n",
    "<br>\n",
    "features['h2_presence']\n",
    "<br>\n",
    "features['video_presence']\n",
    "<br>\n",
    "features['image_num']\n",
    "<br>\n",
    "features['image_with_alt_num']\n",
    "<br>\n",
    "features['unique_words_num']\n",
    "<br>\n",
    "features['unique_words_ratio']\n",
    "<br>\n",
    "features['stopwords_ratio']\n",
    "<br>\n",
    "features['adult']\n",
    "<br>\n",
    "features['text']"
   ]
  },
  {
   "cell_type": "code",
   "execution_count": 17,
   "metadata": {},
   "outputs": [
    {
     "data": {
      "image/png": "[encoded data removed]",
      "text/plain": [
       "<Figure size 432x288 with 1 Axes>"
      ]
     },
     "metadata": {
      "needs_background": "light"
     },
     "output_type": "display_data"
    }
   ],
   "source": [
    "is_spam_data = [doc.features[0] for doc in train_docs if doc[1] == True]\n",
    "not_spam_data = [doc.features[0] for doc in train_docs if doc[1] == False]\n",
    "bins = range(0,3000,10)\n",
    "plt.hist(is_spam_data, bins=bins, color='red', density=True, alpha=0.7, label='spam')\n",
    "plt.hist(not_spam_data, bins=bins, color='blue', density=True, alpha=0.7, label='not_spam')\n",
    "plt.title('Links')\n",
    "plt.legend()\n",
    "plt.show()"
   ]
  },
  {
   "cell_type": "code",
   "execution_count": 18,
   "metadata": {},
   "outputs": [
    {
     "data": {
      "image/png": "[encoded data removed]",
      "text/plain": [
       "<Figure size 432x288 with 1 Axes>"
      ]
     },
     "metadata": {
      "needs_background": "light"
     },
     "output_type": "display_data"
    }
   ],
   "source": [
    "is_spam_data = [doc.features[24] for doc in train_docs if doc[1] == True]\n",
    "not_spam_data = [doc.features[24] for doc in train_docs if doc[1] == False]\n",
    "bins = 100\n",
    "plt.hist(is_spam_data, bins=bins, color='red', density=True, alpha=0.7, label='spam')\n",
    "plt.hist(not_spam_data, bins=bins, color='blue', density=True, alpha=0.7, label='not_spam')\n",
    "plt.title('Unique words ratio')\n",
    "plt.legend()\n",
    "plt.show()"
   ]
  },
  {
   "cell_type": "code",
   "execution_count": 19,
   "metadata": {},
   "outputs": [
    {
     "name": "stderr",
     "output_type": "stream",
     "text": [
      "<string>:6: RuntimeWarning: Converting input from bool to <class 'numpy.uint8'> for compatibility.\n"
     ]
    },
    {
     "data": {
      "image/png": "[encoded data removed]",
      "text/plain": [
       "<Figure size 432x288 with 1 Axes>"
      ]
     },
     "metadata": {
      "needs_background": "light"
     },
     "output_type": "display_data"
    }
   ],
   "source": [
    "is_spam_data = [doc.features[18] for doc in train_docs if doc[1] == True]\n",
    "not_spam_data = [doc.features[18] for doc in train_docs if doc[1] == False]\n",
    "bins = range(0, 30, 1)\n",
    "plt.hist(is_spam_data, bins=bins, color='red', density=True, alpha=0.7, label='spam')\n",
    "plt.hist(not_spam_data, bins=bins, color='blue', density=True, alpha=0.7, label='not_spam')\n",
    "plt.title('TitleWordsNum')\n",
    "plt.legend()\n",
    "plt.show()"
   ]
  },
  {
   "cell_type": "code",
   "execution_count": 20,
   "metadata": {},
   "outputs": [
    {
     "data": {
      "image/png": "[encoded data removed]",
      "text/plain": [
       "<Figure size 432x288 with 1 Axes>"
      ]
     },
     "metadata": {
      "needs_background": "light"
     },
     "output_type": "display_data"
    }
   ],
   "source": [
    "is_spam_data = [doc.features[23] for doc in train_docs if doc[1] == True]\n",
    "not_spam_data = [doc.features[23] for doc in train_docs if doc[1] == False]\n",
    "bins = range(0, 3000, 10)\n",
    "plt.hist(is_spam_data, bins=bins, color='red', alpha=0.7, label='spam')\n",
    "plt.hist(not_spam_data, bins=bins, color='blue', alpha=0.7, label='not_spam')\n",
    "plt.title('Unique Words Num')\n",
    "plt.legend()\n",
    "plt.show()"
   ]
  },
  {
   "cell_type": "code",
   "execution_count": 21,
   "metadata": {},
   "outputs": [
    {
     "data": {
      "image/png": "[encoded data removed]",
      "text/plain": [
       "<Figure size 432x288 with 1 Axes>"
      ]
     },
     "metadata": {
      "needs_background": "light"
     },
     "output_type": "display_data"
    }
   ],
   "source": [
    "is_spam_data = [doc.features[4] for doc in train_docs if doc[1] == True]\n",
    "not_spam_data = [doc.features[4] for doc in train_docs if doc[1] == False]\n",
    "bins = range(0, 30, 1)\n",
    "plt.hist(is_spam_data, color='red', alpha=0.7, label='spam')\n",
    "plt.hist(not_spam_data, color='blue', alpha=0.7, label='not_spam')\n",
    "plt.title('Comma Num')\n",
    "plt.legend()\n",
    "plt.show()"
   ]
  },
  {
   "cell_type": "code",
   "execution_count": 22,
   "metadata": {},
   "outputs": [
    {
     "data": {
      "image/png": "[encoded data removed]",
      "text/plain": [
       "<Figure size 432x288 with 1 Axes>"
      ]
     },
     "metadata": {
      "needs_background": "light"
     },
     "output_type": "display_data"
    }
   ],
   "source": [
    "is_spam_data = [doc.features[5] for doc in train_docs if doc[1] == True]\n",
    "not_spam_data = [doc.features[5] for doc in train_docs if doc[1] == False]\n",
    "bins = range(0, 30, 1)\n",
    "plt.hist(is_spam_data, bins=bins, color='red', density=True, alpha=0.7, label='spam')\n",
    "plt.hist(not_spam_data, bins=bins, color='blue', density=True, alpha=0.7, label='not_spam')\n",
    "plt.title('Words Num')\n",
    "plt.legend()\n",
    "plt.show()"
   ]
  },
  {
   "cell_type": "code",
   "execution_count": 23,
   "metadata": {},
   "outputs": [
    {
     "data": {
      "image/png": "[encoded data removed]",
      "text/plain": [
       "<Figure size 432x288 with 1 Axes>"
      ]
     },
     "metadata": {
      "needs_background": "light"
     },
     "output_type": "display_data"
    }
   ],
   "source": [
    "is_spam_data = [doc.features[26] for doc in train_docs if doc[1] == True]\n",
    "not_spam_data = [doc.features[26] for doc in train_docs if doc[1] == False]\n",
    "bins = range(0, 30, 1)\n",
    "plt.hist(is_spam_data, color='red', alpha=0.7, label='spam')\n",
    "plt.hist(not_spam_data, color='blue', alpha=0.7, label='not_spam')\n",
    "plt.title('Adult Content')\n",
    "plt.legend()\n",
    "plt.show()"
   ]
  },
  {
   "cell_type": "markdown",
   "metadata": {},
   "source": [
    "## ** Классификатор: **\n",
    "\n",
    "Нужно реализовать"
   ]
  },
  {
   "cell_type": "code",
   "execution_count": 24,
   "metadata": {},
   "outputs": [],
   "source": [
    "import xgboost as xgb\n",
    "from scipy.stats import uniform, randint\n",
    "from sklearn.model_selection import GridSearchCV, RandomizedSearchCV\n",
    "from sklearn.feature_extraction.text import TfidfVectorizer\n",
    "from sklearn.model_selection import StratifiedKFold\n",
    "from sklearn.metrics import f1_score, make_scorer\n",
    "\n",
    "class Classifier:\n",
    "    \n",
    "    def __init__(self):\n",
    "        self.params = {\n",
    "            \"colsample_bytree\": uniform(0.7, 0.3),\n",
    "            \"gamma\": uniform(0, 0.5),\n",
    "            \"learning_rate\": uniform(0.03, 0.3),\n",
    "            \"max_depth\": randint(2, 10),\n",
    "            \"n_estimators\": randint(100, 2000)\n",
    "        }\n",
    "\n",
    "        self.clf = xgb.XGBRegressor(objective=\"binary:hinge\",\n",
    "                                    random_state=42,\n",
    "                                    subsample=0.5)\n",
    "        self.scoring = make_scorer(f1_score, average='weighted')\n",
    "        \n",
    "        self.tfidf_maxfeatures = 200\n",
    "        self.vectorizer = TfidfVectorizer(sublinear_tf=True,\n",
    "                                          use_idf=True,\n",
    "                                          smooth_idf=True,\n",
    "                                          max_features=self.tfidf_maxfeatures)\n",
    "        self.simple_features_len = 0\n",
    "\n",
    "    def train(self, docs):\n",
    "        self.fit_vectorizer(docs)\n",
    "        \n",
    "        self.simple_features_len = len(docs[0].features) - 1\n",
    "        \n",
    "        X = np.zeros((len(docs), self.simple_features_len + self.tfidf_maxfeatures))\n",
    "        y = np.zeros(len(docs)).astype('int')\n",
    "         \n",
    "        for doc_num, doc in enumerate(docs):                            \n",
    "            X[doc_num, :self.simple_features_len] = doc.features[:-1]\n",
    "            for i in range(self.tfidf_maxfeatures):\n",
    "                w = re.findall(self.tfidf_fnames[i], doc.features[-1])\n",
    "                X[doc_num, self.simple_features_len + i] = len(w)\n",
    "            y[doc_num] = doc.is_spam\n",
    "            trace(doc_num)\n",
    "            \n",
    "        folds = 5\n",
    "        param_comb = 5\n",
    "\n",
    "        skf = StratifiedKFold(n_splits=folds, shuffle = True, random_state = 1001)\n",
    "  \n",
    "        search = RandomizedSearchCV(\n",
    "            self.clf,\n",
    "            param_distributions=self.params,\n",
    "            n_iter=param_comb,\n",
    "            scoring=self.scoring,\n",
    "            n_jobs=-1,\n",
    "            cv=skf.split(X,y),\n",
    "            verbose=3\n",
    "        )\n",
    "        search.fit(X, y)\n",
    "        print(search.best_params_)\n",
    "        print(search.best_score_)\n",
    "        self.best_clf = search.best_estimator_\n",
    "    \n",
    "    def predict(self, doc):\n",
    "        features = np.zeros(self.simple_features_len + self.tfidf_maxfeatures)\n",
    "        features[:self.simple_features_len] = doc.features[:-1]\n",
    "        for i in range(self.tfidf_maxfeatures):\n",
    "            w = re.findall(self.tfidf_fnames[i], doc.features[-1])\n",
    "            features[self.simple_features_len+i] = len(w)\n",
    "\n",
    "        ypred = self.best_clf.predict([features])[0]\n",
    "        return int(ypred)      \n",
    "    \n",
    "    def predict_all(self, docs):\n",
    "        res = []\n",
    "        for doc_num, doc in enumerate(docs):\n",
    "            trace(doc_num)\n",
    "            prediction = self.predict(doc)            \n",
    "            res.append( (doc.doc_id, doc.is_spam, doc.url, prediction) )\n",
    "        return res\n",
    "    \n",
    "    def fit_vectorizer(self, docs):\n",
    "        corpus = []\n",
    "        for doc in docs:\n",
    "            corpus.append(doc.features[-1])\n",
    "        \n",
    "        self.tfidf_train = self.vectorizer.fit_transform(corpus)\n",
    "        self.tfidf_fnames = self.vectorizer.get_feature_names()\n",
    "        print(self.tfidf_fnames)"
   ]
  },
  {
   "cell_type": "code",
   "execution_count": 25,
   "metadata": {
    "scrolled": true
   },
   "outputs": [
    {
     "name": "stderr",
     "output_type": "stream",
     "text": [
      "03:12:22 INFO:Complete items 00000\n"
     ]
    },
    {
     "name": "stdout",
     "output_type": "stream",
     "text": [
      "['01', '04', '10', '100', '11', '12', '13', '14', '15', '16', '17', '18', '20', '2010', '2011', '21', '22', '24', '25', '30', '31', '50', '80', '82', '_blank', 'action', 'align', 'alt', 'amp', 'b0', 'b5', 'b8', 'background', 'bd', 'be', 'bgcolor', 'block', 'body', 'border', 'bottom', 'br', 'cat', 'category', 'cc', 'cellpadding', 'cellspacing', 'center', 'class', 'co', 'color', 'colspan', 'com', 'comment', 'content', 'counter', 'css', 'd0', 'd1', 'display', 'div', 'document', 'em', 'false', 'ffffff', 'font', 'form', 'forum', 'function', 'gif', 'google', 'head', 'height', 'hidden', 'href', 'htm', 'html', 'http', 'id', 'if', 'image', 'images', 'img', 'index', 'info', 'input', 'item', 'javascript', 'jpg', 'js', 'label', 'language', 'laquo', 'left', 'li', 'link', 'liveinternet', 'livejournal', 'mail', 'margin', 'menu', 'meta', 'middle', 'ms', 'name', 'narod', 'nbsp', 'net', 'new', 'news', 'no', 'nofollow', 'noindex', 'none', 'noscript', 'nowrap', 'onclick', 'option', 'org', 'padding', 'page', 'php', 'png', 'position', 'post', 'pt', 'px', 'quot', 'raquo', 'rel', 'return', 'rgb', 'right', 'ru', 'screen', 'script', 'search', 'size', 'small', 'solid', 'span', 'src', 'strong', 'style', 'table', 'tag', 'target', 'tbody', 'td', 'templates', 'text', 'this', 'title', 'top', 'tr', 'type', 'ua', 'ul', 'url', 'user', 'valign', 'value', 'var', 'weight', 'width', 'write', 'www', 'yandex', 'бесплатно', 'видео', 'все', 'вы', 'для', 'до', 'его', 'если', 'же', 'за', 'знакомства', 'из', 'или', 'как', 'мы', 'на', 'не', 'но', 'он', 'она', 'онлайн', 'от', 'по', 'порно', 'при', 'секс', 'скачать', 'так', 'то', 'только', 'фото', 'что', 'это']\n"
     ]
    },
    {
     "name": "stderr",
     "output_type": "stream",
     "text": [
      "03:12:27 INFO:Complete items 01000\n",
      "03:12:31 INFO:Complete items 02000\n",
      "03:12:36 INFO:Complete items 03000\n",
      "03:12:40 INFO:Complete items 04000\n",
      "03:12:45 INFO:Complete items 05000\n",
      "03:12:50 INFO:Complete items 06000\n",
      "03:12:55 INFO:Complete items 07000\n"
     ]
    },
    {
     "name": "stdout",
     "output_type": "stream",
     "text": [
      "Fitting 5 folds for each of 5 candidates, totalling 25 fits\n"
     ]
    },
    {
     "name": "stderr",
     "output_type": "stream",
     "text": [
      "[Parallel(n_jobs=-1)]: Using backend LokyBackend with 4 concurrent workers.\n",
      "[Parallel(n_jobs=-1)]: Done  25 out of  25 | elapsed:  6.1min finished\n"
     ]
    },
    {
     "name": "stdout",
     "output_type": "stream",
     "text": [
      "{'colsample_bytree': 0.8232802622247639, 'gamma': 0.1598818893750975, 'learning_rate': 0.042300938208821276, 'max_depth': 8, 'n_estimators': 921}\n",
      "0.9741777146062206\n",
      "CPU times: user 2min 16s, sys: 416 ms, total: 2min 16s\n",
      "Wall time: 8min 21s\n"
     ]
    }
   ],
   "source": [
    "%%time\n",
    "\n",
    "classifier = Classifier()\n",
    "classifier.train(train_docs)"
   ]
  },
  {
   "cell_type": "code",
   "execution_count": 26,
   "metadata": {},
   "outputs": [
    {
     "data": {
      "text/plain": [
       "0"
      ]
     },
     "execution_count": 26,
     "metadata": {},
     "output_type": "execute_result"
    }
   ],
   "source": [
    "#Example\n",
    "classifier.predict(DocItem(0, 0, test_url , test_features))"
   ]
  },
  {
   "cell_type": "code",
   "execution_count": 27,
   "metadata": {
    "scrolled": true
   },
   "outputs": [
    {
     "name": "stderr",
     "output_type": "stream",
     "text": [
      "03:19:42 INFO:Complete items 00000 in worker_id 0\n",
      "03:19:42 INFO:Complete items 00000 in worker_id 1\n",
      "03:19:42 INFO:Complete items 00000 in worker_id 2\n",
      "03:19:42 INFO:Complete items 00000 in worker_id 3\n",
      "03:20:11 INFO:Complete items 01000 in worker_id 2\n",
      "03:20:14 INFO:Complete items 01000 in worker_id 1\n",
      "03:20:23 INFO:Complete items 01000 in worker_id 3\n",
      "03:20:30 INFO:Complete items 01000 in worker_id 0\n",
      "03:20:40 INFO:Complete items 02000 in worker_id 2\n",
      "03:20:41 INFO:Complete items 02000 in worker_id 1\n",
      "03:21:03 INFO:Complete items 02000 in worker_id 0\n",
      "03:21:03 INFO:Complete items 02000 in worker_id 3\n",
      "03:21:13 INFO:Complete items 03000 in worker_id 2\n",
      "03:21:14 INFO:Complete items 03000 in worker_id 1\n",
      "03:21:30 INFO:Complete items 03000 in worker_id 3\n",
      "03:21:34 INFO:Complete items 03000 in worker_id 0\n",
      "03:21:41 INFO:Complete items 04000 in worker_id 2\n",
      "03:21:42 INFO:Complete items 04000 in worker_id 1\n",
      "03:22:02 INFO:Complete items 04000 in worker_id 0\n",
      "03:22:02 INFO:Complete items 04000 in worker_id 3\n",
      "03:22:04 INFO:Complete items 05000 in worker_id 2\n",
      "03:22:12 INFO:Complete items 05000 in worker_id 1\n",
      "03:22:27 INFO:Complete items 06000 in worker_id 2\n",
      "03:22:27 INFO:Complete items 05000 in worker_id 3\n",
      "03:22:30 INFO:Complete items 05000 in worker_id 0\n",
      "03:22:54 INFO:Complete items 06000 in worker_id 1\n",
      "03:22:57 INFO:Complete items 07000 in worker_id 2\n",
      "03:22:58 INFO:Complete items 06000 in worker_id 0\n",
      "03:23:02 INFO:Complete items 06000 in worker_id 3\n",
      "03:23:21 INFO:Complete items 07000 in worker_id 1\n",
      "03:23:21 INFO:Complete items 08000 in worker_id 2\n",
      "03:23:28 INFO:Complete items 07000 in worker_id 0\n",
      "03:23:30 INFO:Complete items 07000 in worker_id 3\n",
      "03:23:47 INFO:Complete items 09000 in worker_id 2\n",
      "03:23:57 INFO:Complete items 08000 in worker_id 1\n",
      "03:23:59 INFO:Complete items 08000 in worker_id 0\n",
      "03:24:01 INFO:Complete items 08000 in worker_id 3\n",
      "03:24:15 INFO:Complete items 10000 in worker_id 2\n",
      "03:24:24 INFO:Complete items 09000 in worker_id 1\n",
      "03:24:28 INFO:Complete items 09000 in worker_id 3\n",
      "03:24:34 INFO:Complete items 09000 in worker_id 0\n",
      "03:24:49 INFO:Complete items 11000 in worker_id 2\n",
      "03:24:58 INFO:Complete items 10000 in worker_id 1\n",
      "03:25:07 INFO:Complete items 10000 in worker_id 0\n",
      "03:25:21 INFO:Complete items 10000 in worker_id 3\n",
      "03:25:22 INFO:Complete items 12000 in worker_id 2\n",
      "03:25:24 INFO:Complete items 11000 in worker_id 1\n",
      "03:25:35 INFO:Complete items 11000 in worker_id 0\n",
      "03:25:45 INFO:Complete items 11000 in worker_id 3\n",
      "03:25:51 INFO:Complete items 13000 in worker_id 2\n",
      "03:25:54 INFO:Complete items 12000 in worker_id 1\n",
      "03:26:01 INFO:Complete items 12000 in worker_id 0\n",
      "03:26:09 INFO:Complete items 12000 in worker_id 3\n",
      "03:26:17 INFO:Complete items 13000 in worker_id 1\n",
      "03:26:26 INFO:Complete items 13000 in worker_id 0\n",
      "03:26:30 INFO:Complete items 14000 in worker_id 2\n",
      "03:26:34 INFO:Complete items 13000 in worker_id 3\n",
      "03:26:49 INFO:Complete items 14000 in worker_id 1\n",
      "03:26:53 INFO:Complete items 14000 in worker_id 0\n",
      "03:27:01 INFO:Complete items 15000 in worker_id 2\n",
      "03:27:01 INFO:Complete items 14000 in worker_id 3\n",
      "03:27:16 INFO:Complete items 15000 in worker_id 1\n",
      "03:27:30 INFO:Complete items 15000 in worker_id 0\n",
      "03:27:30 INFO:Complete items 15000 in worker_id 3\n",
      "03:27:40 INFO:Complete items 16000 in worker_id 2\n",
      "03:27:41 INFO:Complete items 16038 in worker_id 2\n",
      "03:27:48 INFO:Complete items 16000 in worker_id 1\n",
      "03:27:49 INFO:Complete items 16038 in worker_id 1\n",
      "03:27:55 INFO:Complete items 16000 in worker_id 0\n",
      "03:27:56 INFO:Complete items 16038 in worker_id 0\n",
      "03:28:03 INFO:Complete items 16000 in worker_id 3\n",
      "03:28:06 INFO:Complete items 16038 in worker_id 3\n"
     ]
    },
    {
     "name": "stdout",
     "output_type": "stream",
     "text": [
      "CPU times: user 3.55 s, sys: 731 ms, total: 4.28 s\n",
      "Wall time: 8min 23s\n"
     ]
    }
   ],
   "source": [
    "%%time\n",
    "\n",
    "TEST_DATA_FILE  = 'kaggle_test_data_tab.csv.gz'\n",
    "# TEST_DATA_FILE  = 'kaggle/kaggle_train_data_tab_300.csv.gz'\n",
    "\n",
    "test_docs = list(load_csv_multiprocess(TEST_DATA_FILE, calc_features))"
   ]
  },
  {
   "cell_type": "code",
   "execution_count": 28,
   "metadata": {},
   "outputs": [
    {
     "name": "stderr",
     "output_type": "stream",
     "text": [
      "03:28:06 INFO:Complete items 00000\n"
     ]
    },
    {
     "name": "stdout",
     "output_type": "stream",
     "text": [
      "16039\n"
     ]
    },
    {
     "name": "stderr",
     "output_type": "stream",
     "text": [
      "03:28:12 INFO:Complete items 01000\n",
      "03:28:21 INFO:Complete items 02000\n",
      "03:28:27 INFO:Complete items 03000\n",
      "03:28:33 INFO:Complete items 04000\n",
      "03:28:39 INFO:Complete items 05000\n",
      "03:28:46 INFO:Complete items 06000\n",
      "03:28:52 INFO:Complete items 07000\n",
      "03:28:59 INFO:Complete items 08000\n",
      "03:29:06 INFO:Complete items 09000\n",
      "03:29:14 INFO:Complete items 10000\n",
      "03:29:22 INFO:Complete items 11000\n",
      "03:29:29 INFO:Complete items 12000\n",
      "03:29:35 INFO:Complete items 13000\n",
      "03:29:44 INFO:Complete items 14000\n",
      "03:29:51 INFO:Complete items 15000\n",
      "03:29:58 INFO:Complete items 16000\n"
     ]
    },
    {
     "name": "stdout",
     "output_type": "stream",
     "text": [
      "CPU times: user 1min 52s, sys: 59.2 ms, total: 1min 52s\n",
      "Wall time: 1min 52s\n"
     ]
    }
   ],
   "source": [
    "%%time\n",
    "print(len(test_docs))\n",
    "with open('my_submission.csv' , 'wt') as fout:\n",
    "    writer = csv.writer(fout)\n",
    "    writer.writerow(['Id','Prediction'])\n",
    "    for item in classifier.predict_all(test_docs):\n",
    "        writer.writerow([item[0], item[3]])"
   ]
  },
  {
   "cell_type": "code",
   "execution_count": null,
   "metadata": {},
   "outputs": [],
   "source": []
  }
 ],
 "metadata": {
  "anaconda-cloud": {},
  "kernelspec": {
   "display_name": "Python 3",
   "language": "python",
   "name": "python3"
  },
  "language_info": {
   "codemirror_mode": {
    "name": "ipython",
    "version": 3
   },
   "file_extension": ".py",
   "mimetype": "text/x-python",
   "name": "python",
   "nbconvert_exporter": "python",
   "pygments_lexer": "ipython3",
   "version": "3.7.4"
  }
 },
 "nbformat": 4,
 "nbformat_minor": 1
}
