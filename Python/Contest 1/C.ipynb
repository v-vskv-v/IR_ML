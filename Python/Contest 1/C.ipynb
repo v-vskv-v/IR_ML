{
 "cells": [
  {
   "cell_type": "code",
   "execution_count": 34,
   "metadata": {},
   "outputs": [
    {
     "name": "stdout",
     "output_type": "stream",
     "text": [
      "10 7\n",
      "[1, 2, 1, 2, 1, 3, 4, 5, 6, 7]\n",
      "1 2 1 2 1 3 4 5 6 7\n"
     ]
    }
   ],
   "source": [
    "nums = input().split()\n",
    "n = int (nums[0])\n",
    "k = int (nums[1])\n",
    "if k == 1:\n",
    "    arr = [1 for i in range (n)]\n",
    "elif k == 2:\n",
    "    arr = [i % 2 + 1 for i in range (n)]\n",
    "else:\n",
    "    arr = [0 for i in range (n)]\n",
    "    for i in range (n - k + 2):\n",
    "        arr[i] = i % 2 + 1\n",
    "    for i in range (n - k + 2, n):\n",
    "        arr[i] = i - n + k + 1\n",
    "print (' '.join ([str (el) for el in arr]))"
   ]
  },
  {
   "cell_type": "code",
   "execution_count": null,
   "metadata": {},
   "outputs": [],
   "source": []
  }
 ],
 "metadata": {
  "kernelspec": {
   "display_name": "Python 3",
   "language": "python",
   "name": "python3"
  },
  "language_info": {
   "codemirror_mode": {
    "name": "ipython",
    "version": 3
   },
   "file_extension": ".py",
   "mimetype": "text/x-python",
   "name": "python",
   "nbconvert_exporter": "python",
   "pygments_lexer": "ipython3",
   "version": "3.7.1"
  }
 },
 "nbformat": 4,
 "nbformat_minor": 2
}
