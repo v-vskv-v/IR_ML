{
 "cells": [
  {
   "cell_type": "code",
   "execution_count": 52,
   "metadata": {},
   "outputs": [
    {
     "name": "stdout",
     "output_type": "stream",
     "text": [
      "10\n",
      "7 10 3 2 7 4 8 5 9 10\n",
      "7 10 3 2 4 8 5 9\n",
      "2\n"
     ]
    }
   ],
   "source": [
    "n = int (input())\n",
    "s = input().split()\n",
    "arr = []\n",
    "\n",
    "for el in s:\n",
    "    if not el in arr:\n",
    "        arr.append (el)\n",
    "res = len (s) - len (arr)\n",
    "arr = ' '.join(arr)\n",
    "print (arr)\n",
    "print (res)"
   ]
  },
  {
   "cell_type": "code",
   "execution_count": null,
   "metadata": {},
   "outputs": [],
   "source": []
  }
 ],
 "metadata": {
  "kernelspec": {
   "display_name": "Python 3",
   "language": "python",
   "name": "python3"
  },
  "language_info": {
   "codemirror_mode": {
    "name": "ipython",
    "version": 3
   },
   "file_extension": ".py",
   "mimetype": "text/x-python",
   "name": "python",
   "nbconvert_exporter": "python",
   "pygments_lexer": "ipython3",
   "version": "3.7.1"
  }
 },
 "nbformat": 4,
 "nbformat_minor": 2
}
