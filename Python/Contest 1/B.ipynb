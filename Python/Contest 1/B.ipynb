{
 "cells": [
  {
   "cell_type": "code",
   "execution_count": 3,
   "metadata": {},
   "outputs": [
    {
     "name": "stdout",
     "output_type": "stream",
     "text": [
      "4\n",
      "14 19 54 100\n",
      "100 14 54 19\n"
     ]
    }
   ],
   "source": [
    "def sum (num):\n",
    "\tres = 0\n",
    "\tfor i in num:\n",
    "\t\tres += int (i)\n",
    "\treturn res\n",
    "\n",
    "n = int (input())\n",
    "arr = input().split()\n",
    "digits = [0 for i in range (len (arr))]\n",
    "for i in range (len (arr)):\n",
    "\tdigits[i] = sum (arr[i])\n",
    "\n",
    "for i in range (len (digits), 0, -1):\n",
    "\tfor j in range (1, i):\n",
    "\t\tif digits[j - 1] > digits[j]:\n",
    "\t\t\tdigits[j - 1], digits[j] = digits[j], digits[j - 1]\n",
    "\t\t\tarr[j - 1], arr[j] = arr[j], arr[j - 1]\n",
    "\t\telif digits[j - 1] == digits[j] and arr[j - 1] > arr[j]:\n",
    "\t\t\tarr[j - 1], arr[j] = arr[j], arr[j - 1]\n",
    "arr = ' '.join (arr)\n",
    "print (arr)\n",
    "\t"
   ]
  },
  {
   "cell_type": "code",
   "execution_count": 9,
   "metadata": {},
   "outputs": [
    {
     "name": "stdout",
     "output_type": "stream",
     "text": [
      "3\n",
      "19 100 3\n",
      "100 3 19\n"
     ]
    }
   ],
   "source": [
    "def sum (num):\n",
    "\tres = 0\n",
    "\tfor i in num:\n",
    "\t\tres += int (i)\n",
    "\treturn res\n",
    "\n",
    "n = int (input())\n",
    "arr = input().split()\n",
    "digits = [0 for i in range (len (arr))]\n",
    "for i in range (len (arr)):\n",
    "\tdigits[i] = sum (arr[i])\n",
    "\n",
    "arr = ' '.join (sorted (arr, key = sum))\n",
    "print (arr)\n"
   ]
  },
  {
   "cell_type": "code",
   "execution_count": null,
   "metadata": {},
   "outputs": [],
   "source": []
  }
 ],
 "metadata": {
  "kernelspec": {
   "display_name": "Python 3",
   "language": "python",
   "name": "python3"
  },
  "language_info": {
   "codemirror_mode": {
    "name": "ipython",
    "version": 3
   },
   "file_extension": ".py",
   "mimetype": "text/x-python",
   "name": "python",
   "nbconvert_exporter": "python",
   "pygments_lexer": "ipython3",
   "version": "3.7.1"
  }
 },
 "nbformat": 4,
 "nbformat_minor": 2
}
