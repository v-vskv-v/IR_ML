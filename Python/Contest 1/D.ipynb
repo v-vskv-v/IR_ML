{
 "cells": [
  {
   "cell_type": "code",
   "execution_count": 20,
   "metadata": {},
   "outputs": [
    {
     "name": "stdout",
     "output_type": "stream",
     "text": [
      "10\n",
      "3\n",
      "8 10\n",
      "2 9\n",
      "1 3\n",
      "1\n"
     ]
    }
   ],
   "source": [
    "n = int (input())\n",
    "k = int (input())\n",
    "nout = 0\n",
    "arr = [0 for i in range (n)]\n",
    "for i in range (k):\n",
    "    msg = input().split()\n",
    "    start = int (msg[0]) - 1\n",
    "    end = int (msg[1]) - 1\n",
    "    while 2 in arr[start:end + 1]:\n",
    "        r = arr.index (2, start, end + 1)\n",
    "        arr[r] = 0\n",
    "        r -= 1\n",
    "        nout += 1\n",
    "        while arr[r] == 1:\n",
    "            arr[r] = 0\n",
    "            r -= 1\n",
    "    if 1 in arr[start:end + 1]:\n",
    "        r = arr.index (1, start, end + 1)\n",
    "        p = r - 1\n",
    "        nout += 1\n",
    "        while arr[r] == 1:\n",
    "            arr[r] = 0\n",
    "            r += 1\n",
    "        arr[r] = 0\n",
    "        while arr[p] == 1:\n",
    "            arr[p] = 0\n",
    "            p -= 1\n",
    "    for j in range (start, end):\n",
    "        arr[j] = 1\n",
    "    arr[end] = 2\n",
    "print (k - nout)        \n",
    "        "
   ]
  },
  {
   "cell_type": "code",
   "execution_count": null,
   "metadata": {},
   "outputs": [],
   "source": []
  }
 ],
 "metadata": {
  "kernelspec": {
   "display_name": "Python 3",
   "language": "python",
   "name": "python3"
  },
  "language_info": {
   "codemirror_mode": {
    "name": "ipython",
    "version": 3
   },
   "file_extension": ".py",
   "mimetype": "text/x-python",
   "name": "python",
   "nbconvert_exporter": "python",
   "pygments_lexer": "ipython3",
   "version": "3.7.1"
  }
 },
 "nbformat": 4,
 "nbformat_minor": 2
}
