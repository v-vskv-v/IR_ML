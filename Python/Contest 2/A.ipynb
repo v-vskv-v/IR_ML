{
 "cells": [
  {
   "cell_type": "code",
   "execution_count": 1,
   "metadata": {},
   "outputs": [],
   "source": [
    "def solution1(arg):\n",
    "    return [4 * i for i in arg]"
   ]
  },
  {
   "cell_type": "code",
   "execution_count": 2,
   "metadata": {},
   "outputs": [],
   "source": [
    "def solution2(arg):\n",
    "    return [i * arg[i - 1] for i in range (1, len(arg) + 1)]"
   ]
  },
  {
   "cell_type": "code",
   "execution_count": 3,
   "metadata": {},
   "outputs": [],
   "source": [
    "def solution3(arg):\n",
    "    return [i for i in arg if i % 3 == 0 or i % 5 == 0]"
   ]
  },
  {
   "cell_type": "code",
   "execution_count": 4,
   "metadata": {},
   "outputs": [],
   "source": [
    "def solution4(arg):\n",
    "    return [t for x in arg for t in x]"
   ]
  },
  {
   "cell_type": "code",
   "execution_count": 5,
   "metadata": {},
   "outputs": [],
   "source": [
    "def solution5(arg):\n",
    "    return [(i, j, k) for i in range (1, arg + 1) for j in range (i, arg + 1) for k in range (j, arg + 1)  if i ** 2 + j ** 2 == k ** 2]"
   ]
  },
  {
   "cell_type": "code",
   "execution_count": 6,
   "metadata": {},
   "outputs": [],
   "source": [
    "def solution6(arg):\n",
    "    return [[i + j for i in arg[1]] for j in arg[0]]"
   ]
  },
  {
   "cell_type": "code",
   "execution_count": 7,
   "metadata": {},
   "outputs": [],
   "source": [
    "def solution7(arg):\n",
    "    return [[arg[i][j] for i in range(len(arg))] for j in range(len(arg))]"
   ]
  },
  {
   "cell_type": "code",
   "execution_count": 8,
   "metadata": {},
   "outputs": [],
   "source": [
    "def solution8(arg):\n",
    "    return [list(map(int, j)) for j in [i.split() for i in arg]]"
   ]
  },
  {
   "cell_type": "code",
   "execution_count": 9,
   "metadata": {},
   "outputs": [],
   "source": [
    "def solution9(arg):\n",
    "    return dict([(chr(i + ord('a')), i ** 2) for i in arg])"
   ]
  },
  {
   "cell_type": "code",
   "execution_count": 10,
   "metadata": {},
   "outputs": [],
   "source": [
    "def solution10(arg):\n",
    "    return set(i.capitalize() for i in arg if len(i) > 3)"
   ]
  },
  {
   "cell_type": "code",
   "execution_count": 11,
   "metadata": {},
   "outputs": [],
   "source": [
    "solutions = {\n",
    "    'solution1': solution1,\n",
    "    'solution2': solution2,\n",
    "    'solution3': solution3,\n",
    "    'solution4': solution4,\n",
    "    'solution5': solution5,\n",
    "    'solution6': solution6,\n",
    "    'solution7': solution7,\n",
    "    'solution8': solution8,\n",
    "    'solution9': solution9,\n",
    "    'solution10': solution10,\n",
    "}"
   ]
  }
 ],
 "metadata": {
  "kernelspec": {
   "display_name": "Python 3",
   "language": "python",
   "name": "python3"
  },
  "language_info": {
   "codemirror_mode": {
    "name": "ipython",
    "version": 3
   },
   "file_extension": ".py",
   "mimetype": "text/x-python",
   "name": "python",
   "nbconvert_exporter": "python",
   "pygments_lexer": "ipython3",
   "version": "3.7.1"
  }
 },
 "nbformat": 4,
 "nbformat_minor": 2
}
