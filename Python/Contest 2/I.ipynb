{
 "cells": [
  {
   "cell_type": "code",
   "execution_count": 1,
   "metadata": {},
   "outputs": [],
   "source": [
    "import copy\n",
    "\n",
    "class FragileDict:\n",
    "    def __init__(self, _data={}):\n",
    "        self._data = copy.deepcopy(_data)\n",
    "        self._lock = 0\n",
    "    \n",
    "    def __setitem__(self, X, y):\n",
    "        if self._lock:\n",
    "            self.copy[X] = y\n",
    "        else:\n",
    "            raise RuntimeError(\"Protected state\")\n",
    "\n",
    "    def __enter__(self):\n",
    "        self._lock = 1\n",
    "        self.copy = copy.deepcopy(self._data)\n",
    "        self.backup = copy.deepcopy(self._data)\n",
    "        return self\n",
    "            \n",
    "    def __exit__(self, exc_type, exc_value, traceback):\n",
    "        if exc_type is not None:\n",
    "            print(\"Exception has been suppressed.\")\n",
    "            self._data = self.backup\n",
    "            delattr(self, 'copy')\n",
    "            delattr(self, 'backup')\n",
    "            self._lock = 0\n",
    "            return True\n",
    "        self._data = copy.deepcopy(self.copy)\n",
    "        delattr(self, 'copy')\n",
    "        delattr(self, 'backup')\n",
    "        self._lock = 0\n",
    "        return True\n",
    "    \n",
    "    def __getitem__(self, X):        \n",
    "        if self._lock:\n",
    "            return self.copy[X]\n",
    "        else:\n",
    "            return copy.deepcopy(self._data[X])\n",
    "        \n",
    "    def __contains__(self, X):\n",
    "        if self._lock:\n",
    "            return X in self.copy.keys()\n",
    "        else:\n",
    "            return X in self._data.keys()"
   ]
  },
  {
   "cell_type": "code",
   "execution_count": null,
   "metadata": {},
   "outputs": [],
   "source": []
  }
 ],
 "metadata": {
  "kernelspec": {
   "display_name": "Python 3",
   "language": "python",
   "name": "python3"
  },
  "language_info": {
   "codemirror_mode": {
    "name": "ipython",
    "version": 3
   },
   "file_extension": ".py",
   "mimetype": "text/x-python",
   "name": "python",
   "nbconvert_exporter": "python",
   "pygments_lexer": "ipython3",
   "version": "3.7.1"
  }
 },
 "nbformat": 4,
 "nbformat_minor": 2
}
