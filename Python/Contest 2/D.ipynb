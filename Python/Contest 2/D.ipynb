{
 "cells": [
  {
   "cell_type": "code",
   "execution_count": 1,
   "metadata": {},
   "outputs": [],
   "source": [
    "def counter(func):\n",
    "    import functools\n",
    "    @functools.wraps(func)\n",
    "    def wrapper(*argc, **argv):    \n",
    "        if wrapper.rec == 0:\n",
    "            wrapper.deep = []\n",
    "            wrapper.ncalls = 0\n",
    "        wrapper.ncalls += 1\n",
    "        wrapper.rec += 1\n",
    "        wrapper.deep.append(wrapper.rec)\n",
    "        wrapper.rdepth = max(wrapper.deep)\n",
    "        result = func(*argc, **argv)\n",
    "        wrapper.rec -= 1\n",
    "        return result\n",
    "    wrapper.rec = 0\n",
    "    wrapper.deep = []\n",
    "    return wrapper"
   ]
  },
  {
   "cell_type": "code",
   "execution_count": null,
   "metadata": {},
   "outputs": [],
   "source": []
  }
 ],
 "metadata": {
  "kernelspec": {
   "display_name": "Python 3",
   "language": "python",
   "name": "python3"
  },
  "language_info": {
   "codemirror_mode": {
    "name": "ipython",
    "version": 3
   },
   "file_extension": ".py",
   "mimetype": "text/x-python",
   "name": "python",
   "nbconvert_exporter": "python",
   "pygments_lexer": "ipython3",
   "version": "3.7.1"
  }
 },
 "nbformat": 4,
 "nbformat_minor": 2
}
