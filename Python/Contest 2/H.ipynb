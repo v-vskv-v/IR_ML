{
 "cells": [
  {
   "cell_type": "code",
   "execution_count": 1,
   "metadata": {},
   "outputs": [],
   "source": [
    "\n",
    "\n",
    "class BinarySearchTree:\n",
    "    def __init__(self, root=None, nodes=[]):\n",
    "        self.nodes = nodes\n",
    "        self.root = root\n",
    "        if root:\n",
    "            self.nodes.append(root)\n",
    "            \n",
    "    def __iter__(self):\n",
    "        for i in self.nodes:\n",
    "            if i != None:\n",
    "                yield i\n",
    "    \n",
    "    def __contains__(self, X):\n",
    "        return X in self.nodes\n",
    "    \n",
    "    def empty(self):\n",
    "        return not len(self.nodes)\n",
    "    \n",
    "    def check(self, X):\n",
    "        if X in self.nodes:\n",
    "            return True\n",
    "        else:\n",
    "            return False\n",
    "        \n",
    "    def append(self, X):\n",
    "        if self.empty():\n",
    "            self.root = X\n",
    "            self.nodes.append(X)\n",
    "        else:\n",
    "            i = 0\n",
    "            while i < len(self.nodes) and self.nodes[i] != None:\n",
    "                if X < self.nodes[i]:\n",
    "                    i = 2 * i + 1\n",
    "                else:\n",
    "                    i = 2 * i + 2\n",
    "            if i < len(self.nodes):\n",
    "                self.nodes[i] = X\n",
    "            else:\n",
    "                self.nodes += [None for j in range (i-len(self.nodes))] + [X]"
   ]
  },
  {
   "cell_type": "code",
   "execution_count": null,
   "metadata": {},
   "outputs": [],
   "source": []
  }
 ],
 "metadata": {
  "kernelspec": {
   "display_name": "Python 3",
   "language": "python",
   "name": "python3"
  },
  "language_info": {
   "codemirror_mode": {
    "name": "ipython",
    "version": 3
   },
   "file_extension": ".py",
   "mimetype": "text/x-python",
   "name": "python",
   "nbconvert_exporter": "python",
   "pygments_lexer": "ipython3",
   "version": "3.7.1"
  }
 },
 "nbformat": 4,
 "nbformat_minor": 2
}
