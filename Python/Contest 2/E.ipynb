{
 "cells": [
  {
   "cell_type": "code",
   "execution_count": 1,
   "metadata": {},
   "outputs": [],
   "source": [
    "def product(a):\n",
    "    from functools import reduce\n",
    "    yield from reduce(lambda x, y: tuple(k + (j,) for k in x for j in y), a, ((),))"
   ]
  },
  {
   "cell_type": "code",
   "execution_count": 2,
   "metadata": {},
   "outputs": [],
   "source": [
    "def product(a):\n",
    "    def seq(ans, a, i):\n",
    "        if i == len(a):\n",
    "            yield tuple(ans)\n",
    "        else:\n",
    "            for j in a[i]:\n",
    "                yield from seq(ans+[j], a, i+1)\n",
    "    yield from seq([], a, 0)"
   ]
  },
  {
   "cell_type": "code",
   "execution_count": null,
   "metadata": {},
   "outputs": [],
   "source": []
  }
 ],
 "metadata": {
  "kernelspec": {
   "display_name": "Python 3",
   "language": "python",
   "name": "python3"
  },
  "language_info": {
   "codemirror_mode": {
    "name": "ipython",
    "version": 3
   },
   "file_extension": ".py",
   "mimetype": "text/x-python",
   "name": "python",
   "nbconvert_exporter": "python",
   "pygments_lexer": "ipython3",
   "version": "3.7.1"
  }
 },
 "nbformat": 4,
 "nbformat_minor": 2
}
