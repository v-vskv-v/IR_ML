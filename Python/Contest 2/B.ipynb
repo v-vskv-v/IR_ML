{
 "cells": [
  {
   "cell_type": "code",
   "execution_count": 1,
   "metadata": {},
   "outputs": [
    {
     "data": {
      "text/plain": [
       "[21, 652, 2048, 1996]"
      ]
     },
     "execution_count": 1,
     "metadata": {},
     "output_type": "execute_result"
    }
   ],
   "source": [
    "def solution1(arg):\n",
    "    import re\n",
    "    return list(map(int, [re.sub(r'[\\,\\s\\.\\-]', '', i)[::-1] for i in arg]))\n",
    "solution1(['12', '25.6', '84,02', '  69-91'])"
   ]
  },
  {
   "cell_type": "code",
   "execution_count": 2,
   "metadata": {},
   "outputs": [
    {
     "data": {
      "text/plain": [
       "[6, 15, 28]"
      ]
     },
     "execution_count": 2,
     "metadata": {},
     "output_type": "execute_result"
    }
   ],
   "source": [
    "def solution2(arg):\n",
    "    return list(map(lambda x: x[0] * x[1], arg))\n",
    "solution2(zip(range(2, 5), range(3, 9, 2)))"
   ]
  },
  {
   "cell_type": "code",
   "execution_count": 3,
   "metadata": {},
   "outputs": [],
   "source": [
    "def solution3(arg):\n",
    "    return list(filter(lambda x: x % 6 in [0, 2, 5], arg))"
   ]
  },
  {
   "cell_type": "code",
   "execution_count": 4,
   "metadata": {},
   "outputs": [],
   "source": [
    "def solution4(arg):\n",
    "    return list(filter(lambda x: x, arg))"
   ]
  },
  {
   "cell_type": "code",
   "execution_count": 5,
   "metadata": {},
   "outputs": [],
   "source": [
    "def solution5(arg):\n",
    "    from operator import setitem\n",
    "    list(map(setitem, arg, [\"square\" for i in range(len(arg))], [i['width'] * i['length'] for i in arg]))\n",
    "    return arg"
   ]
  },
  {
   "cell_type": "code",
   "execution_count": 6,
   "metadata": {},
   "outputs": [],
   "source": [
    "def solution6(arg):\n",
    "    return [dict(i, square = i[\"length\"] * i[\"width\"]) for i in arg]"
   ]
  },
  {
   "cell_type": "code",
   "execution_count": 7,
   "metadata": {},
   "outputs": [],
   "source": [
    "def solution7(arg):\n",
    "    from functools import reduce\n",
    "    return reduce(lambda x, y: {i for i in x if i in y}, arg)"
   ]
  },
  {
   "cell_type": "code",
   "execution_count": 8,
   "metadata": {},
   "outputs": [
    {
     "data": {
      "text/plain": [
       "{1: 3, 2: 4, 3: 2, 4: 2}"
      ]
     },
     "execution_count": 8,
     "metadata": {},
     "output_type": "execute_result"
    }
   ],
   "source": [
    "def solution8(arg):\n",
    "    from functools import reduce\n",
    "    from operator import setitem\n",
    "    return reduce(lambda x,y: setitem(x, y, 1) or x if y not in x else setitem(x, y, 1 + x[y]) or x, arg, {})\n",
    "solution8([1, 2, 1, 1, 3, 2, 3, 2, 4, 2, 4])"
   ]
  },
  {
   "cell_type": "code",
   "execution_count": 9,
   "metadata": {},
   "outputs": [],
   "source": [
    "def solution9(arg):\n",
    "    return list(map(lambda x: x['name'], list(filter(lambda x: float(x['gpa']) > 4.5, arg))))"
   ]
  },
  {
   "cell_type": "code",
   "execution_count": 10,
   "metadata": {},
   "outputs": [],
   "source": [
    "def solution10(arg):\n",
    "    return list(filter(lambda x: sum(list(map(int, x[::2]))) == sum(list(map(int, x[1::2]))), arg))"
   ]
  },
  {
   "cell_type": "code",
   "execution_count": 11,
   "metadata": {},
   "outputs": [],
   "source": [
    "solutions = {\n",
    "    'solution1': solution1,\n",
    "    'solution2': solution2,\n",
    "    'solution3': solution3,\n",
    "    'solution4': solution4,\n",
    "    'solution5': solution5,\n",
    "    'solution6': solution6,\n",
    "    'solution7': solution7,\n",
    "    'solution8': solution8,\n",
    "    'solution9': solution9,\n",
    "    'solution10': solution10,\n",
    "}"
   ]
  }
 ],
 "metadata": {
  "kernelspec": {
   "display_name": "Python 3",
   "language": "python",
   "name": "python3"
  },
  "language_info": {
   "codemirror_mode": {
    "name": "ipython",
    "version": 3
   },
   "file_extension": ".py",
   "mimetype": "text/x-python",
   "name": "python",
   "nbconvert_exporter": "python",
   "pygments_lexer": "ipython3",
   "version": "3.7.1"
  }
 },
 "nbformat": 4,
 "nbformat_minor": 2
}
