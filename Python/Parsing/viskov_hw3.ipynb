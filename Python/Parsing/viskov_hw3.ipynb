{
 "cells": [
  {
   "cell_type": "code",
   "execution_count": 1,
   "metadata": {},
   "outputs": [],
   "source": [
    "from bs4 import BeautifulSoup\n",
    "from selenium import webdriver\n",
    "from multiprocessing import Pool, Lock, Value\n",
    "from multiprocessing.dummy import Pool as ThreadPool\n",
    "from time import sleep\n",
    "import requests\n",
    "import pandas as pd"
   ]
  },
  {
   "cell_type": "code",
   "execution_count": 2,
   "metadata": {},
   "outputs": [],
   "source": [
    "authors_id = {\n",
    "  \"Дарья Донцова\":  29369,\n",
    "  \"Джеймс Роллинс\": 29442,\n",
    "  \"Макс Фрай\":      102994,\n",
    "  \"Эрин Хантер\":    26149,\n",
    "  \"Дмитрий Емец\":   35952\n",
    "}"
   ]
  },
  {
   "cell_type": "code",
   "execution_count": 3,
   "metadata": {},
   "outputs": [
    {
     "name": "stdout",
     "output_type": "stream",
     "text": [
      "Quantity:  1774\n"
     ]
    }
   ],
   "source": [
    "driver = webdriver.Chrome('C:/Users/miracle/Jupyter/Homework/Parsing/chromedriver.exe')\n",
    "books_id = []\n",
    "for name in authors_id:\n",
    "    books_url = \"https://www.bookvoed.ru/author/books?id=\" + str(authors_id[name])\n",
    "    driver.get(books_url)\n",
    "    sleep(1)\n",
    "    notEnd=1\n",
    "    while notEnd:\n",
    "        try:\n",
    "            driver.find_elements_by_class_name('uy')[-1].click()\n",
    "            sleep(2.5)\n",
    "        except:\n",
    "            notEnd = 0\n",
    "            pass\n",
    "    books_info = driver.find_elements_by_class_name('gf')\n",
    "    for qual in books_info:\n",
    "        books_id.append(qual.get_attribute(\"data-book\"))\n",
    "driver.quit()        \n",
    "print(\"Quantity: \", len(books_id))"
   ]
  },
  {
   "cell_type": "code",
   "execution_count": 4,
   "metadata": {},
   "outputs": [],
   "source": [
    "class Book():\n",
    "    def __init__(self):\n",
    "        self.info = dict.fromkeys([\"ID\", \"Название\", \"Обложка\", \"Возраст\", \"Описание\",\n",
    "                        \"Рейтинг\", \"Понравилось\", \"В закладки\", \"Не понравилось\", \"Цена\", \n",
    "                        \"Серия\", \"Издательство\", \"Год\", \"Страниц\", \"Переплёт\", \"ISBN\", \n",
    "                        \"Размеры\", \"Формат\", \"Код\", \"В базе\", \"Автор\", \"Тематика\", \"Тираж\"])\n",
    "ages = {'ov': '0+', 'pv': '6+', 'qv': '12+', 'rv': '16+', 'sv': '18+'}        "
   ]
  },
  {
   "cell_type": "code",
   "execution_count": 5,
   "metadata": {},
   "outputs": [],
   "source": [
    "def extract_book_info(book_id):\n",
    "    site = requests.get(\"https://www.bookvoed.ru/book?id=\"+str(book_id)).text\n",
    "    sleep(0.5)\n",
    "    soap = BeautifulSoup(site, 'html.parser')\n",
    "    book = Book()\n",
    "    \n",
    "    book.info['ID'] = book_id\n",
    "    buf = soap.find('div', class_='Af')\n",
    "    if buf:\n",
    "        book.info['Название'] = buf.text\n",
    "    buf = soap.find('img')\n",
    "    if buf:\n",
    "        book.info['Обложка'] = buf['src']\n",
    "    for age in ages:\n",
    "        if soap.find('div', class_=age+' nM'):\n",
    "            book.info['Возраст'] = ages[age]\n",
    "    buf = soap.find('div', class_='lw')\n",
    "    if buf:\n",
    "        book.info['Описание'] = buf.contents[0].strip()\n",
    "\n",
    "    buf = soap.find('div', class_='He xe ')\n",
    "    temp = buf.find('div', class_='af')\n",
    "    if temp:\n",
    "        book.info['Рейтинг'] = temp['style'].split()[1]\n",
    "    temp = buf.find(class_='Ke Me ')\n",
    "    if temp:\n",
    "        book.info['Понравилось'] = temp.text.strip()\n",
    "    temp = buf.find(class_='Ke Le ff')\n",
    "    if temp:\n",
    "        book.info['В закладки'] = temp.text.strip()\n",
    "    temp = buf.find(class_='Ke Oe ')\n",
    "    if temp:\n",
    "        book.info['Не понравилось'] = temp.text.strip()\n",
    "        \n",
    "    buf = soap.find('meta', itemprop='price')\n",
    "    if buf:\n",
    "        book.info['Цена'] = buf['content']\n",
    "    table = soap.find('table', class_='tw')\n",
    "    rows = table.find_all('tr')\n",
    "    data = [list(map(lambda x: x.text, row.find_all('td'))) for row in rows]\n",
    "    for pare in data:\n",
    "        book.info[pare[0].replace(':', '')] = pare[1]\n",
    "    return book.info"
   ]
  },
  {
   "cell_type": "code",
   "execution_count": 6,
   "metadata": {},
   "outputs": [
    {
     "name": "stdout",
     "output_type": "stream",
     "text": [
      "1770 objects are processed..."
     ]
    }
   ],
   "source": [
    "#ОС: Windows 10\n",
    "#Pool находится в вечном состоянии ожидании и отказывается запускаться\n",
    "#Но насколько мне удалось вкусить многопоточное программирование и\n",
    "#многозадачность, разница между управлениями потоками и процессами не велика\n",
    "\n",
    "mutex = Lock()\n",
    "n_processed = Value('i', 0)\n",
    "\n",
    "def func_wrapper(uid):\n",
    "    result = extract_book_info(uid) \n",
    "    with mutex:\n",
    "        global n_processed\n",
    "        n_processed.value += 1\n",
    "        if n_processed.value % 10 == 0:\n",
    "            print(f\"\\r{n_processed.value} objects are processed...\", \n",
    "                  end='', flush=True)\n",
    "    return result\n",
    "\n",
    "with ThreadPool(10) as pool:\n",
    "    result = pool.map(func_wrapper, books_id)"
   ]
  },
  {
   "cell_type": "code",
   "execution_count": 7,
   "metadata": {},
   "outputs": [],
   "source": [
    "df = pd.DataFrame(result)\n",
    "df.sort_values(by=['ID'], inplace=True)"
   ]
  },
  {
   "cell_type": "code",
   "execution_count": 8,
   "metadata": {},
   "outputs": [],
   "source": [
    "with open('hw_3.csv', mode='w', encoding='utf-8-sig') as f_csv:\n",
    "    df.to_csv(f_csv, index=False)"
   ]
  }
 ],
 "metadata": {
  "kernelspec": {
   "display_name": "Python 3",
   "language": "python",
   "name": "python3"
  },
  "language_info": {
   "codemirror_mode": {
    "name": "ipython",
    "version": 3
   },
   "file_extension": ".py",
   "mimetype": "text/x-python",
   "name": "python",
   "nbconvert_exporter": "python",
   "pygments_lexer": "ipython3",
   "version": "3.7.1"
  }
 },
 "nbformat": 4,
 "nbformat_minor": 2
}
